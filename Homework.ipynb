{
 "cells": [
  {
   "cell_type": "code",
   "execution_count": 1,
   "metadata": {},
   "outputs": [],
   "source": [
    "import pandas as pd\n",
    "import numpy as np\n",
    "import matplotlib.pyplot as plt\n",
    "import time\n",
    "from scipy.spatial.distance import euclidean\n",
    "plt.rcParams['figure.figsize'] = [10, 5]\n",
    "\n",
    "# For results repeatability\n",
    "np.random.seed(0)"
   ]
  },
  {
   "cell_type": "markdown",
   "metadata": {},
   "source": [
    "# Dataset preprocessing"
   ]
  },
  {
   "cell_type": "markdown",
   "metadata": {},
   "source": [
    "## Dataset 1"
   ]
  },
  {
   "cell_type": "markdown",
   "metadata": {},
   "source": [
    "A function to upload and preprocess data in the \"adults\" format."
   ]
  },
  {
   "cell_type": "code",
   "execution_count": 2,
   "metadata": {},
   "outputs": [],
   "source": [
    "def get_clean_dataset1(data_file):\n",
    "    dataset = pd.read_csv(\"data/adult.data\", header=None)\n",
    "    dataset.columns = [\"age\",\"workclass\",\"fnlwgt\",\"education\",\"education-num\",\"marital-status\",\"occupation\",\"relationship\",\"race\",\"sex\",\"capital-gain\",\"capital-loss\",\"hours-per-week\",\"native-country\",\"salary\"]\n",
    "    dataset = dataset[(dataset!=\" ?\").all(axis=1)].reset_index(drop=True)\n",
    "    df_strings = dataset.select_dtypes(['object'])\n",
    "    dataset[df_strings.columns] = df_strings.apply(lambda x: x.str.strip())\n",
    "    clean_dataset = pd.DataFrame(dataset[\"age\"])\n",
    "    for col in dataset.columns[1:-1]:\n",
    "        if(dataset[col].dtype =='O'):\n",
    "            clean_dataset = clean_dataset.join(pd.get_dummies(dataset[col], prefix=col))\n",
    "        else:\n",
    "            clean_dataset = clean_dataset.join(dataset[col])\n",
    "    labels = (dataset[\"salary\"]==\">50K\")*1\n",
    "    dataset = clean_dataset\n",
    "    return dataset, labels"
   ]
  },
  {
   "cell_type": "markdown",
   "metadata": {},
   "source": [
    "### Training / Validation dataset"
   ]
  },
  {
   "cell_type": "code",
   "execution_count": 3,
   "metadata": {},
   "outputs": [],
   "source": [
    "dataset, labels = get_clean_dataset1(\"data/adult.data\")"
   ]
  },
  {
   "cell_type": "markdown",
   "metadata": {},
   "source": [
    "### Test dataset"
   ]
  },
  {
   "cell_type": "code",
   "execution_count": 4,
   "metadata": {},
   "outputs": [],
   "source": [
    "test_dataset = get_clean_dataset1(\"data/adult.test\")"
   ]
  },
  {
   "cell_type": "markdown",
   "metadata": {},
   "source": [
    "## Dataset 2"
   ]
  },
  {
   "cell_type": "code",
   "execution_count": null,
   "metadata": {},
   "outputs": [],
   "source": []
  },
  {
   "cell_type": "markdown",
   "metadata": {},
   "source": [
    "### Training / Validation dataset"
   ]
  },
  {
   "cell_type": "code",
   "execution_count": null,
   "metadata": {},
   "outputs": [],
   "source": []
  },
  {
   "cell_type": "markdown",
   "metadata": {},
   "source": [
    "### Test dataset"
   ]
  },
  {
   "cell_type": "code",
   "execution_count": null,
   "metadata": {},
   "outputs": [],
   "source": []
  },
  {
   "cell_type": "markdown",
   "metadata": {},
   "source": [
    "# Utils"
   ]
  },
  {
   "cell_type": "code",
   "execution_count": 5,
   "metadata": {},
   "outputs": [],
   "source": [
    "def plotMeanAndStd(stats, x, color='b', ax = None, legend=None):\n",
    "    \"\"\"\n",
    "    Input : array of tuples (mean std) and their x coordinates\n",
    "    \"\"\"\n",
    "    mean = np.array([s[0] for s in stats])\n",
    "    standard_dev = np.array([s[1] for s in stats])\n",
    "    if ax == None :\n",
    "        plt.plot(x, mean, c=color,label=legend)\n",
    "        plt.fill_between(x, mean-standard_dev, mean+standard_dev, alpha=0.2, color=color)\n",
    "    else:\n",
    "        ax.plot(x, mean, c=color,label=legend)\n",
    "        ax.fill_between(x, mean-standard_dev, mean+standard_dev, alpha=0.2, color=color)  "
   ]
  },
  {
   "cell_type": "code",
   "execution_count": 6,
   "metadata": {},
   "outputs": [],
   "source": [
    "def error(predicted_labels, real_labels, loss=\"euclidean\"):\n",
    "    \"\"\"\n",
    "    Input: numpy array containing respectively the labels an algorithm predicted, and the real labels corresponding\n",
    "    to the data. Type of loss we want to use.\n",
    "    \n",
    "    Output: float, the computed loss.\n",
    "    \"\"\"\n",
    "    if loss == \"euclidean\": return euclidean(predicted_labels, real_labels)\n",
    "    elif loss == \"manhattan\": return sum(abs(predicted_labels - real_labels))\n",
    "    \n",
    "    "
   ]
  },
  {
   "cell_type": "markdown",
   "metadata": {},
   "source": [
    "# Cross validation"
   ]
  },
  {
   "cell_type": "code",
   "execution_count": 7,
   "metadata": {},
   "outputs": [],
   "source": [
    "def cross_validation(algo, dataset_, labels_, loss_=\"manhattan\", folds = 5, algo_kwargs={}):\n",
    "    \"\"\"\n",
    "    Input : Predictor function that works by supplying training set and labels and test set and return predicted labels\n",
    "            dataset  and corresponding labels\n",
    "            folds\n",
    "            algo_kwargs : a dict with additional params for the algo : ex. {'n_neighbors':5}\n",
    "    Output : Precision mean and variance\n",
    "    \"\"\"\n",
    "    dataset_size = dataset_.shape[0]\n",
    "    group_ids = np.tile(np.arange(folds),int(dataset_size/folds)+1)[:dataset_size]\n",
    "    np.random.shuffle(group_ids)\n",
    "    training_precisions = []\n",
    "    validation_precisions = []\n",
    "    for N in range(folds):\n",
    "        training_set = dataset_[group_ids != N]\n",
    "        training_labels = labels_[group_ids != N]\n",
    "        test_set = dataset_[group_ids == N]\n",
    "        test_labels = labels_[group_ids == N]\n",
    "        # Training error\n",
    "        training_predicted_labels = algo(training_set, training_labels, training_set, **algo_kwargs)\n",
    "        training_precisions += [(len(training_labels) - error(training_predicted_labels, training_labels, loss = loss_))/len(training_labels)]\n",
    "    \n",
    "        \n",
    "        # Validation error\n",
    "        validation_predicted_labels = algo(training_set, training_labels, test_set, **algo_kwargs)\n",
    "        validation_precisions += [(len(test_labels) - error(validation_predicted_labels, test_labels, loss = loss_))/len(test_labels)]\n",
    "    \n",
    "    \n",
    "    return (np.mean(training_precisions), np.std(training_precisions), np.mean(validation_precisions), np.std(validation_precisions))"
   ]
  },
  {
   "cell_type": "code",
   "execution_count": 39,
   "metadata": {},
   "outputs": [],
   "source": [
    "def data_size_influence(algo, dataset_, labels_, N_start, N_end, N_step, loss_=\"manhattan\", folds = 5, algo_kwargs={}, show_time=False, visualize=True):\n",
    "    \n",
    "    nrows = dataset_.shape[0]\n",
    "    Ns = []\n",
    "    mean_trainings = []\n",
    "    std_trainings = []\n",
    "    mean_validations = []\n",
    "    std_validations = []\n",
    "    \n",
    "    if show_time: times = []\n",
    "    \n",
    "    for N in range(N_start, N_end+1, N_step):\n",
    "        Ns.append(N)\n",
    "        indices = list(np.random.choice(nrows, N))\n",
    "        d = dataset.iloc[indices]\n",
    "        l = labels.iloc[indices]\n",
    "        \n",
    "        if show_time: t = time.time()\n",
    "        mean_training, std_training, mean_validation, std_validation = cross_validation(knn, d, l, folds = folds, algo_kwargs=algo_kwargs)\n",
    "        if show_time: times.append(time.time() - t)\n",
    "        \n",
    "        mean_trainings.append(mean_training)\n",
    "        std_trainings.append(std_training)\n",
    "        mean_validations.append(mean_validation)\n",
    "        std_validations.append(std_validation)\n",
    "    \n",
    "    if visualize:\n",
    "        fig = plt.figure(figsize=(10,7))\n",
    "        fig.suptitle(\"Influence of training/validation dataset size\")\n",
    "        ax1 = fig.gca()\n",
    "        plotMeanAndStd([i for i in zip(mean_trainings, std_trainings)],Ns, ax= ax1, legend = \"Training\", color='red')\n",
    "        plotMeanAndStd([i for i in zip(mean_validations, std_validations)],Ns, ax= ax1, legend = \"Validation\",color='blue')\n",
    "        ax1.legend(loc=\"lower right\")\n",
    "        ax1.set_ylabel(\"Precision\")\n",
    "        ax1.set_xlabel(\"Dataset sample size\")\n",
    "        ax1.grid()\n",
    "\n",
    "        if show_time:\n",
    "            ax5 = ax1.twinx()\n",
    "            ax5.set_ylabel(\"Computation time (s)\")\n",
    "            ax5.plot(Ns, times, label =\"Computation time\", c=\"orange\")\n",
    "\n",
    "        fig.tight_layout()\n",
    "        plt.show()\n",
    "    \n",
    "    if show_time: return (mean_trainings, std_trainings, mean_validations, std_validations, times)\n",
    "    else: return (mean_trainings, std_trainings, mean_validations, std_validations)"
   ]
  },
  {
   "cell_type": "markdown",
   "metadata": {},
   "source": [
    "# Knn"
   ]
  },
  {
   "cell_type": "markdown",
   "metadata": {},
   "source": [
    "We use scikit-learn's knn function to design a knn classifier."
   ]
  },
  {
   "cell_type": "code",
   "execution_count": 9,
   "metadata": {},
   "outputs": [],
   "source": [
    "from sklearn.neighbors import KNeighborsClassifier"
   ]
  },
  {
   "cell_type": "code",
   "execution_count": 10,
   "metadata": {},
   "outputs": [],
   "source": [
    "def knn(training_features, training_labels, to_predict_features,\n",
    "        n_neighbors=5, weights = \"uniform\", algorithm=\"auto\", p=2):\n",
    "    \n",
    "    \"\"\"\n",
    "    Input: Training data, features for which we want to predict the labels, number of neighbors k for knn algo,\n",
    "    features weights system (uniform or distance), algorithm usewd to find closer k neighbors, p is the value\n",
    "    used in the computation of the minkowski distance that is used here, p=1 gives a manhattan distance, p=2 a\n",
    "    euclidian distance.\n",
    "    \n",
    "    Output: Numpy array containing the labels predicted by KNN for the given 'to_predict_features'\n",
    "    \"\"\"\n",
    "    neigh = KNeighborsClassifier(n_neighbors=n_neighbors, weights=weights, algorithm=algorithm, p=p)\n",
    "    neigh.fit(training_features, training_labels)\n",
    "    \n",
    "    return neigh.predict(to_predict_features)"
   ]
  },
  {
   "cell_type": "markdown",
   "metadata": {},
   "source": [
    "Let us study the influence of the hyperparameter k (number of neighbors) on KNN algorithm's performance."
   ]
  },
  {
   "cell_type": "code",
   "execution_count": 45,
   "metadata": {},
   "outputs": [],
   "source": [
    "def n_neighbors_influence_multiple_datasize(Ks, dataset_, labels_, N_start, N_end, N_step, loss_=\"manhattan\",\n",
    "                                            folds = 5, show_time=False, visualize=True):\n",
    "    \n",
    "    mean_training_per_k = dict()\n",
    "    std_training_per_k = dict()\n",
    "    mean_validation_per_k = dict()\n",
    "    std_validation_per_k = dict()\n",
    "    \n",
    "    if show_time: time_per_k = dict()\n",
    "    \n",
    "    for k in Ks:\n",
    "        print(k)\n",
    "        if show_time: (mean_trainings, std_trainings, mean_validations, std_validations, times) = data_size_influence(knn, dataset_, labels_, N_start, N_end, N_step, loss_=\"manhattan\", folds = folds, algo_kwargs={\"n_neighbors\":k}, show_time=show_time, visualize=False)\n",
    "        else: (mean_trainings, std_trainings, mean_validations, std_validations) = data_size_influence(knn, dataset_, labels_, N_start, N_end, N_step, loss_=\"manhattan\", folds = folds, algo_kwargs={\"n_neighbors\":k}, show_time=show_time, visualize=False)\n",
    "            \n",
    "        mean_training_per_k[k] = mean_trainings\n",
    "        std_training_per_k[k] = std_trainings\n",
    "        mean_validation_per_k[k]  = mean_validations\n",
    "        std_validation_per_k[k]  = std_validations\n",
    "\n",
    "        if show_time: time_per_k[k]  = times\n",
    "    \n",
    "    if visualize:\n",
    "        \n",
    "        Ns = list(range(N_start, N_end, N_step))\n",
    "        \n",
    "        fig = plt.figure(figsize=(15,10))\n",
    "        fig.suptitle(\"Influence of K (in k nearest neighbor) and training/validation dataset size\")\n",
    "        \n",
    "        ax1 = fig.add_subplot(121)\n",
    "        ax1.title.set_text(\"Training precision\")\n",
    "        cmap = plt.get_cmap(\"tab10\")\n",
    "        curveID = 0\n",
    "        for k in Ks:\n",
    "            plotMeanAndStd([i for i in zip(mean_training_per_k[k],std_training_per_k[k])],Ns, legend=\"K = \"+str(k),ax = ax1, color = cmap(curveID))\n",
    "            curveID += 1\n",
    "        ax1.set_ylim(0,1.05)\n",
    "        ax1.set_xlim(N_start,N_end)\n",
    "        ax1.grid()\n",
    "        ax1.legend()\n",
    "        \n",
    "        ax2 = fig.add_subplot(122)\n",
    "        curveID = 0\n",
    "        for k in Ks:\n",
    "            plotMeanAndStd([i for i in zip(mean_validation_per_k[k],std_validation_per_k[k])],Ns, legend=\"K = \"+str(k), ax=ax2,color = cmap(curveID))\n",
    "            curveID += 1\n",
    "        ax2.set_ylim(0,1.05)\n",
    "        ax2.title.set_text(\"Validation precision\")\n",
    "        ax2.set_xlim(N_start,N_end)\n",
    "        ax2.grid()\n",
    "        ax2.legend()\n",
    "        \"\"\"\n",
    "        if show_time:\n",
    "            ax5 = fig.add_subplot(235)\n",
    "            ax5.title.set_text(\"Computation time\")\n",
    "            for k in Ks:\n",
    "                ax5.plot(Ns, time_per_k[k], label=f\"k={k}\")\n",
    "            plt.legend()\n",
    "        \n",
    "        \n",
    "        plt.subplots_adjust(left=0.1,\n",
    "                        bottom=0.1, \n",
    "                        right=3, \n",
    "                        top=3, \n",
    "                        wspace=1, \n",
    "                        hspace=1)\n",
    "\n",
    "        fig.tight_layout()\n",
    "        \"\"\"       \n",
    "        plt.show()\n",
    "        \n",
    "        \n",
    "    \n",
    "    \n",
    "    if show_time: return (mean_training_per_k, std_training_per_k, mean_validation_per_k, std_validation_per_k, time_per_k)\n",
    "    else: return (mean_training_per_k, std_training_per_k, mean_validation_per_k, std_validation_per_k)\n",
    "    "
   ]
  },
  {
   "cell_type": "code",
   "execution_count": 47,
   "metadata": {},
   "outputs": [
    {
     "name": "stdout",
     "output_type": "stream",
     "text": [
      "1\n",
      "2\n",
      "3\n",
      "4\n",
      "5\n",
      "6\n"
     ]
    },
    {
     "data": {
      "image/png": "[encoded data removed]",
      "text/plain": [
       "<Figure size 1080x720 with 2 Axes>"
      ]
     },
     "metadata": {
      "needs_background": "light"
     },
     "output_type": "display_data"
    }
   ],
   "source": [
    "n_neighbors_influence_multiple_datasize(list(range(1, 7)), dataset, labels, 50, 10000, 500, loss_=\"manhattan\",\n",
    "                          folds = 5, show_time=False, visualize=True)\n",
    "pass"
   ]
  },
  {
   "cell_type": "code",
   "execution_count": 48,
   "metadata": {},
   "outputs": [],
   "source": [
    "def n_neighbors_influence_fixed_datasize(Ks, dataset_, labels_, N, loss_=\"manhattan\",\n",
    "                                         folds = 5, show_time=False, visualize=True):\n",
    "    nrows = dataset_.shape[0]\n",
    "    mean_trainings = []\n",
    "    std_trainings = []\n",
    "    mean_validations = []\n",
    "    std_validations = []\n",
    "    \n",
    "    if show_time: times = []\n",
    "    \n",
    "    for k in Ks:\n",
    "        indices = list(np.random.choice(nrows, N))\n",
    "        d = dataset.iloc[indices]\n",
    "        l = labels.iloc[indices]\n",
    "        \n",
    "        if show_time: t = time.time()\n",
    "        mean_training, std_training, mean_validation, std_validation = cross_validation(knn, d, l, folds = folds, algo_kwargs={\"n_neighbors\": k})\n",
    "        if show_time: times.append(time.time() - t)\n",
    "        \n",
    "        mean_trainings.append(mean_training)\n",
    "        std_trainings.append(std_training)\n",
    "        mean_validations.append(mean_validation)\n",
    "        std_validations.append(std_validation)\n",
    "    \n",
    "    if visualize:\n",
    "        fig = plt.figure(figsize=(10,7))\n",
    "        fig.suptitle(\"Influence of training/validation dataset size\")\n",
    "        ax1 = fig.add_subplot(231)\n",
    "        ax1.title.set_text(\"Mean training precision\")\n",
    "        ax1.plot(Ks, mean_trainings)\n",
    "\n",
    "        ax2 = fig.add_subplot(232)\n",
    "        ax2.title.set_text(\"Training precision's standard deviation\")\n",
    "        ax2.plot(Ks, std_trainings)\n",
    "\n",
    "        ax3 = fig.add_subplot(233)\n",
    "        ax3.title.set_text(\"Mean validation precision\")\n",
    "        ax3.plot(Ks, mean_validations)\n",
    "\n",
    "        ax4 = fig.add_subplot(234)\n",
    "        ax4.title.set_text(\"Validation precision's standard deviation\")\n",
    "        ax4.plot(Ks, std_validations)\n",
    "\n",
    "        if show_time:\n",
    "            ax5 = fig.add_subplot(235)\n",
    "            ax5.title.set_text(\"Computation time\")\n",
    "            ax5.plot(Ks, times)\n",
    "        \n",
    "        plt.subplots_adjust(left=0.1,\n",
    "                        bottom=0.1, \n",
    "                        right=3, \n",
    "                        top=3, \n",
    "                        wspace=1, \n",
    "                        hspace=1)\n",
    "\n",
    "        fig.tight_layout()\n",
    "        plt.show()\n",
    "    \n",
    "    if show_time: return (mean_trainings, std_trainings, mean_validations, std_validations, times)\n",
    "    else: \n",
    "        return (mean_trainings, std_trainings, mean_validations, std_validations)\n",
    "    "
   ]
  },
  {
   "cell_type": "code",
   "execution_count": 49,
   "metadata": {},
   "outputs": [
    {
     "data": {
      "image/png": "[encoded data removed]",
      "text/plain": [
       "<Figure size 720x504 with 4 Axes>"
      ]
     },
     "metadata": {
      "needs_background": "light"
     },
     "output_type": "display_data"
    },
    {
     "data": {
      "text/plain": [
       "([1.0,\n",
       "  0.8473750000000001,\n",
       "  0.8331249999999999,\n",
       "  0.8081250000000001,\n",
       "  0.8168749999999999,\n",
       "  0.7965,\n",
       "  0.791125,\n",
       "  0.777125,\n",
       "  0.7798750000000001,\n",
       "  0.7825,\n",
       "  0.7825,\n",
       "  0.7875000000000001,\n",
       "  0.7673749999999999,\n",
       "  0.764875,\n",
       "  0.7848750000000001,\n",
       "  0.77075,\n",
       "  0.764625,\n",
       "  0.7465,\n",
       "  0.7761250000000001,\n",
       "  0.780125,\n",
       "  0.745875,\n",
       "  0.7713750000000001,\n",
       "  0.759375,\n",
       "  0.763375,\n",
       "  0.779625,\n",
       "  0.7473749999999999,\n",
       "  0.7835,\n",
       "  0.7705000000000001,\n",
       "  0.763625,\n",
       "  0.759625,\n",
       "  0.764,\n",
       "  0.75925,\n",
       "  0.7738750000000001,\n",
       "  0.776875,\n",
       "  0.7665,\n",
       "  0.755625,\n",
       "  0.755875,\n",
       "  0.753125,\n",
       "  0.756625,\n",
       "  0.7557500000000001,\n",
       "  0.7541249999999999,\n",
       "  0.753125,\n",
       "  0.756,\n",
       "  0.76425,\n",
       "  0.759625,\n",
       "  0.753625,\n",
       "  0.7381249999999999,\n",
       "  0.7631249999999999,\n",
       "  0.748875,\n",
       "  0.734125,\n",
       "  0.748,\n",
       "  0.7729999999999999,\n",
       "  0.7573749999999999,\n",
       "  0.7521249999999999,\n",
       "  0.76925,\n",
       "  0.7578750000000001,\n",
       "  0.74225,\n",
       "  0.757625,\n",
       "  0.758625,\n",
       "  0.75675,\n",
       "  0.757375,\n",
       "  0.744125,\n",
       "  0.7522499999999999,\n",
       "  0.7538750000000001,\n",
       "  0.7462500000000001,\n",
       "  0.7535000000000001,\n",
       "  0.754,\n",
       "  0.747,\n",
       "  0.748,\n",
       "  0.74725,\n",
       "  0.7575,\n",
       "  0.747875,\n",
       "  0.7726249999999999,\n",
       "  0.750375,\n",
       "  0.751875,\n",
       "  0.752625,\n",
       "  0.7394999999999999,\n",
       "  0.743625,\n",
       "  0.74325,\n",
       "  0.7580000000000001,\n",
       "  0.7535000000000001,\n",
       "  0.73925,\n",
       "  0.746625,\n",
       "  0.7565000000000001,\n",
       "  0.7631249999999999,\n",
       "  0.757,\n",
       "  0.752875,\n",
       "  0.777625,\n",
       "  0.7444999999999999,\n",
       "  0.7455,\n",
       "  0.73675,\n",
       "  0.74925,\n",
       "  0.764375,\n",
       "  0.7595,\n",
       "  0.7643749999999999,\n",
       "  0.756,\n",
       "  0.752625,\n",
       "  0.749125,\n",
       "  0.7659999999999999],\n",
       " [0.0,\n",
       "  0.004301162633521307,\n",
       "  0.00205395959064439,\n",
       "  0.002738612787525823,\n",
       "  0.012605802235478686,\n",
       "  0.007132671308843556,\n",
       "  0.006559820881700983,\n",
       "  0.004042740407199076,\n",
       "  0.0039011216335818034,\n",
       "  0.004257346591481598,\n",
       "  0.005741842038927944,\n",
       "  0.0029315098498896566,\n",
       "  0.004019483797703376,\n",
       "  0.005747281966286318,\n",
       "  0.003652909799050619,\n",
       "  0.005144778906814187,\n",
       "  0.004534589286804247,\n",
       "  0.0033911649915626487,\n",
       "  0.005567764362830031,\n",
       "  0.003046514401738462,\n",
       "  0.0036784847423905398,\n",
       "  0.003674234614174767,\n",
       "  0.004857339806931362,\n",
       "  0.006393355926272203,\n",
       "  0.003925079617026891,\n",
       "  0.00484767985741631,\n",
       "  0.004268342769740987,\n",
       "  0.0034095454242464717,\n",
       "  0.004990616194419289,\n",
       "  0.0037416573867739282,\n",
       "  0.0028668362352949357,\n",
       "  0.003316624790355396,\n",
       "  0.005454356057317852,\n",
       "  0.005929270612815693,\n",
       "  0.005626388717463425,\n",
       "  0.0027669929526473332,\n",
       "  0.003984344362627297,\n",
       "  0.0047269176002972466,\n",
       "  0.003592526965799977,\n",
       "  0.005425633603552672,\n",
       "  0.004517327749898149,\n",
       "  0.0021286732957408005,\n",
       "  0.002518680209951236,\n",
       "  0.006689544080129809,\n",
       "  0.003864906208435096,\n",
       "  0.0031721443851123947,\n",
       "  0.0029315098498896284,\n",
       "  0.0037500000000000055,\n",
       "  0.00251246890528021,\n",
       "  0.007055582895835063,\n",
       "  0.0038405728739343043,\n",
       "  0.0024811791551599006,\n",
       "  0.002604083331999952,\n",
       "  0.006344288770224771,\n",
       "  0.004000000000000024,\n",
       "  0.002920830361387,\n",
       "  0.0025495097567963805,\n",
       "  0.007586995452746764,\n",
       "  0.00491172067609713,\n",
       "  0.0019525624189766747,\n",
       "  0.004426482802406456,\n",
       "  0.004962358310319801,\n",
       "  0.005326818938165627,\n",
       "  0.00463343824821264,\n",
       "  0.0032596012026013398,\n",
       "  0.0039051248379533203,\n",
       "  0.003844639124807413,\n",
       "  0.0047990884551131026,\n",
       "  0.0021794494717703376,\n",
       "  0.003025929609227538,\n",
       "  0.0029315098498896614,\n",
       "  0.003964687881788446,\n",
       "  0.003245188746436761,\n",
       "  0.004636809247747859,\n",
       "  0.009202581159652978,\n",
       "  0.004782781617427232,\n",
       "  0.0052499999999999864,\n",
       "  0.005623610939601,\n",
       "  0.0038810436740650115,\n",
       "  0.006064754735354104,\n",
       "  0.002186606960566987,\n",
       "  0.005114318136369685,\n",
       "  0.0026692695630078167,\n",
       "  0.006864765108872992,\n",
       "  0.005714564725331237,\n",
       "  0.0043553128475460725,\n",
       "  0.004157072287078996,\n",
       "  0.0029947871376777534,\n",
       "  0.008229140295316403,\n",
       "  0.004496526437151254,\n",
       "  0.0031474195780035567,\n",
       "  0.005440013786747223,\n",
       "  0.0008838834764831656,\n",
       "  0.005828271613437381,\n",
       "  0.004275657844121763,\n",
       "  0.0030259296092275665,\n",
       "  0.0037790541144577462,\n",
       "  0.004568916720624247,\n",
       "  0.005763570941699258],\n",
       " [0.716,\n",
       "  0.761,\n",
       "  0.712,\n",
       "  0.7655000000000001,\n",
       "  0.7575000000000001,\n",
       "  0.7695000000000001,\n",
       "  0.7529999999999999,\n",
       "  0.7625,\n",
       "  0.7525000000000001,\n",
       "  0.772,\n",
       "  0.7709999999999999,\n",
       "  0.7815000000000001,\n",
       "  0.7595,\n",
       "  0.7565000000000001,\n",
       "  0.7835000000000001,\n",
       "  0.763,\n",
       "  0.755,\n",
       "  0.7415,\n",
       "  0.772,\n",
       "  0.7750000000000001,\n",
       "  0.7384999999999999,\n",
       "  0.766,\n",
       "  0.7535,\n",
       "  0.7595,\n",
       "  0.7775000000000001,\n",
       "  0.7460000000000001,\n",
       "  0.7825,\n",
       "  0.7685000000000001,\n",
       "  0.7615000000000001,\n",
       "  0.759,\n",
       "  0.7609999999999999,\n",
       "  0.7585,\n",
       "  0.7729999999999999,\n",
       "  0.7765,\n",
       "  0.766,\n",
       "  0.7555000000000001,\n",
       "  0.7545,\n",
       "  0.752,\n",
       "  0.7565,\n",
       "  0.7555,\n",
       "  0.755,\n",
       "  0.7535000000000001,\n",
       "  0.7555,\n",
       "  0.764,\n",
       "  0.759,\n",
       "  0.7535000000000001,\n",
       "  0.737,\n",
       "  0.762,\n",
       "  0.7484999999999999,\n",
       "  0.732,\n",
       "  0.748,\n",
       "  0.7729999999999999,\n",
       "  0.7575000000000001,\n",
       "  0.752,\n",
       "  0.7685,\n",
       "  0.7575000000000001,\n",
       "  0.7425,\n",
       "  0.757,\n",
       "  0.758,\n",
       "  0.757,\n",
       "  0.7565,\n",
       "  0.744,\n",
       "  0.7525,\n",
       "  0.754,\n",
       "  0.746,\n",
       "  0.7535000000000001,\n",
       "  0.7545,\n",
       "  0.747,\n",
       "  0.7474999999999999,\n",
       "  0.7464999999999999,\n",
       "  0.7575,\n",
       "  0.7485,\n",
       "  0.7725,\n",
       "  0.7505,\n",
       "  0.752,\n",
       "  0.7525,\n",
       "  0.7394999999999999,\n",
       "  0.7424999999999999,\n",
       "  0.7434999999999999,\n",
       "  0.7575,\n",
       "  0.7529999999999999,\n",
       "  0.7390000000000001,\n",
       "  0.7470000000000001,\n",
       "  0.7565000000000001,\n",
       "  0.763,\n",
       "  0.7565000000000001,\n",
       "  0.7529999999999999,\n",
       "  0.778,\n",
       "  0.7444999999999999,\n",
       "  0.7455,\n",
       "  0.7365,\n",
       "  0.749,\n",
       "  0.7635,\n",
       "  0.76,\n",
       "  0.764,\n",
       "  0.756,\n",
       "  0.752,\n",
       "  0.7495,\n",
       "  0.766],\n",
       " [0.014966629547095779,\n",
       "  0.019403607911932255,\n",
       "  0.012884098726725144,\n",
       "  0.018124568960391836,\n",
       "  0.027703790354390127,\n",
       "  0.01983683442487737,\n",
       "  0.021931712199461308,\n",
       "  0.018774983355518592,\n",
       "  0.012144957801491107,\n",
       "  0.01880159567696318,\n",
       "  0.01757839583124695,\n",
       "  0.017363755354185346,\n",
       "  0.014611639196202455,\n",
       "  0.01685229954635273,\n",
       "  0.012509996003196805,\n",
       "  0.021988633427296015,\n",
       "  0.014999999999999984,\n",
       "  0.013190905958272905,\n",
       "  0.026804850307360416,\n",
       "  0.007582875444051565,\n",
       "  0.013095800853708813,\n",
       "  0.014713938969562156,\n",
       "  0.016552945357246864,\n",
       "  0.03116087290176579,\n",
       "  0.013416407864998753,\n",
       "  0.01750714140001161,\n",
       "  0.018234582528810498,\n",
       "  0.016926310879810755,\n",
       "  0.027184554438136395,\n",
       "  0.01677796173556251,\n",
       "  0.011022703842524299,\n",
       "  0.015858751527153703,\n",
       "  0.023420076857260736,\n",
       "  0.02348403713163474,\n",
       "  0.01888120758849919,\n",
       "  0.01176860229593981,\n",
       "  0.017986105748604937,\n",
       "  0.018261982367749677,\n",
       "  0.01601561737804695,\n",
       "  0.02100000000000001,\n",
       "  0.01968501968502952,\n",
       "  0.009027735042633867,\n",
       "  0.011554220008291321,\n",
       "  0.02629638758460942,\n",
       "  0.01488287606613721,\n",
       "  0.01270826502713881,\n",
       "  0.017916472867168916,\n",
       "  0.015604486534327243,\n",
       "  0.013190905958272924,\n",
       "  0.02708320512790168,\n",
       "  0.016613247725836125,\n",
       "  0.00992471662063962,\n",
       "  0.010723805294763609,\n",
       "  0.02536730178793165,\n",
       "  0.018275666882497068,\n",
       "  0.01129158979063619,\n",
       "  0.009874208829065765,\n",
       "  0.032070235421649156,\n",
       "  0.019646882704388517,\n",
       "  0.008860022573334665,\n",
       "  0.013928388277184123,\n",
       "  0.019849433241279187,\n",
       "  0.021035683967962616,\n",
       "  0.01806931099959265,\n",
       "  0.013285330255586404,\n",
       "  0.015620499351813278,\n",
       "  0.014949916387726046,\n",
       "  0.018533752992850636,\n",
       "  0.008944271909999118,\n",
       "  0.015297058540778322,\n",
       "  0.008944271909999161,\n",
       "  0.016170961628796235,\n",
       "  0.012247448713915901,\n",
       "  0.01945507645834372,\n",
       "  0.037262581767773424,\n",
       "  0.018907670401189017,\n",
       "  0.021000000000000005,\n",
       "  0.0240831891575846,\n",
       "  0.016852299546352683,\n",
       "  0.02361143790623518,\n",
       "  0.008276472678623413,\n",
       "  0.020346989949375824,\n",
       "  0.01197914855071094,\n",
       "  0.027459060435491983,\n",
       "  0.023420076857260747,\n",
       "  0.019013153341831544,\n",
       "  0.017204650534085226,\n",
       "  0.012489995996796807,\n",
       "  0.03291656118126555,\n",
       "  0.021988633427296005,\n",
       "  0.013285330255586425,\n",
       "  0.022836374493338456,\n",
       "  0.0037416573867739477,\n",
       "  0.02382225849914319,\n",
       "  0.018881207588499215,\n",
       "  0.012103718436910202,\n",
       "  0.014089002803605363,\n",
       "  0.017349351572897482,\n",
       "  0.02305428376679701])"
      ]
     },
     "execution_count": 49,
     "metadata": {},
     "output_type": "execute_result"
    }
   ],
   "source": [
    " n_neighbors_influence_fixed_datasize(list(range(1, 100)), dataset, labels, 2000, loss_=\"manhattan\",\n",
    "                                         folds = 5, show_time=False, visualize=True)"
   ]
  },
  {
   "cell_type": "markdown",
   "metadata": {},
   "source": [
    "### Knn results for dataset 1"
   ]
  },
  {
   "cell_type": "markdown",
   "metadata": {},
   "source": [
    "##### Selecting best hyperparameter"
   ]
  },
  {
   "cell_type": "code",
   "execution_count": null,
   "metadata": {},
   "outputs": [],
   "source": [
    "# TO DO : plot the performance depending on K for the entire dataset, choose simplest best K"
   ]
  },
  {
   "cell_type": "markdown",
   "metadata": {},
   "source": [
    "##### Results on test dataset"
   ]
  },
  {
   "cell_type": "code",
   "execution_count": null,
   "metadata": {},
   "outputs": [],
   "source": [
    "# TO DO : print precision of test dataset, add confusion matrix"
   ]
  },
  {
   "cell_type": "markdown",
   "metadata": {},
   "source": [
    "### Knn results for dataset 2"
   ]
  },
  {
   "cell_type": "markdown",
   "metadata": {},
   "source": [
    "##### Selecting best hyperparameter"
   ]
  },
  {
   "cell_type": "code",
   "execution_count": null,
   "metadata": {},
   "outputs": [],
   "source": [
    "# TO DO : plot the performance depending on K for the entire dataset, choose simplest best K"
   ]
  },
  {
   "cell_type": "markdown",
   "metadata": {},
   "source": [
    "##### Results on test dataset"
   ]
  },
  {
   "cell_type": "code",
   "execution_count": null,
   "metadata": {},
   "outputs": [],
   "source": [
    "# TO DO : print precision of test dataset, add confusion matrix"
   ]
  },
  {
   "cell_type": "markdown",
   "metadata": {},
   "source": [
    "# Decision tree"
   ]
  },
  {
   "cell_type": "markdown",
   "metadata": {},
   "source": [
    "We use scikit-learn's decision tree function to design a decision tree classifier."
   ]
  },
  {
   "cell_type": "code",
   "execution_count": null,
   "metadata": {
    "pycharm": {
     "name": "#%%\n"
    }
   },
   "outputs": [],
   "source": [
    "from sklearn.tree import DecisionTreeClassifier # Import Decision Tree Classifier"
   ]
  },
  {
   "cell_type": "code",
   "execution_count": null,
   "metadata": {},
   "outputs": [],
   "source": [
    "def decision_tree(training_features, training_labels, to_predict_features,\n",
    "                  criterion='gini', splitter='best'):\n",
    "    \"\"\"\n",
    "    :param training_features: training features (x)\n",
    "    :param training_labels: training labels (y)\n",
    "    :param to_predict_features: features that we want to predict\n",
    "    :param criterion: {\"best\", \"random\"} Default is \"gini\" for the Gini impurity and \"entropy\" for the information gain\n",
    "    :param splitter: {\"best\", \"random\"} Default is \"best\" to choose the best split and \"random\" to choose the best random split.\n",
    "    :return:Numpy array containing the labels predicted by Decision Tree for the given 'to_predict_features'\n",
    "    \"\"\"\n",
    "    classifier = DecisionTreeClassifier(criterion=criterion, splitter=splitter)\n",
    "    classifier.fit(training_features, training_labels)\n",
    "    \n",
    "    return classifier.predict(to_predict_features)"
   ]
  },
  {
   "cell_type": "code",
   "execution_count": null,
   "metadata": {},
   "outputs": [],
   "source": [
    "# TO DO : see influence of cost function on precision (same graph as for KNN : dataset size on x axis, one trace for each cost function)"
   ]
  },
  {
   "cell_type": "code",
   "execution_count": null,
   "metadata": {},
   "outputs": [],
   "source": [
    "# TO DO : see influence of max depth on precision (same graph as for KNN : fixed data set size, max depth on x axis, precision on y)"
   ]
  },
  {
   "cell_type": "markdown",
   "metadata": {},
   "source": [
    "### Decision tree results for dataset 1"
   ]
  },
  {
   "cell_type": "markdown",
   "metadata": {},
   "source": [
    "##### Selecting best hyperparameter"
   ]
  },
  {
   "cell_type": "code",
   "execution_count": null,
   "metadata": {},
   "outputs": [],
   "source": [
    "#TO DO plot precision depending on max depth, one line for each cost function, selecting simplest best model"
   ]
  },
  {
   "cell_type": "markdown",
   "metadata": {},
   "source": [
    "##### Results on dataset 1"
   ]
  },
  {
   "cell_type": "code",
   "execution_count": null,
   "metadata": {},
   "outputs": [],
   "source": [
    "# Print precision and confusion matrix on test dataset"
   ]
  },
  {
   "cell_type": "markdown",
   "metadata": {},
   "source": [
    "### Decision tree results for dataset 2"
   ]
  },
  {
   "cell_type": "markdown",
   "metadata": {},
   "source": [
    "##### Selecting best hyperparameter"
   ]
  },
  {
   "cell_type": "code",
   "execution_count": null,
   "metadata": {},
   "outputs": [],
   "source": [
    "#TO DO plot precision depending on max depth, one line for each cost function, selecting simplest best model"
   ]
  },
  {
   "cell_type": "markdown",
   "metadata": {},
   "source": [
    "#### Results on dataset 2"
   ]
  },
  {
   "cell_type": "code",
   "execution_count": null,
   "metadata": {},
   "outputs": [],
   "source": [
    "# Print precision and confusion matrix on test dataset"
   ]
  },
  {
   "cell_type": "markdown",
   "metadata": {},
   "source": [
    "# Influence of dataset's size"
   ]
  },
  {
   "cell_type": "markdown",
   "metadata": {},
   "source": [
    "Now we study the influence of the size of the training / validation dataset on the training / validation errors."
   ]
  },
  {
   "cell_type": "code",
   "execution_count": null,
   "metadata": {},
   "outputs": [],
   "source": [
    "data_size_influence(knn, dataset, labels, 50, 10000, 1000, loss_=\"manhattan\", folds = 5, algo_kwargs={\"n_neighbors\":3}, show_time=True, visualize=True)\n",
    "pass"
   ]
  },
  {
   "cell_type": "code",
   "execution_count": null,
   "metadata": {},
   "outputs": [],
   "source": [
    "\n"
   ]
  },
  {
   "cell_type": "code",
   "execution_count": null,
   "metadata": {},
   "outputs": [],
   "source": []
  },
  {
   "cell_type": "code",
   "execution_count": null,
   "metadata": {},
   "outputs": [],
   "source": []
  }
 ],
 "metadata": {
  "kernelspec": {
   "display_name": "Python 3",
   "language": "python",
   "name": "python3"
  },
  "language_info": {
   "codemirror_mode": {
    "name": "ipython",
    "version": 3
   },
   "file_extension": ".py",
   "mimetype": "text/x-python",
   "name": "python",
   "nbconvert_exporter": "python",
   "pygments_lexer": "ipython3",
   "version": "3.7.9"
  },
  "pycharm": {
   "stem_cell": {
    "cell_type": "raw",
    "metadata": {
     "collapsed": false
    },
    "source": []
   }
  }
 },
 "nbformat": 4,
 "nbformat_minor": 4
}
