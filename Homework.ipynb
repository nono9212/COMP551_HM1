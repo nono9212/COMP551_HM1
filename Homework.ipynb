{
 "nbformat": 4,
 "nbformat_minor": 0,
 "metadata": {
  "colab": {
   "name": "Homework.ipynb",
   "provenance": []
  },
  "kernelspec": {
   "display_name": "Python 3",
   "language": "python",
   "name": "python3"
  },
  "language_info": {
   "codemirror_mode": {
    "name": "ipython",
    "version": 3
   },
   "file_extension": ".py",
   "mimetype": "text/x-python",
   "name": "python",
   "nbconvert_exporter": "python",
   "pygments_lexer": "ipython3",
   "version": "3.7.9"
  },
  "pycharm": {
   "stem_cell": {
    "cell_type": "raw",
    "source": [],
    "metadata": {
     "collapsed": false
    }
   }
  }
 },
 "cells": [
  {
   "cell_type": "code",
   "metadata": {
    "id": "ezzkL0nP-Dom"
   },
   "source": [
    "USE_IMAGES_INSTEAD_OF_COMPUTING = True"
   ],
   "execution_count": 1,
   "outputs": []
  },
  {
   "cell_type": "code",
   "metadata": {
    "id": "TQ9fQTjZhiTf"
   },
   "source": [
    "import pandas as pd\n",
    "import numpy as np\n",
    "import matplotlib.pyplot as plt\n",
    "import time\n",
    "from scipy.spatial.distance import euclidean\n",
    "from IPython.display import Image\n",
    "plt.rcParams['figure.figsize'] = [10, 5]\n",
    "\n",
    "# For results repeatability\n",
    "np.random.seed(0)"
   ],
   "execution_count": 2,
   "outputs": []
  },
  {
   "cell_type": "markdown",
   "metadata": {
    "id": "7tmeCexehiUA"
   },
   "source": [
    "# Utils"
   ]
  },
  {
   "cell_type": "markdown",
   "metadata": {
    "id": "5DGunQZO-Dov"
   },
   "source": [
    "### Plotting function"
   ]
  },
  {
   "cell_type": "code",
   "metadata": {
    "id": "OqWPXTInhiUA"
   },
   "source": [
    "def plotMeanAndStd(stats, x, color='b', ax = None, legend=None):\n",
    "    \"\"\"\n",
    "    Input : array of tuples (mean std) and their x coordinates\n",
    "    \"\"\"\n",
    "    mean = np.array([s[0] for s in stats])\n",
    "    standard_dev = np.array([s[1] for s in stats])\n",
    "    if ax == None :\n",
    "        plt.plot(x, mean, c=color,label=legend)\n",
    "        plt.fill_between(x, mean-standard_dev, mean+standard_dev, alpha=0.2, color=color)\n",
    "    else:\n",
    "        ax.plot(x, mean, c=color,label=legend)\n",
    "        ax.fill_between(x, mean-standard_dev, mean+standard_dev, alpha=0.2, color=color)  "
   ],
   "execution_count": 3,
   "outputs": []
  },
  {
   "cell_type": "markdown",
   "metadata": {
    "id": "rmbx1KHc-Dow"
   },
   "source": [
    "### Error measure"
   ]
  },
  {
   "cell_type": "code",
   "metadata": {
    "id": "tOLE_2SPhiUB"
   },
   "source": [
    "def error(predicted_labels, real_labels, loss=\"euclidean\"):\n",
    "    \"\"\"\n",
    "    Input: numpy array containing respectively the labels an algorithm predicted, and the real labels corresponding\n",
    "    to the data. Type of loss we want to use.\n",
    "    \n",
    "    Output: float, the computed loss.\n",
    "    \"\"\"\n",
    "    if loss == \"euclidean\": return euclidean(predicted_labels, real_labels)\n",
    "    elif loss == \"manhattan\": return sum(abs(predicted_labels - real_labels))\n",
    "    \n",
    "    "
   ],
   "execution_count": 4,
   "outputs": []
  },
  {
   "cell_type": "code",
   "metadata": {
    "id": "De2VfAQz-Dow"
   },
   "source": [
    "from sklearn.metrics import confusion_matrix\n",
    "from sklearn.metrics import ConfusionMatrixDisplay"
   ],
   "execution_count": 5,
   "outputs": []
  },
  {
   "cell_type": "markdown",
   "metadata": {
    "id": "Givn177fhiUC"
   },
   "source": [
    "### Features normalization"
   ]
  },
  {
   "cell_type": "markdown",
   "metadata": {
    "id": "MOyxRGrf-Dox"
   },
   "source": [
    "We add the possibility to perform data normalization with scikit-learn's scaler to avoid having overweighted features."
   ]
  },
  {
   "cell_type": "code",
   "metadata": {
    "id": "SuZoUuqs-Dox"
   },
   "source": [
    "from sklearn.preprocessing import StandardScaler"
   ],
   "execution_count": 6,
   "outputs": []
  },
  {
   "cell_type": "code",
   "metadata": {
    "id": "a751u-ag-Dox"
   },
   "source": [
    "def normalize(dataset):\n",
    "    columns = dataset.columns\n",
    "    scaler = StandardScaler()\n",
    "    scaler.fit(dataset)\n",
    "    dataset[columns] = scaler.transform(dataset[columns])\n",
    "    return dataset"
   ],
   "execution_count": 7,
   "outputs": []
  },
  {
   "cell_type": "markdown",
   "metadata": {
    "id": "mvvzULNjhiUV"
   },
   "source": [
    "### Identify the features considered as most important from decision tree"
   ]
  },
  {
   "cell_type": "markdown",
   "metadata": {
    "id": "YAd7dqLB-Doy"
   },
   "source": [
    "The goal of this section is to be able to identify the data features that decision trees identify as most signficant. This could be useful, in particular to weight features according to their importance when performing KNN classication."
   ]
  },
  {
   "cell_type": "code",
   "metadata": {
    "id": "FZsDivUf-Doy"
   },
   "source": [
    "from sklearn.tree import DecisionTreeClassifier # Import Decision Tree Classifier\n",
    "\n",
    "def features_importance(training_features, training_labels, criterion='gini',\n",
    "                        splitter='best', visualize = False, nb_top=5):\n",
    "    \"\"\"\n",
    "    Input: training features and labels, decision tree's parameters, whether we want to visualize feature's\n",
    "    importance\n",
    "    \n",
    "    Output: a dictionary giving each feature a score according to its importance in the decision tree\n",
    "    \"\"\"\n",
    "    \n",
    "    classifier = DecisionTreeClassifier(criterion=criterion, splitter=splitter)\n",
    "    classifier.fit(training_features, training_labels)\n",
    "    features_importances = classifier.feature_importances_\n",
    "    \n",
    "    importance = dict()\n",
    "    cols = training_features.columns\n",
    "    for i,v in enumerate(features_importances):\n",
    "        importance[cols[i]] = v\n",
    "    \n",
    "    if visualize:\n",
    "        # Say which features are most important\n",
    "        ordered_features = sorted(importance.keys(), key = lambda k:(importance[k])) \n",
    "        ordered_features.reverse()\n",
    "        for i in range(nb_top):\n",
    "            feature = ordered_features[i]\n",
    "            print(f\"Feature ranked {i + 1} is {feature} with score {importance[feature]}\")\n",
    "            \n",
    "        # Plot feature importance\n",
    "        plt.bar([x for x in range(len(features_importances))], features_importances)\n",
    "        plt.show()\n",
    "    \n",
    "    return importance"
   ],
   "execution_count": 8,
   "outputs": []
  },
  {
   "cell_type": "markdown",
   "metadata": {
    "id": "WM-grU-j-Do1"
   },
   "source": [
    "### Features weighting"
   ]
  },
  {
   "cell_type": "code",
   "metadata": {
    "id": "Hr4QwB04-Do2"
   },
   "source": [
    "def weight_features(dataset, weights):\n",
    "    \"\"\"\n",
    "    Input: a dataset (pandas dataframe), and a dictionary giving each dataset's feature a weight\n",
    "    according to their importance\n",
    "    \n",
    "    Output: None, but dataset's features have been multiplied by their weight to take into account the\n",
    "    differences in their importance\n",
    "    \"\"\"\n",
    "    for feature in weights:\n",
    "        dataset[feature] *= weights[feature]\n",
    "        "
   ],
   "execution_count": 9,
   "outputs": []
  },
  {
   "cell_type": "markdown",
   "metadata": {
    "id": "_biG4sLLhiTp"
   },
   "source": [
    "# Dataset preprocessing"
   ]
  },
  {
   "cell_type": "markdown",
   "metadata": {
    "id": "EL7GvsezhiTs"
   },
   "source": [
    "## Dataset 1"
   ]
  },
  {
   "cell_type": "markdown",
   "metadata": {
    "id": "ZUVIv7glhiTt"
   },
   "source": [
    "A function to upload and preprocess data in the \"adults\" format. As a first approach we simply remove rows with missing values."
   ]
  },
  {
   "cell_type": "code",
   "metadata": {
    "id": "injPNctshiTu"
   },
   "source": [
    "def get_clean_dataset1(data_file, test=False):\n",
    "    dataset = pd.read_csv(data_file, header=None)\n",
    "    dataset.columns = [\"age\",\"workclass\",\"fnlwgt\",\"education\",\"education-num\",\"marital-status\",\"occupation\",\"relationship\",\"race\",\"sex\",\"capital-gain\",\"capital-loss\",\"hours-per-week\",\"native-country\",\"salary\"]\n",
    "    dataset = dataset[(dataset!=\" ?\").all(axis=1)].reset_index(drop=True)\n",
    "    df_strings = dataset.select_dtypes(['object'])\n",
    "    dataset[df_strings.columns] = df_strings.apply(lambda x: x.str.strip())\n",
    "    clean_dataset = pd.DataFrame(dataset[\"age\"])\n",
    "    for col in dataset.columns[1:-1]:\n",
    "        if(dataset[col].dtype =='O'):\n",
    "            clean_dataset = clean_dataset.join(pd.get_dummies(dataset[col], prefix=col))\n",
    "        else:\n",
    "            clean_dataset = clean_dataset.join(dataset[col])\n",
    "    \n",
    "    if test: labels = (dataset[\"salary\"]==\">50K.\")*1\n",
    "    else: labels = (dataset[\"salary\"]==\">50K\")*1\n",
    "    return clean_dataset, labels"
   ],
   "execution_count": 10,
   "outputs": []
  },
  {
   "cell_type": "markdown",
   "metadata": {
    "id": "eXKmLRhRhiTx"
   },
   "source": [
    "### Training / Validation dataset"
   ]
  },
  {
   "cell_type": "code",
   "metadata": {
    "id": "J-SYL19I-Do4"
   },
   "source": [
    "dataset_adult, labels_adult = get_clean_dataset1(\"data/adult.data\")"
   ],
   "execution_count": 11,
   "outputs": []
  },
  {
   "cell_type": "markdown",
   "metadata": {
    "id": "z5TG3DkvhiT0"
   },
   "source": [
    "### Test dataset"
   ]
  },
  {
   "cell_type": "code",
   "metadata": {
    "id": "NeZO71P7hiT2"
   },
   "source": [
    "test_dataset_adult, test_labels_adult = get_clean_dataset1(\"data/adult.test\", test=True)"
   ],
   "execution_count": 12,
   "outputs": []
  },
  {
   "cell_type": "code",
   "metadata": {
    "id": "B0NPhK9R-Do5"
   },
   "source": [
    "# There is a 'missing' column in the adult test dataset because it does not contain people born in Holand-Netherlands\n",
    "# We virtually add one to be able to run all algorithms\n",
    "test_dataset_adult['native-country_Holand-Netherlands'] = 0"
   ],
   "execution_count": 13,
   "outputs": []
  },
  {
   "cell_type": "markdown",
   "metadata": {
    "id": "2MlM7Kts-Do5"
   },
   "source": [
    "### Understanding the dataset"
   ]
  },
  {
   "cell_type": "markdown",
   "metadata": {
    "id": "ccmqU5l7-Do5"
   },
   "source": [
    "####  What is the influence of the features one can think of as important?"
   ]
  },
  {
   "cell_type": "markdown",
   "metadata": {
    "id": "V2V82BhA-Do5"
   },
   "source": [
    "We try to visualize if some basic features one can easily think of seem to have an influence on salary (like sex or education)."
   ]
  },
  {
   "cell_type": "code",
   "metadata": {
    "colab": {
     "base_uri": "https://localhost:8080/",
     "height": 0
    },
    "id": "LAJTPRsD-Do6",
    "outputId": "7b69538a-0bb7-40d5-9e55-4e5308dee8df"
   },
   "source": [
    "male_low = dataset_adult[(dataset_adult[\"sex_Male\"]==1) & (labels_adult==0)].shape[0]\n",
    "male_high = dataset_adult[(dataset_adult[\"sex_Male\"]==1) & (labels_adult==1)].shape[0]\n",
    "female_low = dataset_adult[(dataset_adult[\"sex_Female\"]==1) & (labels_adult==0)].shape[0]\n",
    "female_high = dataset_adult[(dataset_adult[\"sex_Female\"]==1) & (labels_adult==1)].shape[0]\n",
    "fisher_tab = np.array([[male_low, male_high], [female_low, female_high]])\n",
    "\n",
    "barWidth = 0.2\n",
    "bars1 = [female_high, male_high]\n",
    "bars2 = [female_low, male_low]\n",
    "r1 = np.arange(len(bars1))\n",
    "r2 = [x + barWidth for x in r1]\n",
    " \n",
    "plt.bar(r1, bars1, width = barWidth, color = 'blue', edgecolor = 'black',label='>=50K')\n",
    "plt.bar(r2, bars2, width = barWidth, color = 'cyan', edgecolor = 'black', label='<50K')\n",
    "\n",
    "plt.xticks([r + barWidth for r in range(len(bars1))], ['Female', 'Male'])\n",
    "plt.legend()\n",
    " \n",
    "plt.show()\n",
    "\n",
    "print(f\"Proportion of Females above 50k: {female_high / (female_low + female_high)}\")\n",
    "print(f\"Proportion of Males above 50k: {male_high / (male_low + male_high)}\")"
   ],
   "execution_count": 14,
   "outputs": [
    {
     "output_type": "display_data",
     "data": {
      "image/png": "[encoded data removed]",
      "text/plain": [
       "<Figure size 720x360 with 1 Axes>"
      ]
     },
     "metadata": {
      "needs_background": "light"
     }
    },
    {
     "output_type": "stream",
     "name": "stdout",
     "text": [
      "Proportion of Females above 50k: 0.11367818442036394\n",
      "Proportion of Males above 50k: 0.3138370951913641\n"
     ]
    }
   ]
  },
  {
   "cell_type": "code",
   "metadata": {
    "colab": {
     "base_uri": "https://localhost:8080/",
     "height": 0
    },
    "id": "A21G9Fve-Do6",
    "outputId": "e8086d9d-af71-4f3e-d449-26af957037b2"
   },
   "source": [
    "US_low = dataset_adult[(dataset_adult[\"native-country_United-States\"]==1) & (labels_adult==0)].shape[0]\n",
    "US_high = dataset_adult[(dataset_adult[\"native-country_United-States\"]==1) &(labels_adult==1)].shape[0]\n",
    "non_US_low = dataset_adult[(dataset_adult[\"native-country_United-States\"]==0) & (labels_adult==0)].shape[0]\n",
    "non_US_high = dataset_adult[(dataset_adult[\"native-country_United-States\"]==0) & (labels_adult==1)].shape[0]\n",
    "barWidth = 0.2\n",
    "bars1 = [US_high, non_US_high]\n",
    "bars2 = [US_low, US_high]\n",
    "r1 = np.arange(len(bars1))\n",
    "r2 = [x + barWidth for x in r1]\n",
    " \n",
    "plt.bar(r1, bars1, width = barWidth, color = 'blue', edgecolor = 'black',label='>=50K')\n",
    "plt.bar(r2, bars2, width = barWidth, color = 'cyan', edgecolor = 'black', label='<50K')\n",
    "\n",
    "plt.xticks([r + barWidth for r in range(len(bars1))], ['US', 'Non US'])\n",
    "plt.legend()\n",
    " \n",
    "plt.show()\n",
    "\n",
    "print(f\"Proportion of US born above 50k: {US_high / (US_low + US_high)}\")\n",
    "print(f\"Proportion of non US born above 50k: {non_US_high / (non_US_low + non_US_high)}\")"
   ],
   "execution_count": 15,
   "outputs": [
    {
     "output_type": "display_data",
     "data": {
      "image/png": "[encoded data removed]",
      "text/plain": [
       "<Figure size 720x360 with 1 Axes>"
      ]
     },
     "metadata": {
      "needs_background": "light"
     }
    },
    {
     "output_type": "stream",
     "name": "stdout",
     "text": [
      "Proportion of US born above 50k: 0.254326643397324\n",
      "Proportion of non US born above 50k: 0.1930022573363431\n"
     ]
    }
   ]
  },
  {
   "cell_type": "markdown",
   "metadata": {
    "id": "Nu-IBzoF-Do6"
   },
   "source": [
    "#### See cumulative importance of each feature"
   ]
  },
  {
   "cell_type": "code",
   "metadata": {
    "id": "BiHsMhqD-Do7"
   },
   "source": [
    "weights = features_importance(dataset_adult, labels_adult, criterion='gini',\n",
    "                        splitter='best', visualize = False, nb_top=5)"
   ],
   "execution_count": 16,
   "outputs": []
  },
  {
   "cell_type": "code",
   "metadata": {
    "colab": {
     "base_uri": "https://localhost:8080/",
     "height": 0
    },
    "id": "kyXO1irS-Do7",
    "outputId": "14e8a009-f7cb-4b6a-f96a-f9b18c49a2c4"
   },
   "source": [
    "d = {}\n",
    "for c, v in sorted(weights.items(), key=lambda item: item[1]):\n",
    "    c =c.split('_')[0]\n",
    "    if c in d.keys():\n",
    "        d[c] += v\n",
    "    else:\n",
    "        d[c] = v\n",
    "\n",
    "\n",
    "d=dict(sorted(d.items(), key=lambda item: item[1]))\n",
    "vars_to_plot = list(d.keys())[:-5]\n",
    "plt.bar(range(len(d)), list(d.values()), align='center')\n",
    "plt.xticks(range(len(d)), list(d.keys()),rotation=70)\n",
    "plt.title(\"Cumulative feature importance\")\n",
    "pass"
   ],
   "execution_count": 17,
   "outputs": [
    {
     "output_type": "display_data",
     "data": {
      "image/png": "[encoded data removed]",
      "text/plain": [
       "<Figure size 720x360 with 1 Axes>"
      ]
     },
     "metadata": {
      "needs_background": "light"
     }
    }
   ]
  },
  {
   "cell_type": "markdown",
   "metadata": {
    "id": "djsKhWhF-Do7"
   },
   "source": [
    "#### Visualize each feature's influence"
   ]
  },
  {
   "cell_type": "code",
   "metadata": {
    "colab": {
     "base_uri": "https://localhost:8080/",
     "height": 920
    },
    "id": "9eO4yUI_-Do7",
    "outputId": "8bd45bec-fd07-4024-c183-38fa1475e249"
   },
   "source": [
    "# Get seaborn to plot the pair graph so get a better understanding of the data\n",
    "import seaborn as sns\n",
    "def getDatasetWithNoOneHot():\n",
    "    dataset = pd.read_csv(\"data/adult.data\", header=None)\n",
    "    dataset.columns = [\"age\",\"workclass\",\"fnlwgt\",\"education\",\"education-num\",\"marital-status\",\"occupation\",\"relationship\",\"race\",\"sex\",\"capital-gain\",\"capital-loss\",\"hours-per-week\",\"native-country\",\"salary\"]\n",
    "    dataset = dataset[(dataset!=\" ?\").all(axis=1)].reset_index(drop=True)\n",
    "    df_strings = dataset.select_dtypes(['object'])\n",
    "    dataset[df_strings.columns] = df_strings.apply(lambda x: x.str.strip())\n",
    "\n",
    "    for col in dataset.columns[1:-1]:\n",
    "        if(dataset[col].dtype !='int64'):\n",
    "            dataset[col]= pd.factorize(dataset[col].astype(\"category\"))[0]\n",
    "    return dataset\n",
    "sns.pairplot(getDatasetWithNoOneHot()[:1000], hue = \"salary\",vars=['capital-gain', 'age', 'education-num', 'fnlwgt', 'marital-status'],plot_kws = {'alpha': 0.3})"
   ],
   "execution_count": null,
   "outputs": [
    {
     "output_type": "execute_result",
     "data": {
      "text/plain": [
       "<seaborn.axisgrid.PairGrid at 0x7f4636a40fd0>"
      ]
     },
     "metadata": {},
     "execution_count": 22
    },
    {
     "output_type": "display_data",
     "data": {
      "image/png": "[encoded data removed]",
      "text/plain": [
       "<Figure size 971.75x900 with 30 Axes>"
      ]
     },
     "metadata": {
      "needs_background": "light"
     }
    }
   ]
  },
  {
   "cell_type": "markdown",
   "metadata": {
    "id": "ZgsWYitGhiT5"
   },
   "source": [
    "## Dataset 2"
   ]
  },
  {
   "cell_type": "code",
   "metadata": {
    "id": "rVCg0XtghiT7"
   },
   "source": [
    "def get_clean_dataset2(data_file):\n",
    "    dataset = pd.read_csv(data_file, header=None)\n",
    "    dataset.columns = [\"white_king_column\",\"white_king_row\",\"white_rook_column\",\"white_rook_row\",\"black_king_column\",\"black_king_row\", \"outcome\"]\n",
    "    df_strings = dataset.select_dtypes(['object'])\n",
    "    dataset[df_strings.columns] = df_strings.apply(lambda x: x.str.strip())\n",
    "    for col in dataset.columns[0:-1:2]:\n",
    "        dataset[col] = dataset[col].apply(lambda x: ord(x)-ord('a'))\n",
    "    labels = (dataset[\"outcome\"]!=\"draw\")*1\n",
    "    del dataset[\"outcome\"]\n",
    "    return dataset, labels"
   ],
   "execution_count": null,
   "outputs": []
  },
  {
   "cell_type": "markdown",
   "metadata": {
    "id": "B6sRVV7ehiT7"
   },
   "source": [
    "### Training / Validation dataset"
   ]
  },
  {
   "cell_type": "code",
   "metadata": {
    "id": "RP_VMe4khiT8"
   },
   "source": [
    "dataset_chess, labels_chess = get_clean_dataset2(\"data/krkopt.data\")"
   ],
   "execution_count": null,
   "outputs": []
  },
  {
   "cell_type": "markdown",
   "metadata": {
    "id": "UGWdZarShiT_"
   },
   "source": [
    "### Test dataset"
   ]
  },
  {
   "cell_type": "code",
   "metadata": {
    "id": "QKkr73QFhiT_"
   },
   "source": [
    "test_dataset_chess, test_labels_chess = get_clean_dataset2(\"data/krkopt.test\")"
   ],
   "execution_count": null,
   "outputs": []
  },
  {
   "cell_type": "markdown",
   "metadata": {
    "id": "jKh0zZKn-Do9"
   },
   "source": [
    "### Understanding the dataset"
   ]
  },
  {
   "cell_type": "code",
   "metadata": {
    "id": "vBttTxkp-Do9"
   },
   "source": [
    "weights = features_importance(dataset_chess, labels_chess, criterion='gini',\n",
    "                        splitter='best', visualize = False, nb_top=6)\n",
    "d=dict(sorted(weights.items(), key=lambda item: item[1]))\n",
    "vars_to_plot = list(d.keys())[:-5]\n",
    "plt.bar(range(len(d)), list(d.values()), align='center')\n",
    "plt.xticks(range(len(d)), list(d.keys()),rotation=70)\n",
    "plt.title(\"Feature importance\")\n",
    "pass"
   ],
   "execution_count": null,
   "outputs": []
  },
  {
   "cell_type": "code",
   "metadata": {
    "id": "giHwCtlA-Do-"
   },
   "source": [
    "sns.pairplot(dataset_chess[:1000].join(labels_chess), hue = \"outcome\",plot_kws = {'alpha': 0.3})"
   ],
   "execution_count": null,
   "outputs": []
  },
  {
   "cell_type": "markdown",
   "metadata": {
    "id": "4X9DL1TX-Do-"
   },
   "source": [
    "# Cross validation"
   ]
  },
  {
   "cell_type": "code",
   "metadata": {
    "id": "_GZtGu3vhiUC"
   },
   "source": [
    "def cross_validation(algo, dataset_, labels_, loss_=\"manhattan\", folds = 5, algo_kwargs={}):\n",
    "    \"\"\"\n",
    "    Input : Predictor function that works by supplying training set and labels and test set and return predicted labels\n",
    "            dataset  and corresponding labels\n",
    "            folds\n",
    "            algo_kwargs : a dict with additional params for the algo : ex. {'n_neighbors':5}\n",
    "    Output : Precision mean and variance\n",
    "    \"\"\"\n",
    "    dataset_size = dataset_.shape[0]\n",
    "    group_ids = np.tile(np.arange(folds),int(dataset_size/folds)+1)[:dataset_size]\n",
    "    np.random.shuffle(group_ids)\n",
    "    training_precisions = []\n",
    "    validation_precisions = []\n",
    "    for N in range(folds):\n",
    "        training_set = dataset_[group_ids != N].reset_index(drop=True)\n",
    "        training_labels = labels_[group_ids != N].reset_index(drop=True)\n",
    "        test_set = dataset_[group_ids == N].reset_index(drop=True)\n",
    "        test_labels = labels_[group_ids == N].reset_index(drop=True)\n",
    "        # Training error\n",
    "        training_predicted_labels = algo(training_set, training_labels, training_set, **algo_kwargs)\n",
    "        training_precisions += [(len(training_labels) - error(training_predicted_labels, training_labels, loss = loss_))/len(training_labels)]\n",
    "    \n",
    "        \n",
    "        # Validation error\n",
    "        validation_predicted_labels = algo(training_set, training_labels, test_set, **algo_kwargs)\n",
    "        validation_precisions += [(len(test_labels) - error(validation_predicted_labels, test_labels, loss = loss_))/len(test_labels)]\n",
    "    \n",
    "    \n",
    "    return (np.mean(training_precisions), np.std(training_precisions), np.mean(validation_precisions), np.std(validation_precisions))"
   ],
   "execution_count": 18,
   "outputs": []
  },
  {
   "cell_type": "code",
   "metadata": {
    "id": "6CJpkfQb-Do_"
   },
   "source": [
    "def data_size_influence(algo, dataset_, labels_, Ns=[], loss_=\"manhattan\", folds = 5, algo_kwargs={}, show_time=False, visualize=True):\n",
    "    \n",
    "    nrows = dataset_.shape[0]\n",
    "    mean_trainings = []\n",
    "    std_trainings = []\n",
    "    mean_validations = []\n",
    "    std_validations = []\n",
    "    \n",
    "    if show_time: times = []\n",
    "    \n",
    "    for N in Ns:\n",
    "        indices = list(np.random.choice(nrows, N))\n",
    "        d = dataset_.iloc[indices]\n",
    "        l = labels_.iloc[indices]\n",
    "        \n",
    "        if show_time: t = time.time()\n",
    "        mean_training, std_training, mean_validation, std_validation = cross_validation(algo, d, l, folds = folds, algo_kwargs=algo_kwargs)\n",
    "        if show_time: times.append(time.time() - t)\n",
    "        \n",
    "        mean_trainings.append(mean_training)\n",
    "        std_trainings.append(std_training)\n",
    "        mean_validations.append(mean_validation)\n",
    "        std_validations.append(std_validation)\n",
    "    \n",
    "    if visualize:\n",
    "        fig = plt.figure(figsize=(10,7))\n",
    "        fig.suptitle(\"Influence of training/validation dataset size\")\n",
    "        ax1 = fig.gca()\n",
    "        plotMeanAndStd([i for i in zip(mean_trainings, std_trainings)],Ns, ax= ax1, legend = \"Training\", color='red')\n",
    "        plotMeanAndStd([i for i in zip(mean_validations, std_validations)],Ns, ax= ax1, legend = \"Validation\",color='blue')\n",
    "        ax1.legend(loc=\"lower right\")\n",
    "        ax1.set_ylabel(\"Precision\")\n",
    "        ax1.set_xlabel(\"Dataset sample size\")\n",
    "        ax1.grid()\n",
    "\n",
    "        if show_time:\n",
    "            ax5 = ax1.twinx()\n",
    "            ax5.set_ylabel(\"Computation time (s)\")\n",
    "            ax5.plot(Ns, times, label =\"Computation time\", c=\"orange\")\n",
    "\n",
    "        fig.tight_layout()\n",
    "        plt.show()\n",
    "    \n",
    "    if show_time: return (mean_trainings, std_trainings, mean_validations, std_validations, times)\n",
    "    else: return (mean_trainings, std_trainings, mean_validations, std_validations)"
   ],
   "execution_count": 19,
   "outputs": []
  },
  {
   "cell_type": "markdown",
   "metadata": {
    "id": "GCANGo53hiUE"
   },
   "source": [
    "# Knn"
   ]
  },
  {
   "cell_type": "markdown",
   "metadata": {
    "id": "xFbCGSeXhiUF"
   },
   "source": [
    "### Knn algorithm implementation"
   ]
  },
  {
   "cell_type": "markdown",
   "metadata": {
    "id": "AszlBbGZ-DpB"
   },
   "source": [
    "We use scikit-learn's knn function to design a knn classifier."
   ]
  },
  {
   "cell_type": "code",
   "metadata": {
    "id": "bHhrp7RchiUF"
   },
   "source": [
    "from sklearn.neighbors import KNeighborsClassifier"
   ],
   "execution_count": 45,
   "outputs": []
  },
  {
   "cell_type": "code",
   "metadata": {
    "id": "RUIengFqhiUG"
   },
   "source": [
    "def knn(training_features, training_labels, to_predict_features,\n",
    "        n_neighbors=5, weights = \"uniform\", algorithm=\"auto\", p=2):\n",
    "    \n",
    "    \"\"\"\n",
    "    Input: Training data, features for which we want to predict the labels, number of neighbors k for knn algo,\n",
    "    features weights system ('uniform' or 'distance'), algorithm usewd to find closer k neighbors, p is the value\n",
    "    used in the computation of the minkowski distance that is used here, p=1 gives a manhattan distance, p=2 a\n",
    "    euclidian distance.\n",
    "    \n",
    "    Output: Numpy array containing the labels predicted by KNN for the given 'to_predict_features'\n",
    "    \"\"\"\n",
    "    neigh = KNeighborsClassifier(n_neighbors=n_neighbors, weights=weights, algorithm=algorithm, p=p)\n",
    "    neigh.fit(training_features, training_labels)\n",
    "    \n",
    "    return neigh.predict(to_predict_features)"
   ],
   "execution_count": 46,
   "outputs": []
  },
  {
   "cell_type": "markdown",
   "metadata": {
    "id": "xn8B6ekvhiUH"
   },
   "source": [
    "### Let us study the influence of the hyperparameter K"
   ]
  },
  {
   "cell_type": "markdown",
   "metadata": {
    "id": "YzLTi6Kg-DpC"
   },
   "source": [
    "Let us study the influence of the hyperparameter k (number of neighbors) on KNN algorithm's performance."
   ]
  },
  {
   "cell_type": "code",
   "metadata": {
    "id": "aAmoxWKZhiUH"
   },
   "source": [
    "def n_neighbors_influence_multiple_datasize(Ks, dataset_, labels_, Ns, loss_=\"manhattan\",\n",
    "                                            weights = \"uniform\", folds = 5, show_time=False, \n",
    "                                            visualize=True):\n",
    "    \n",
    "    mean_training_per_k = dict()\n",
    "    std_training_per_k = dict()\n",
    "    mean_validation_per_k = dict()\n",
    "    std_validation_per_k = dict()\n",
    "    \n",
    "    if show_time: time_per_k = dict()\n",
    "    \n",
    "    for k in Ks:\n",
    "        print(k)\n",
    "        if show_time: (mean_trainings, std_trainings, mean_validations, std_validations, times) = data_size_influence(knn, dataset_, labels_, Ns, loss_=\"manhattan\", folds = folds, algo_kwargs={\"n_neighbors\":k, \"weights\":weights}, show_time=show_time, visualize=False)\n",
    "        else: (mean_trainings, std_trainings, mean_validations, std_validations) = data_size_influence(knn, dataset_, labels_, Ns, loss_=\"manhattan\", folds = folds, algo_kwargs={\"n_neighbors\":k, \"weights\":weights}, show_time=show_time, visualize=False)\n",
    "            \n",
    "        mean_training_per_k[k] = mean_trainings\n",
    "        std_training_per_k[k] = std_trainings\n",
    "        mean_validation_per_k[k]  = mean_validations\n",
    "        std_validation_per_k[k]  = std_validations\n",
    "\n",
    "        if show_time: time_per_k[k]  = times\n",
    "    subplotcode = 120\n",
    "    if show_time :\n",
    "        subplotcode = 130\n",
    "    if visualize:\n",
    "        \n",
    "        fig = plt.figure(figsize=(15,10))\n",
    "        fig.suptitle(\"Influence of K (in k nearest neighbor) and training/validation dataset size\")\n",
    "        \n",
    "        ax1 = fig.add_subplot(subplotcode+1)\n",
    "        ax1.title.set_text(\"Training precision\")\n",
    "        cmap = plt.get_cmap(\"tab10\")\n",
    "        curveID = 0\n",
    "        for k in Ks:\n",
    "            plotMeanAndStd([i for i in zip(mean_training_per_k[k],std_training_per_k[k])],Ns, legend=\"K = \"+str(k),ax = ax1, color = cmap(curveID))\n",
    "            curveID += 1\n",
    "        ax1.set_ylim(0,1.05)\n",
    "        ax1.set_xlim(Ns[0],Ns[-1])\n",
    "        ax1.grid()\n",
    "        ax1.legend()\n",
    "        \n",
    "        ax2 = fig.add_subplot(subplotcode+2)\n",
    "        curveID = 0\n",
    "        for k in Ks:\n",
    "            plotMeanAndStd([i for i in zip(mean_validation_per_k[k],std_validation_per_k[k])],Ns, legend=\"K = \"+str(k), ax=ax2,color = cmap(curveID))\n",
    "            curveID += 1\n",
    "        ax2.set_ylim(0,1.05)\n",
    "        ax2.title.set_text(\"Validation precision\")\n",
    "        ax2.set_xlim(Ns[0],Ns[-1])\n",
    "        ax2.grid()\n",
    "        ax2.legend()\n",
    "        \n",
    "        if show_time:\n",
    "            ax5 = fig.add_subplot(subplotcode+3)\n",
    "            ax5.title.set_text(\"Computation time\")\n",
    "            for k in Ks:\n",
    "                ax5.plot(Ns, time_per_k[k], label=f\"k={k}\")\n",
    "            ax5.grid()\n",
    "            plt.legend()\n",
    "        \n",
    "\n",
    "\n",
    "        fig.tight_layout()\n",
    "              \n",
    "        plt.show()\n",
    "        \n",
    "        \n",
    "    \n",
    "    \n",
    "    if show_time: return (mean_training_per_k, std_training_per_k, mean_validation_per_k, std_validation_per_k, time_per_k)\n",
    "    else: return (mean_training_per_k, std_training_per_k, mean_validation_per_k, std_validation_per_k)\n",
    "    "
   ],
   "execution_count": 47,
   "outputs": []
  },
  {
   "cell_type": "code",
   "metadata": {
    "id": "Dt4zxc5thiUJ",
    "colab": {
     "base_uri": "https://localhost:8080/",
     "height": 398
    },
    "outputId": "0b09d382-6ee1-4e1f-9c00-79db79b73d48"
   },
   "source": [
    "nrows = dataset_adult.shape[0]\n",
    "Ks = list(range(1, 20, 2))\n",
    "Ns = [int(k * nrows) for k in [0.25, 0.5, 0.75, 1]]\n",
    "\n",
    "if(USE_IMAGES_INSTEAD_OF_COMPUTING):\n",
    "    display(Image(\"img/dataset_size_influence.png\"))\n",
    "else:\n",
    "    n_neighbors_influence_multiple_datasize(Ks, dataset_adult, labels_adult, Ns, loss_=\"manhattan\",\n",
    "                                           folds = 5, show_time=True, visualize=True)\n"
   ],
   "execution_count": 48,
   "outputs": [
    {
     "output_type": "stream",
     "name": "stdout",
     "text": [
      "1\n"
     ]
    },
    {
     "output_type": "error",
     "ename": "KeyboardInterrupt",
     "evalue": "ignored",
     "traceback": [
      "\u001b[0;31m---------------------------------------------------------------------------\u001b[0m",
      "\u001b[0;31mKeyboardInterrupt\u001b[0m                         Traceback (most recent call last)",
      "\u001b[0;32m<ipython-input-48-fe8632641e2e>\u001b[0m in \u001b[0;36m<module>\u001b[0;34m()\u001b[0m\n\u001b[1;32m      7\u001b[0m \u001b[0;32melse\u001b[0m\u001b[0;34m:\u001b[0m\u001b[0;34m\u001b[0m\u001b[0;34m\u001b[0m\u001b[0m\n\u001b[1;32m      8\u001b[0m     n_neighbors_influence_multiple_datasize(Ks, dataset_adult, labels_adult, Ns, loss_=\"manhattan\",\n\u001b[0;32m----> 9\u001b[0;31m                                            folds = 5, show_time=True, visualize=True)\n\u001b[0m",
      "\u001b[0;32m<ipython-input-47-f88bc00613f1>\u001b[0m in \u001b[0;36mn_neighbors_influence_multiple_datasize\u001b[0;34m(Ks, dataset_, labels_, Ns, loss_, weights, folds, show_time, visualize)\u001b[0m\n\u001b[1;32m     12\u001b[0m     \u001b[0;32mfor\u001b[0m \u001b[0mk\u001b[0m \u001b[0;32min\u001b[0m \u001b[0mKs\u001b[0m\u001b[0;34m:\u001b[0m\u001b[0;34m\u001b[0m\u001b[0;34m\u001b[0m\u001b[0m\n\u001b[1;32m     13\u001b[0m         \u001b[0mprint\u001b[0m\u001b[0;34m(\u001b[0m\u001b[0mk\u001b[0m\u001b[0;34m)\u001b[0m\u001b[0;34m\u001b[0m\u001b[0;34m\u001b[0m\u001b[0m\n\u001b[0;32m---> 14\u001b[0;31m         \u001b[0;32mif\u001b[0m \u001b[0mshow_time\u001b[0m\u001b[0;34m:\u001b[0m \u001b[0;34m(\u001b[0m\u001b[0mmean_trainings\u001b[0m\u001b[0;34m,\u001b[0m \u001b[0mstd_trainings\u001b[0m\u001b[0;34m,\u001b[0m \u001b[0mmean_validations\u001b[0m\u001b[0;34m,\u001b[0m \u001b[0mstd_validations\u001b[0m\u001b[0;34m,\u001b[0m \u001b[0mtimes\u001b[0m\u001b[0;34m)\u001b[0m \u001b[0;34m=\u001b[0m \u001b[0mdata_size_influence\u001b[0m\u001b[0;34m(\u001b[0m\u001b[0mknn\u001b[0m\u001b[0;34m,\u001b[0m \u001b[0mdataset_\u001b[0m\u001b[0;34m,\u001b[0m \u001b[0mlabels_\u001b[0m\u001b[0;34m,\u001b[0m \u001b[0mNs\u001b[0m\u001b[0;34m,\u001b[0m \u001b[0mloss_\u001b[0m\u001b[0;34m=\u001b[0m\u001b[0;34m\"manhattan\"\u001b[0m\u001b[0;34m,\u001b[0m \u001b[0mfolds\u001b[0m \u001b[0;34m=\u001b[0m \u001b[0mfolds\u001b[0m\u001b[0;34m,\u001b[0m \u001b[0malgo_kwargs\u001b[0m\u001b[0;34m=\u001b[0m\u001b[0;34m{\u001b[0m\u001b[0;34m\"n_neighbors\"\u001b[0m\u001b[0;34m:\u001b[0m\u001b[0mk\u001b[0m\u001b[0;34m,\u001b[0m \u001b[0;34m\"weights\"\u001b[0m\u001b[0;34m:\u001b[0m\u001b[0mweights\u001b[0m\u001b[0;34m}\u001b[0m\u001b[0;34m,\u001b[0m \u001b[0mshow_time\u001b[0m\u001b[0;34m=\u001b[0m\u001b[0mshow_time\u001b[0m\u001b[0;34m,\u001b[0m \u001b[0mvisualize\u001b[0m\u001b[0;34m=\u001b[0m\u001b[0;32mFalse\u001b[0m\u001b[0;34m)\u001b[0m\u001b[0;34m\u001b[0m\u001b[0;34m\u001b[0m\u001b[0m\n\u001b[0m\u001b[1;32m     15\u001b[0m         \u001b[0;32melse\u001b[0m\u001b[0;34m:\u001b[0m \u001b[0;34m(\u001b[0m\u001b[0mmean_trainings\u001b[0m\u001b[0;34m,\u001b[0m \u001b[0mstd_trainings\u001b[0m\u001b[0;34m,\u001b[0m \u001b[0mmean_validations\u001b[0m\u001b[0;34m,\u001b[0m \u001b[0mstd_validations\u001b[0m\u001b[0;34m)\u001b[0m \u001b[0;34m=\u001b[0m \u001b[0mdata_size_influence\u001b[0m\u001b[0;34m(\u001b[0m\u001b[0mknn\u001b[0m\u001b[0;34m,\u001b[0m \u001b[0mdataset_\u001b[0m\u001b[0;34m,\u001b[0m \u001b[0mlabels_\u001b[0m\u001b[0;34m,\u001b[0m \u001b[0mNs\u001b[0m\u001b[0;34m,\u001b[0m \u001b[0mloss_\u001b[0m\u001b[0;34m=\u001b[0m\u001b[0;34m\"manhattan\"\u001b[0m\u001b[0;34m,\u001b[0m \u001b[0mfolds\u001b[0m \u001b[0;34m=\u001b[0m \u001b[0mfolds\u001b[0m\u001b[0;34m,\u001b[0m \u001b[0malgo_kwargs\u001b[0m\u001b[0;34m=\u001b[0m\u001b[0;34m{\u001b[0m\u001b[0;34m\"n_neighbors\"\u001b[0m\u001b[0;34m:\u001b[0m\u001b[0mk\u001b[0m\u001b[0;34m,\u001b[0m \u001b[0;34m\"weights\"\u001b[0m\u001b[0;34m:\u001b[0m\u001b[0mweights\u001b[0m\u001b[0;34m}\u001b[0m\u001b[0;34m,\u001b[0m \u001b[0mshow_time\u001b[0m\u001b[0;34m=\u001b[0m\u001b[0mshow_time\u001b[0m\u001b[0;34m,\u001b[0m \u001b[0mvisualize\u001b[0m\u001b[0;34m=\u001b[0m\u001b[0;32mFalse\u001b[0m\u001b[0;34m)\u001b[0m\u001b[0;34m\u001b[0m\u001b[0;34m\u001b[0m\u001b[0m\n\u001b[1;32m     16\u001b[0m \u001b[0;34m\u001b[0m\u001b[0m\n",
      "\u001b[0;32m<ipython-input-19-01247fb27347>\u001b[0m in \u001b[0;36mdata_size_influence\u001b[0;34m(algo, dataset_, labels_, Ns, loss_, folds, algo_kwargs, show_time, visualize)\u001b[0m\n\u001b[1;32m     15\u001b[0m \u001b[0;34m\u001b[0m\u001b[0m\n\u001b[1;32m     16\u001b[0m         \u001b[0;32mif\u001b[0m \u001b[0mshow_time\u001b[0m\u001b[0;34m:\u001b[0m \u001b[0mt\u001b[0m \u001b[0;34m=\u001b[0m \u001b[0mtime\u001b[0m\u001b[0;34m.\u001b[0m\u001b[0mtime\u001b[0m\u001b[0;34m(\u001b[0m\u001b[0;34m)\u001b[0m\u001b[0;34m\u001b[0m\u001b[0;34m\u001b[0m\u001b[0m\n\u001b[0;32m---> 17\u001b[0;31m         \u001b[0mmean_training\u001b[0m\u001b[0;34m,\u001b[0m \u001b[0mstd_training\u001b[0m\u001b[0;34m,\u001b[0m \u001b[0mmean_validation\u001b[0m\u001b[0;34m,\u001b[0m \u001b[0mstd_validation\u001b[0m \u001b[0;34m=\u001b[0m \u001b[0mcross_validation\u001b[0m\u001b[0;34m(\u001b[0m\u001b[0malgo\u001b[0m\u001b[0;34m,\u001b[0m \u001b[0md\u001b[0m\u001b[0;34m,\u001b[0m \u001b[0ml\u001b[0m\u001b[0;34m,\u001b[0m \u001b[0mfolds\u001b[0m \u001b[0;34m=\u001b[0m \u001b[0mfolds\u001b[0m\u001b[0;34m,\u001b[0m \u001b[0malgo_kwargs\u001b[0m\u001b[0;34m=\u001b[0m\u001b[0malgo_kwargs\u001b[0m\u001b[0;34m)\u001b[0m\u001b[0;34m\u001b[0m\u001b[0;34m\u001b[0m\u001b[0m\n\u001b[0m\u001b[1;32m     18\u001b[0m         \u001b[0;32mif\u001b[0m \u001b[0mshow_time\u001b[0m\u001b[0;34m:\u001b[0m \u001b[0mtimes\u001b[0m\u001b[0;34m.\u001b[0m\u001b[0mappend\u001b[0m\u001b[0;34m(\u001b[0m\u001b[0mtime\u001b[0m\u001b[0;34m.\u001b[0m\u001b[0mtime\u001b[0m\u001b[0;34m(\u001b[0m\u001b[0;34m)\u001b[0m \u001b[0;34m-\u001b[0m \u001b[0mt\u001b[0m\u001b[0;34m)\u001b[0m\u001b[0;34m\u001b[0m\u001b[0;34m\u001b[0m\u001b[0m\n\u001b[1;32m     19\u001b[0m \u001b[0;34m\u001b[0m\u001b[0m\n",
      "\u001b[0;32m<ipython-input-18-8e4c1ad9b60b>\u001b[0m in \u001b[0;36mcross_validation\u001b[0;34m(algo, dataset_, labels_, loss_, folds, algo_kwargs)\u001b[0m\n\u001b[1;32m     18\u001b[0m         \u001b[0mtest_labels\u001b[0m \u001b[0;34m=\u001b[0m \u001b[0mlabels_\u001b[0m\u001b[0;34m[\u001b[0m\u001b[0mgroup_ids\u001b[0m \u001b[0;34m==\u001b[0m \u001b[0mN\u001b[0m\u001b[0;34m]\u001b[0m\u001b[0;34m.\u001b[0m\u001b[0mreset_index\u001b[0m\u001b[0;34m(\u001b[0m\u001b[0mdrop\u001b[0m\u001b[0;34m=\u001b[0m\u001b[0;32mTrue\u001b[0m\u001b[0;34m)\u001b[0m\u001b[0;34m\u001b[0m\u001b[0;34m\u001b[0m\u001b[0m\n\u001b[1;32m     19\u001b[0m         \u001b[0;31m# Training error\u001b[0m\u001b[0;34m\u001b[0m\u001b[0;34m\u001b[0m\u001b[0;34m\u001b[0m\u001b[0m\n\u001b[0;32m---> 20\u001b[0;31m         \u001b[0mtraining_predicted_labels\u001b[0m \u001b[0;34m=\u001b[0m \u001b[0malgo\u001b[0m\u001b[0;34m(\u001b[0m\u001b[0mtraining_set\u001b[0m\u001b[0;34m,\u001b[0m \u001b[0mtraining_labels\u001b[0m\u001b[0;34m,\u001b[0m \u001b[0mtraining_set\u001b[0m\u001b[0;34m,\u001b[0m \u001b[0;34m**\u001b[0m\u001b[0malgo_kwargs\u001b[0m\u001b[0;34m)\u001b[0m\u001b[0;34m\u001b[0m\u001b[0;34m\u001b[0m\u001b[0m\n\u001b[0m\u001b[1;32m     21\u001b[0m         \u001b[0mtraining_precisions\u001b[0m \u001b[0;34m+=\u001b[0m \u001b[0;34m[\u001b[0m\u001b[0;34m(\u001b[0m\u001b[0mlen\u001b[0m\u001b[0;34m(\u001b[0m\u001b[0mtraining_labels\u001b[0m\u001b[0;34m)\u001b[0m \u001b[0;34m-\u001b[0m \u001b[0merror\u001b[0m\u001b[0;34m(\u001b[0m\u001b[0mtraining_predicted_labels\u001b[0m\u001b[0;34m,\u001b[0m \u001b[0mtraining_labels\u001b[0m\u001b[0;34m,\u001b[0m \u001b[0mloss\u001b[0m \u001b[0;34m=\u001b[0m \u001b[0mloss_\u001b[0m\u001b[0;34m)\u001b[0m\u001b[0;34m)\u001b[0m\u001b[0;34m/\u001b[0m\u001b[0mlen\u001b[0m\u001b[0;34m(\u001b[0m\u001b[0mtraining_labels\u001b[0m\u001b[0;34m)\u001b[0m\u001b[0;34m]\u001b[0m\u001b[0;34m\u001b[0m\u001b[0;34m\u001b[0m\u001b[0m\n\u001b[1;32m     22\u001b[0m \u001b[0;34m\u001b[0m\u001b[0m\n",
      "\u001b[0;32m<ipython-input-46-f08905527eee>\u001b[0m in \u001b[0;36mknn\u001b[0;34m(training_features, training_labels, to_predict_features, n_neighbors, weights, algorithm, p)\u001b[0m\n\u001b[1;32m     13\u001b[0m     \u001b[0mneigh\u001b[0m\u001b[0;34m.\u001b[0m\u001b[0mfit\u001b[0m\u001b[0;34m(\u001b[0m\u001b[0mtraining_features\u001b[0m\u001b[0;34m,\u001b[0m \u001b[0mtraining_labels\u001b[0m\u001b[0;34m)\u001b[0m\u001b[0;34m\u001b[0m\u001b[0;34m\u001b[0m\u001b[0m\n\u001b[1;32m     14\u001b[0m \u001b[0;34m\u001b[0m\u001b[0m\n\u001b[0;32m---> 15\u001b[0;31m     \u001b[0;32mreturn\u001b[0m \u001b[0mneigh\u001b[0m\u001b[0;34m.\u001b[0m\u001b[0mpredict\u001b[0m\u001b[0;34m(\u001b[0m\u001b[0mto_predict_features\u001b[0m\u001b[0;34m)\u001b[0m\u001b[0;34m\u001b[0m\u001b[0;34m\u001b[0m\u001b[0m\n\u001b[0m",
      "\u001b[0;32m/usr/local/lib/python3.7/dist-packages/sklearn/neighbors/_classification.py\u001b[0m in \u001b[0;36mpredict\u001b[0;34m(self, X)\u001b[0m\n\u001b[1;32m    185\u001b[0m         \u001b[0;32mfor\u001b[0m \u001b[0mk\u001b[0m\u001b[0;34m,\u001b[0m \u001b[0mclasses_k\u001b[0m \u001b[0;32min\u001b[0m \u001b[0menumerate\u001b[0m\u001b[0;34m(\u001b[0m\u001b[0mclasses_\u001b[0m\u001b[0;34m)\u001b[0m\u001b[0;34m:\u001b[0m\u001b[0;34m\u001b[0m\u001b[0;34m\u001b[0m\u001b[0m\n\u001b[1;32m    186\u001b[0m             \u001b[0;32mif\u001b[0m \u001b[0mweights\u001b[0m \u001b[0;32mis\u001b[0m \u001b[0;32mNone\u001b[0m\u001b[0;34m:\u001b[0m\u001b[0;34m\u001b[0m\u001b[0;34m\u001b[0m\u001b[0m\n\u001b[0;32m--> 187\u001b[0;31m                 \u001b[0mmode\u001b[0m\u001b[0;34m,\u001b[0m \u001b[0m_\u001b[0m \u001b[0;34m=\u001b[0m \u001b[0mstats\u001b[0m\u001b[0;34m.\u001b[0m\u001b[0mmode\u001b[0m\u001b[0;34m(\u001b[0m\u001b[0m_y\u001b[0m\u001b[0;34m[\u001b[0m\u001b[0mneigh_ind\u001b[0m\u001b[0;34m,\u001b[0m \u001b[0mk\u001b[0m\u001b[0;34m]\u001b[0m\u001b[0;34m,\u001b[0m \u001b[0maxis\u001b[0m\u001b[0;34m=\u001b[0m\u001b[0;36m1\u001b[0m\u001b[0;34m)\u001b[0m\u001b[0;34m\u001b[0m\u001b[0;34m\u001b[0m\u001b[0m\n\u001b[0m\u001b[1;32m    188\u001b[0m             \u001b[0;32melse\u001b[0m\u001b[0;34m:\u001b[0m\u001b[0;34m\u001b[0m\u001b[0;34m\u001b[0m\u001b[0m\n\u001b[1;32m    189\u001b[0m                 \u001b[0mmode\u001b[0m\u001b[0;34m,\u001b[0m \u001b[0m_\u001b[0m \u001b[0;34m=\u001b[0m \u001b[0mweighted_mode\u001b[0m\u001b[0;34m(\u001b[0m\u001b[0m_y\u001b[0m\u001b[0;34m[\u001b[0m\u001b[0mneigh_ind\u001b[0m\u001b[0;34m,\u001b[0m \u001b[0mk\u001b[0m\u001b[0;34m]\u001b[0m\u001b[0;34m,\u001b[0m \u001b[0mweights\u001b[0m\u001b[0;34m,\u001b[0m \u001b[0maxis\u001b[0m\u001b[0;34m=\u001b[0m\u001b[0;36m1\u001b[0m\u001b[0;34m)\u001b[0m\u001b[0;34m\u001b[0m\u001b[0;34m\u001b[0m\u001b[0m\n",
      "\u001b[0;32m/usr/local/lib/python3.7/dist-packages/scipy/stats/stats.py\u001b[0m in \u001b[0;36mmode\u001b[0;34m(a, axis, nan_policy)\u001b[0m\n\u001b[1;32m    498\u001b[0m     \u001b[0mcounts\u001b[0m \u001b[0;34m=\u001b[0m \u001b[0mnp\u001b[0m\u001b[0;34m.\u001b[0m\u001b[0mzeros\u001b[0m\u001b[0;34m(\u001b[0m\u001b[0ma_view\u001b[0m\u001b[0;34m.\u001b[0m\u001b[0mshape\u001b[0m\u001b[0;34m[\u001b[0m\u001b[0;34m:\u001b[0m\u001b[0;34m-\u001b[0m\u001b[0;36m1\u001b[0m\u001b[0;34m]\u001b[0m\u001b[0;34m,\u001b[0m \u001b[0mdtype\u001b[0m\u001b[0;34m=\u001b[0m\u001b[0mnp\u001b[0m\u001b[0;34m.\u001b[0m\u001b[0mint\u001b[0m\u001b[0;34m)\u001b[0m\u001b[0;34m\u001b[0m\u001b[0;34m\u001b[0m\u001b[0m\n\u001b[1;32m    499\u001b[0m     \u001b[0;32mfor\u001b[0m \u001b[0mind\u001b[0m \u001b[0;32min\u001b[0m \u001b[0minds\u001b[0m\u001b[0;34m:\u001b[0m\u001b[0;34m\u001b[0m\u001b[0;34m\u001b[0m\u001b[0m\n\u001b[0;32m--> 500\u001b[0;31m         \u001b[0mmodes\u001b[0m\u001b[0;34m[\u001b[0m\u001b[0mind\u001b[0m\u001b[0;34m]\u001b[0m\u001b[0;34m,\u001b[0m \u001b[0mcounts\u001b[0m\u001b[0;34m[\u001b[0m\u001b[0mind\u001b[0m\u001b[0;34m]\u001b[0m \u001b[0;34m=\u001b[0m \u001b[0m_mode1D\u001b[0m\u001b[0;34m(\u001b[0m\u001b[0ma_view\u001b[0m\u001b[0;34m[\u001b[0m\u001b[0mind\u001b[0m\u001b[0;34m]\u001b[0m\u001b[0;34m)\u001b[0m\u001b[0;34m\u001b[0m\u001b[0;34m\u001b[0m\u001b[0m\n\u001b[0m\u001b[1;32m    501\u001b[0m     \u001b[0mnewshape\u001b[0m \u001b[0;34m=\u001b[0m \u001b[0mlist\u001b[0m\u001b[0;34m(\u001b[0m\u001b[0ma\u001b[0m\u001b[0;34m.\u001b[0m\u001b[0mshape\u001b[0m\u001b[0;34m)\u001b[0m\u001b[0;34m\u001b[0m\u001b[0;34m\u001b[0m\u001b[0m\n\u001b[1;32m    502\u001b[0m     \u001b[0mnewshape\u001b[0m\u001b[0;34m[\u001b[0m\u001b[0maxis\u001b[0m\u001b[0;34m]\u001b[0m \u001b[0;34m=\u001b[0m \u001b[0;36m1\u001b[0m\u001b[0;34m\u001b[0m\u001b[0;34m\u001b[0m\u001b[0m\n",
      "\u001b[0;32m/usr/local/lib/python3.7/dist-packages/scipy/stats/stats.py\u001b[0m in \u001b[0;36m_mode1D\u001b[0;34m(a)\u001b[0m\n\u001b[1;32m    485\u001b[0m \u001b[0;34m\u001b[0m\u001b[0m\n\u001b[1;32m    486\u001b[0m     \u001b[0;32mdef\u001b[0m \u001b[0m_mode1D\u001b[0m\u001b[0;34m(\u001b[0m\u001b[0ma\u001b[0m\u001b[0;34m)\u001b[0m\u001b[0;34m:\u001b[0m\u001b[0;34m\u001b[0m\u001b[0;34m\u001b[0m\u001b[0m\n\u001b[0;32m--> 487\u001b[0;31m         \u001b[0mvals\u001b[0m\u001b[0;34m,\u001b[0m \u001b[0mcnts\u001b[0m \u001b[0;34m=\u001b[0m \u001b[0mnp\u001b[0m\u001b[0;34m.\u001b[0m\u001b[0munique\u001b[0m\u001b[0;34m(\u001b[0m\u001b[0ma\u001b[0m\u001b[0;34m,\u001b[0m \u001b[0mreturn_counts\u001b[0m\u001b[0;34m=\u001b[0m\u001b[0;32mTrue\u001b[0m\u001b[0;34m)\u001b[0m\u001b[0;34m\u001b[0m\u001b[0;34m\u001b[0m\u001b[0m\n\u001b[0m\u001b[1;32m    488\u001b[0m         \u001b[0;32mreturn\u001b[0m \u001b[0mvals\u001b[0m\u001b[0;34m[\u001b[0m\u001b[0mcnts\u001b[0m\u001b[0;34m.\u001b[0m\u001b[0margmax\u001b[0m\u001b[0;34m(\u001b[0m\u001b[0;34m)\u001b[0m\u001b[0;34m]\u001b[0m\u001b[0;34m,\u001b[0m \u001b[0mcnts\u001b[0m\u001b[0;34m.\u001b[0m\u001b[0mmax\u001b[0m\u001b[0;34m(\u001b[0m\u001b[0;34m)\u001b[0m\u001b[0;34m\u001b[0m\u001b[0;34m\u001b[0m\u001b[0m\n\u001b[1;32m    489\u001b[0m \u001b[0;34m\u001b[0m\u001b[0m\n",
      "\u001b[0;32m<__array_function__ internals>\u001b[0m in \u001b[0;36munique\u001b[0;34m(*args, **kwargs)\u001b[0m\n",
      "\u001b[0;32m/usr/local/lib/python3.7/dist-packages/numpy/lib/arraysetops.py\u001b[0m in \u001b[0;36munique\u001b[0;34m(ar, return_index, return_inverse, return_counts, axis)\u001b[0m\n\u001b[1;32m    259\u001b[0m     \u001b[0mar\u001b[0m \u001b[0;34m=\u001b[0m \u001b[0mnp\u001b[0m\u001b[0;34m.\u001b[0m\u001b[0masanyarray\u001b[0m\u001b[0;34m(\u001b[0m\u001b[0mar\u001b[0m\u001b[0;34m)\u001b[0m\u001b[0;34m\u001b[0m\u001b[0;34m\u001b[0m\u001b[0m\n\u001b[1;32m    260\u001b[0m     \u001b[0;32mif\u001b[0m \u001b[0maxis\u001b[0m \u001b[0;32mis\u001b[0m \u001b[0;32mNone\u001b[0m\u001b[0;34m:\u001b[0m\u001b[0;34m\u001b[0m\u001b[0;34m\u001b[0m\u001b[0m\n\u001b[0;32m--> 261\u001b[0;31m         \u001b[0mret\u001b[0m \u001b[0;34m=\u001b[0m \u001b[0m_unique1d\u001b[0m\u001b[0;34m(\u001b[0m\u001b[0mar\u001b[0m\u001b[0;34m,\u001b[0m \u001b[0mreturn_index\u001b[0m\u001b[0;34m,\u001b[0m \u001b[0mreturn_inverse\u001b[0m\u001b[0;34m,\u001b[0m \u001b[0mreturn_counts\u001b[0m\u001b[0;34m)\u001b[0m\u001b[0;34m\u001b[0m\u001b[0;34m\u001b[0m\u001b[0m\n\u001b[0m\u001b[1;32m    262\u001b[0m         \u001b[0;32mreturn\u001b[0m \u001b[0m_unpack_tuple\u001b[0m\u001b[0;34m(\u001b[0m\u001b[0mret\u001b[0m\u001b[0;34m)\u001b[0m\u001b[0;34m\u001b[0m\u001b[0;34m\u001b[0m\u001b[0m\n\u001b[1;32m    263\u001b[0m \u001b[0;34m\u001b[0m\u001b[0m\n",
      "\u001b[0;32m/usr/local/lib/python3.7/dist-packages/numpy/lib/arraysetops.py\u001b[0m in \u001b[0;36m_unique1d\u001b[0;34m(ar, return_index, return_inverse, return_counts)\u001b[0m\n\u001b[1;32m    326\u001b[0m     \u001b[0mmask\u001b[0m\u001b[0;34m[\u001b[0m\u001b[0;36m1\u001b[0m\u001b[0;34m:\u001b[0m\u001b[0;34m]\u001b[0m \u001b[0;34m=\u001b[0m \u001b[0maux\u001b[0m\u001b[0;34m[\u001b[0m\u001b[0;36m1\u001b[0m\u001b[0;34m:\u001b[0m\u001b[0;34m]\u001b[0m \u001b[0;34m!=\u001b[0m \u001b[0maux\u001b[0m\u001b[0;34m[\u001b[0m\u001b[0;34m:\u001b[0m\u001b[0;34m-\u001b[0m\u001b[0;36m1\u001b[0m\u001b[0;34m]\u001b[0m\u001b[0;34m\u001b[0m\u001b[0;34m\u001b[0m\u001b[0m\n\u001b[1;32m    327\u001b[0m \u001b[0;34m\u001b[0m\u001b[0m\n\u001b[0;32m--> 328\u001b[0;31m     \u001b[0mret\u001b[0m \u001b[0;34m=\u001b[0m \u001b[0;34m(\u001b[0m\u001b[0maux\u001b[0m\u001b[0;34m[\u001b[0m\u001b[0mmask\u001b[0m\u001b[0;34m]\u001b[0m\u001b[0;34m,\u001b[0m\u001b[0;34m)\u001b[0m\u001b[0;34m\u001b[0m\u001b[0;34m\u001b[0m\u001b[0m\n\u001b[0m\u001b[1;32m    329\u001b[0m     \u001b[0;32mif\u001b[0m \u001b[0mreturn_index\u001b[0m\u001b[0;34m:\u001b[0m\u001b[0;34m\u001b[0m\u001b[0;34m\u001b[0m\u001b[0m\n\u001b[1;32m    330\u001b[0m         \u001b[0mret\u001b[0m \u001b[0;34m+=\u001b[0m \u001b[0;34m(\u001b[0m\u001b[0mperm\u001b[0m\u001b[0;34m[\u001b[0m\u001b[0mmask\u001b[0m\u001b[0;34m]\u001b[0m\u001b[0;34m,\u001b[0m\u001b[0;34m)\u001b[0m\u001b[0;34m\u001b[0m\u001b[0;34m\u001b[0m\u001b[0m\n",
      "\u001b[0;31mKeyboardInterrupt\u001b[0m: "
     ]
    }
   ]
  },
  {
   "cell_type": "markdown",
   "metadata": {
    "id": "tPnmzJ26-DpD"
   },
   "source": [
    "Considering the above results, when working on hyperpara"
   ]
  },
  {
   "cell_type": "code",
   "metadata": {
    "id": "53lnubXDhiUK"
   },
   "source": [
    "def n_neighbors_influence_fixed_datasize(Ks, dataset_, labels_, N, loss_=\"manhattan\",\n",
    "                                         weights = \"uniform\",folds = 5, show_time=False,\n",
    "                                         visualize=True):\n",
    "    nrows = dataset_.shape[0]\n",
    "    mean_trainings = []\n",
    "    std_trainings = []\n",
    "    mean_validations = []\n",
    "    std_validations = []\n",
    "    \n",
    "    if show_time: times = []\n",
    "    \n",
    "    for k in Ks:\n",
    "        print(k)\n",
    "        indices = list(np.random.choice(nrows, N))\n",
    "        d = dataset_.iloc[indices].reset_index(drop=True)\n",
    "        l = labels_.iloc[indices].reset_index(drop=True)\n",
    "        \n",
    "        if show_time: t = time.time()\n",
    "        mean_training, std_training, mean_validation, std_validation = cross_validation(knn, d, l, folds = folds, algo_kwargs={\"n_neighbors\": k, \"weights\":weights})\n",
    "        if show_time: times.append(time.time() - t)\n",
    "        \n",
    "        mean_trainings.append(mean_training)\n",
    "        std_trainings.append(std_training)\n",
    "        mean_validations.append(mean_validation)\n",
    "        std_validations.append(std_validation)\n",
    "    \n",
    "    if visualize:\n",
    "        fig = plt.figure(figsize=(15,10))\n",
    "        #fig.suptitle(\"Influence of training/validation dataset size\")\n",
    "        ax1 = fig.gca()\n",
    "        plotMeanAndStd([i for i in zip(mean_trainings, std_trainings)], Ks, ax = ax1, color = 'b', legend=\"Training\")\n",
    "        plotMeanAndStd([i for i in zip(mean_validations, std_validations)], Ks, ax = ax1, color = 'r', legend=\"Validation\")\n",
    "        ax1.set_ylim(0,1.1)\n",
    "        ax1.grid()\n",
    "        ax1.title.set_text(\"Precision\")\n",
    "        ax1.set_xlabel(\"K\")\n",
    "        ax1.set_ylabel(\"Precision\")\n",
    "        ax1.legend()\n",
    "        ax1.set_xlim(min(Ks), max(Ks))\n",
    "        if show_time:\n",
    "            ax5 = fig.add_subplot(235)\n",
    "            ax5.title.set_text(\"Computation time\")\n",
    "            ax5.plot(Ks, times)\n",
    "\n",
    "        plt.show()\n",
    "    \n",
    "    if show_time: return (mean_trainings, std_trainings, mean_validations, std_validations, times)\n",
    "    else: \n",
    "        return (mean_trainings, std_trainings, mean_validations, std_validations)\n",
    "    "
   ],
   "execution_count": 49,
   "outputs": []
  },
  {
   "cell_type": "markdown",
   "metadata": {
    "id": "RflEuMffhiUM"
   },
   "source": [
    "### Knn results for dataset 1"
   ]
  },
  {
   "cell_type": "markdown",
   "metadata": {
    "id": "Qkl--WbH-DpE"
   },
   "source": [
    "First we create a normalized version of the dataset, as well as a version where, after normalization, features are weighted according to the importance a decision tree algorithm gives them. As a trade-off between computation time and precision, we only work with a subset whose size is 75% of the original one."
   ]
  },
  {
   "cell_type": "code",
   "metadata": {
    "colab": {
     "base_uri": "https://localhost:8080/",
     "height": 470
    },
    "id": "mFkn7Osb-DpE",
    "outputId": "d270ad97-c6fd-4e7c-ed36-533916b163aa"
   },
   "source": [
    "nrows = dataset_adult.shape[0]\n",
    "N = int(0.75 * nrows)\n",
    "indices = list(np.random.choice(nrows, N))\n",
    "dataset_adult_75 = dataset_adult.iloc[indices].reset_index(drop=True)\n",
    "labels_adult_75 = labels_adult.iloc[indices].reset_index(drop=True)\n",
    "\n",
    "\n",
    "normalized_dataset_adult = dataset_adult_75.copy(deep=True)\n",
    "normalize(normalized_dataset_adult)\n",
    "\n",
    "normalized_test_dataset_adult = test_dataset_adult.copy(deep=True)\n",
    "normalize(normalized_test_dataset_adult)"
   ],
   "execution_count": null,
   "outputs": [
    {
     "output_type": "execute_result",
     "data": {
      "text/html": [
       "<div>\n",
       "<style scoped>\n",
       "    .dataframe tbody tr th:only-of-type {\n",
       "        vertical-align: middle;\n",
       "    }\n",
       "\n",
       "    .dataframe tbody tr th {\n",
       "        vertical-align: top;\n",
       "    }\n",
       "\n",
       "    .dataframe thead th {\n",
       "        text-align: right;\n",
       "    }\n",
       "</style>\n",
       "<table border=\"1\" class=\"dataframe\">\n",
       "  <thead>\n",
       "    <tr style=\"text-align: right;\">\n",
       "      <th></th>\n",
       "      <th>age</th>\n",
       "      <th>workclass_Federal-gov</th>\n",
       "      <th>workclass_Local-gov</th>\n",
       "      <th>workclass_Private</th>\n",
       "      <th>workclass_Self-emp-inc</th>\n",
       "      <th>workclass_Self-emp-not-inc</th>\n",
       "      <th>workclass_State-gov</th>\n",
       "      <th>workclass_Without-pay</th>\n",
       "      <th>fnlwgt</th>\n",
       "      <th>education_10th</th>\n",
       "      <th>education_11th</th>\n",
       "      <th>education_12th</th>\n",
       "      <th>education_1st-4th</th>\n",
       "      <th>education_5th-6th</th>\n",
       "      <th>education_7th-8th</th>\n",
       "      <th>education_9th</th>\n",
       "      <th>education_Assoc-acdm</th>\n",
       "      <th>education_Assoc-voc</th>\n",
       "      <th>education_Bachelors</th>\n",
       "      <th>education_Doctorate</th>\n",
       "      <th>education_HS-grad</th>\n",
       "      <th>education_Masters</th>\n",
       "      <th>education_Preschool</th>\n",
       "      <th>education_Prof-school</th>\n",
       "      <th>education_Some-college</th>\n",
       "      <th>education-num</th>\n",
       "      <th>marital-status_Divorced</th>\n",
       "      <th>marital-status_Married-AF-spouse</th>\n",
       "      <th>marital-status_Married-civ-spouse</th>\n",
       "      <th>marital-status_Married-spouse-absent</th>\n",
       "      <th>marital-status_Never-married</th>\n",
       "      <th>marital-status_Separated</th>\n",
       "      <th>marital-status_Widowed</th>\n",
       "      <th>occupation_Adm-clerical</th>\n",
       "      <th>occupation_Armed-Forces</th>\n",
       "      <th>occupation_Craft-repair</th>\n",
       "      <th>occupation_Exec-managerial</th>\n",
       "      <th>occupation_Farming-fishing</th>\n",
       "      <th>occupation_Handlers-cleaners</th>\n",
       "      <th>occupation_Machine-op-inspct</th>\n",
       "      <th>...</th>\n",
       "      <th>native-country_Canada</th>\n",
       "      <th>native-country_China</th>\n",
       "      <th>native-country_Columbia</th>\n",
       "      <th>native-country_Cuba</th>\n",
       "      <th>native-country_Dominican-Republic</th>\n",
       "      <th>native-country_Ecuador</th>\n",
       "      <th>native-country_El-Salvador</th>\n",
       "      <th>native-country_England</th>\n",
       "      <th>native-country_France</th>\n",
       "      <th>native-country_Germany</th>\n",
       "      <th>native-country_Greece</th>\n",
       "      <th>native-country_Guatemala</th>\n",
       "      <th>native-country_Haiti</th>\n",
       "      <th>native-country_Honduras</th>\n",
       "      <th>native-country_Hong</th>\n",
       "      <th>native-country_Hungary</th>\n",
       "      <th>native-country_India</th>\n",
       "      <th>native-country_Iran</th>\n",
       "      <th>native-country_Ireland</th>\n",
       "      <th>native-country_Italy</th>\n",
       "      <th>native-country_Jamaica</th>\n",
       "      <th>native-country_Japan</th>\n",
       "      <th>native-country_Laos</th>\n",
       "      <th>native-country_Mexico</th>\n",
       "      <th>native-country_Nicaragua</th>\n",
       "      <th>native-country_Outlying-US(Guam-USVI-etc)</th>\n",
       "      <th>native-country_Peru</th>\n",
       "      <th>native-country_Philippines</th>\n",
       "      <th>native-country_Poland</th>\n",
       "      <th>native-country_Portugal</th>\n",
       "      <th>native-country_Puerto-Rico</th>\n",
       "      <th>native-country_Scotland</th>\n",
       "      <th>native-country_South</th>\n",
       "      <th>native-country_Taiwan</th>\n",
       "      <th>native-country_Thailand</th>\n",
       "      <th>native-country_Trinadad&amp;Tobago</th>\n",
       "      <th>native-country_United-States</th>\n",
       "      <th>native-country_Vietnam</th>\n",
       "      <th>native-country_Yugoslavia</th>\n",
       "      <th>native-country_Holand-Netherlands</th>\n",
       "    </tr>\n",
       "  </thead>\n",
       "  <tbody>\n",
       "    <tr>\n",
       "      <th>0</th>\n",
       "      <td>-1.029005</td>\n",
       "      <td>-0.178098</td>\n",
       "      <td>-0.271374</td>\n",
       "      <td>0.605378</td>\n",
       "      <td>-0.198698</td>\n",
       "      <td>-0.306982</td>\n",
       "      <td>-0.215272</td>\n",
       "      <td>-0.021564</td>\n",
       "      <td>0.352098</td>\n",
       "      <td>-0.165817</td>\n",
       "      <td>5.037339</td>\n",
       "      <td>-0.116013</td>\n",
       "      <td>-0.068824</td>\n",
       "      <td>-0.103952</td>\n",
       "      <td>-0.134091</td>\n",
       "      <td>-0.122038</td>\n",
       "      <td>-0.185121</td>\n",
       "      <td>-0.212727</td>\n",
       "      <td>-0.448923</td>\n",
       "      <td>-0.106532</td>\n",
       "      <td>-0.698988</td>\n",
       "      <td>-0.250168</td>\n",
       "      <td>-0.04238</td>\n",
       "      <td>-0.128063</td>\n",
       "      <td>-0.521600</td>\n",
       "      <td>-1.216563</td>\n",
       "      <td>-0.400643</td>\n",
       "      <td>-0.027036</td>\n",
       "      <td>-0.930683</td>\n",
       "      <td>-0.110602</td>\n",
       "      <td>1.446075</td>\n",
       "      <td>-0.179876</td>\n",
       "      <td>-0.175502</td>\n",
       "      <td>-0.370643</td>\n",
       "      <td>-0.018224</td>\n",
       "      <td>-0.390201</td>\n",
       "      <td>-0.390427</td>\n",
       "      <td>-0.18358</td>\n",
       "      <td>-0.220124</td>\n",
       "      <td>3.741657</td>\n",
       "      <td>...</td>\n",
       "      <td>-0.061093</td>\n",
       "      <td>-0.054745</td>\n",
       "      <td>-0.041586</td>\n",
       "      <td>-0.052248</td>\n",
       "      <td>-0.044677</td>\n",
       "      <td>-0.032612</td>\n",
       "      <td>-0.055952</td>\n",
       "      <td>-0.046862</td>\n",
       "      <td>-0.024453</td>\n",
       "      <td>-0.065839</td>\n",
       "      <td>-0.036466</td>\n",
       "      <td>-0.03911</td>\n",
       "      <td>-0.04238</td>\n",
       "      <td>-0.021564</td>\n",
       "      <td>-0.024453</td>\n",
       "      <td>-0.018224</td>\n",
       "      <td>-0.055952</td>\n",
       "      <td>-0.030504</td>\n",
       "      <td>-0.028239</td>\n",
       "      <td>-0.046145</td>\n",
       "      <td>-0.03911</td>\n",
       "      <td>-0.044677</td>\n",
       "      <td>-0.0163</td>\n",
       "      <td>-0.14086</td>\n",
       "      <td>-0.031575</td>\n",
       "      <td>-0.023054</td>\n",
       "      <td>-0.031575</td>\n",
       "      <td>-0.079675</td>\n",
       "      <td>-0.040777</td>\n",
       "      <td>-0.043159</td>\n",
       "      <td>-0.066346</td>\n",
       "      <td>-0.024453</td>\n",
       "      <td>-0.044677</td>\n",
       "      <td>-0.029393</td>\n",
       "      <td>-0.028239</td>\n",
       "      <td>-0.023054</td>\n",
       "      <td>0.303734</td>\n",
       "      <td>-0.035542</td>\n",
       "      <td>-0.021564</td>\n",
       "      <td>0.0</td>\n",
       "    </tr>\n",
       "    <tr>\n",
       "      <th>1</th>\n",
       "      <td>-0.057423</td>\n",
       "      <td>-0.178098</td>\n",
       "      <td>-0.271374</td>\n",
       "      <td>0.605378</td>\n",
       "      <td>-0.198698</td>\n",
       "      <td>-0.306982</td>\n",
       "      <td>-0.215272</td>\n",
       "      <td>-0.021564</td>\n",
       "      <td>-0.944995</td>\n",
       "      <td>-0.165817</td>\n",
       "      <td>-0.198518</td>\n",
       "      <td>-0.116013</td>\n",
       "      <td>-0.068824</td>\n",
       "      <td>-0.103952</td>\n",
       "      <td>-0.134091</td>\n",
       "      <td>-0.122038</td>\n",
       "      <td>-0.185121</td>\n",
       "      <td>-0.212727</td>\n",
       "      <td>-0.448923</td>\n",
       "      <td>-0.106532</td>\n",
       "      <td>1.430641</td>\n",
       "      <td>-0.250168</td>\n",
       "      <td>-0.04238</td>\n",
       "      <td>-0.128063</td>\n",
       "      <td>-0.521600</td>\n",
       "      <td>-0.434898</td>\n",
       "      <td>-0.400643</td>\n",
       "      <td>-0.027036</td>\n",
       "      <td>1.074480</td>\n",
       "      <td>-0.110602</td>\n",
       "      <td>-0.691527</td>\n",
       "      <td>-0.179876</td>\n",
       "      <td>-0.175502</td>\n",
       "      <td>-0.370643</td>\n",
       "      <td>-0.018224</td>\n",
       "      <td>-0.390201</td>\n",
       "      <td>-0.390427</td>\n",
       "      <td>5.44721</td>\n",
       "      <td>-0.220124</td>\n",
       "      <td>-0.267261</td>\n",
       "      <td>...</td>\n",
       "      <td>-0.061093</td>\n",
       "      <td>-0.054745</td>\n",
       "      <td>-0.041586</td>\n",
       "      <td>-0.052248</td>\n",
       "      <td>-0.044677</td>\n",
       "      <td>-0.032612</td>\n",
       "      <td>-0.055952</td>\n",
       "      <td>-0.046862</td>\n",
       "      <td>-0.024453</td>\n",
       "      <td>-0.065839</td>\n",
       "      <td>-0.036466</td>\n",
       "      <td>-0.03911</td>\n",
       "      <td>-0.04238</td>\n",
       "      <td>-0.021564</td>\n",
       "      <td>-0.024453</td>\n",
       "      <td>-0.018224</td>\n",
       "      <td>-0.055952</td>\n",
       "      <td>-0.030504</td>\n",
       "      <td>-0.028239</td>\n",
       "      <td>-0.046145</td>\n",
       "      <td>-0.03911</td>\n",
       "      <td>-0.044677</td>\n",
       "      <td>-0.0163</td>\n",
       "      <td>-0.14086</td>\n",
       "      <td>-0.031575</td>\n",
       "      <td>-0.023054</td>\n",
       "      <td>-0.031575</td>\n",
       "      <td>-0.079675</td>\n",
       "      <td>-0.040777</td>\n",
       "      <td>-0.043159</td>\n",
       "      <td>-0.066346</td>\n",
       "      <td>-0.024453</td>\n",
       "      <td>-0.044677</td>\n",
       "      <td>-0.029393</td>\n",
       "      <td>-0.028239</td>\n",
       "      <td>-0.023054</td>\n",
       "      <td>0.303734</td>\n",
       "      <td>-0.035542</td>\n",
       "      <td>-0.021564</td>\n",
       "      <td>0.0</td>\n",
       "    </tr>\n",
       "    <tr>\n",
       "      <th>2</th>\n",
       "      <td>-0.804794</td>\n",
       "      <td>-0.178098</td>\n",
       "      <td>3.684955</td>\n",
       "      <td>-1.651861</td>\n",
       "      <td>-0.198698</td>\n",
       "      <td>-0.306982</td>\n",
       "      <td>-0.215272</td>\n",
       "      <td>-0.021564</td>\n",
       "      <td>1.395062</td>\n",
       "      <td>-0.165817</td>\n",
       "      <td>-0.198518</td>\n",
       "      <td>-0.116013</td>\n",
       "      <td>-0.068824</td>\n",
       "      <td>-0.103952</td>\n",
       "      <td>-0.134091</td>\n",
       "      <td>-0.122038</td>\n",
       "      <td>5.401885</td>\n",
       "      <td>-0.212727</td>\n",
       "      <td>-0.448923</td>\n",
       "      <td>-0.106532</td>\n",
       "      <td>-0.698988</td>\n",
       "      <td>-0.250168</td>\n",
       "      <td>-0.04238</td>\n",
       "      <td>-0.128063</td>\n",
       "      <td>-0.521600</td>\n",
       "      <td>0.737599</td>\n",
       "      <td>-0.400643</td>\n",
       "      <td>-0.027036</td>\n",
       "      <td>1.074480</td>\n",
       "      <td>-0.110602</td>\n",
       "      <td>-0.691527</td>\n",
       "      <td>-0.179876</td>\n",
       "      <td>-0.175502</td>\n",
       "      <td>-0.370643</td>\n",
       "      <td>-0.018224</td>\n",
       "      <td>-0.390201</td>\n",
       "      <td>-0.390427</td>\n",
       "      <td>-0.18358</td>\n",
       "      <td>-0.220124</td>\n",
       "      <td>-0.267261</td>\n",
       "      <td>...</td>\n",
       "      <td>-0.061093</td>\n",
       "      <td>-0.054745</td>\n",
       "      <td>-0.041586</td>\n",
       "      <td>-0.052248</td>\n",
       "      <td>-0.044677</td>\n",
       "      <td>-0.032612</td>\n",
       "      <td>-0.055952</td>\n",
       "      <td>-0.046862</td>\n",
       "      <td>-0.024453</td>\n",
       "      <td>-0.065839</td>\n",
       "      <td>-0.036466</td>\n",
       "      <td>-0.03911</td>\n",
       "      <td>-0.04238</td>\n",
       "      <td>-0.021564</td>\n",
       "      <td>-0.024453</td>\n",
       "      <td>-0.018224</td>\n",
       "      <td>-0.055952</td>\n",
       "      <td>-0.030504</td>\n",
       "      <td>-0.028239</td>\n",
       "      <td>-0.046145</td>\n",
       "      <td>-0.03911</td>\n",
       "      <td>-0.044677</td>\n",
       "      <td>-0.0163</td>\n",
       "      <td>-0.14086</td>\n",
       "      <td>-0.031575</td>\n",
       "      <td>-0.023054</td>\n",
       "      <td>-0.031575</td>\n",
       "      <td>-0.079675</td>\n",
       "      <td>-0.040777</td>\n",
       "      <td>-0.043159</td>\n",
       "      <td>-0.066346</td>\n",
       "      <td>-0.024453</td>\n",
       "      <td>-0.044677</td>\n",
       "      <td>-0.029393</td>\n",
       "      <td>-0.028239</td>\n",
       "      <td>-0.023054</td>\n",
       "      <td>0.303734</td>\n",
       "      <td>-0.035542</td>\n",
       "      <td>-0.021564</td>\n",
       "      <td>0.0</td>\n",
       "    </tr>\n",
       "    <tr>\n",
       "      <th>3</th>\n",
       "      <td>0.391000</td>\n",
       "      <td>-0.178098</td>\n",
       "      <td>-0.271374</td>\n",
       "      <td>0.605378</td>\n",
       "      <td>-0.198698</td>\n",
       "      <td>-0.306982</td>\n",
       "      <td>-0.215272</td>\n",
       "      <td>-0.021564</td>\n",
       "      <td>-0.277369</td>\n",
       "      <td>-0.165817</td>\n",
       "      <td>-0.198518</td>\n",
       "      <td>-0.116013</td>\n",
       "      <td>-0.068824</td>\n",
       "      <td>-0.103952</td>\n",
       "      <td>-0.134091</td>\n",
       "      <td>-0.122038</td>\n",
       "      <td>-0.185121</td>\n",
       "      <td>-0.212727</td>\n",
       "      <td>-0.448923</td>\n",
       "      <td>-0.106532</td>\n",
       "      <td>-0.698988</td>\n",
       "      <td>-0.250168</td>\n",
       "      <td>-0.04238</td>\n",
       "      <td>-0.128063</td>\n",
       "      <td>1.917177</td>\n",
       "      <td>-0.044066</td>\n",
       "      <td>-0.400643</td>\n",
       "      <td>-0.027036</td>\n",
       "      <td>1.074480</td>\n",
       "      <td>-0.110602</td>\n",
       "      <td>-0.691527</td>\n",
       "      <td>-0.179876</td>\n",
       "      <td>-0.175502</td>\n",
       "      <td>-0.370643</td>\n",
       "      <td>-0.018224</td>\n",
       "      <td>-0.390201</td>\n",
       "      <td>-0.390427</td>\n",
       "      <td>-0.18358</td>\n",
       "      <td>-0.220124</td>\n",
       "      <td>3.741657</td>\n",
       "      <td>...</td>\n",
       "      <td>-0.061093</td>\n",
       "      <td>-0.054745</td>\n",
       "      <td>-0.041586</td>\n",
       "      <td>-0.052248</td>\n",
       "      <td>-0.044677</td>\n",
       "      <td>-0.032612</td>\n",
       "      <td>-0.055952</td>\n",
       "      <td>-0.046862</td>\n",
       "      <td>-0.024453</td>\n",
       "      <td>-0.065839</td>\n",
       "      <td>-0.036466</td>\n",
       "      <td>-0.03911</td>\n",
       "      <td>-0.04238</td>\n",
       "      <td>-0.021564</td>\n",
       "      <td>-0.024453</td>\n",
       "      <td>-0.018224</td>\n",
       "      <td>-0.055952</td>\n",
       "      <td>-0.030504</td>\n",
       "      <td>-0.028239</td>\n",
       "      <td>-0.046145</td>\n",
       "      <td>-0.03911</td>\n",
       "      <td>-0.044677</td>\n",
       "      <td>-0.0163</td>\n",
       "      <td>-0.14086</td>\n",
       "      <td>-0.031575</td>\n",
       "      <td>-0.023054</td>\n",
       "      <td>-0.031575</td>\n",
       "      <td>-0.079675</td>\n",
       "      <td>-0.040777</td>\n",
       "      <td>-0.043159</td>\n",
       "      <td>-0.066346</td>\n",
       "      <td>-0.024453</td>\n",
       "      <td>-0.044677</td>\n",
       "      <td>-0.029393</td>\n",
       "      <td>-0.028239</td>\n",
       "      <td>-0.023054</td>\n",
       "      <td>0.303734</td>\n",
       "      <td>-0.035542</td>\n",
       "      <td>-0.021564</td>\n",
       "      <td>0.0</td>\n",
       "    </tr>\n",
       "    <tr>\n",
       "      <th>4</th>\n",
       "      <td>-0.356371</td>\n",
       "      <td>-0.178098</td>\n",
       "      <td>-0.271374</td>\n",
       "      <td>0.605378</td>\n",
       "      <td>-0.198698</td>\n",
       "      <td>-0.306982</td>\n",
       "      <td>-0.215272</td>\n",
       "      <td>-0.021564</td>\n",
       "      <td>0.085944</td>\n",
       "      <td>6.030732</td>\n",
       "      <td>-0.198518</td>\n",
       "      <td>-0.116013</td>\n",
       "      <td>-0.068824</td>\n",
       "      <td>-0.103952</td>\n",
       "      <td>-0.134091</td>\n",
       "      <td>-0.122038</td>\n",
       "      <td>-0.185121</td>\n",
       "      <td>-0.212727</td>\n",
       "      <td>-0.448923</td>\n",
       "      <td>-0.106532</td>\n",
       "      <td>-0.698988</td>\n",
       "      <td>-0.250168</td>\n",
       "      <td>-0.04238</td>\n",
       "      <td>-0.128063</td>\n",
       "      <td>-0.521600</td>\n",
       "      <td>-1.607395</td>\n",
       "      <td>-0.400643</td>\n",
       "      <td>-0.027036</td>\n",
       "      <td>-0.930683</td>\n",
       "      <td>-0.110602</td>\n",
       "      <td>1.446075</td>\n",
       "      <td>-0.179876</td>\n",
       "      <td>-0.175502</td>\n",
       "      <td>-0.370643</td>\n",
       "      <td>-0.018224</td>\n",
       "      <td>-0.390201</td>\n",
       "      <td>-0.390427</td>\n",
       "      <td>-0.18358</td>\n",
       "      <td>-0.220124</td>\n",
       "      <td>-0.267261</td>\n",
       "      <td>...</td>\n",
       "      <td>-0.061093</td>\n",
       "      <td>-0.054745</td>\n",
       "      <td>-0.041586</td>\n",
       "      <td>-0.052248</td>\n",
       "      <td>-0.044677</td>\n",
       "      <td>-0.032612</td>\n",
       "      <td>-0.055952</td>\n",
       "      <td>-0.046862</td>\n",
       "      <td>-0.024453</td>\n",
       "      <td>-0.065839</td>\n",
       "      <td>-0.036466</td>\n",
       "      <td>-0.03911</td>\n",
       "      <td>-0.04238</td>\n",
       "      <td>-0.021564</td>\n",
       "      <td>-0.024453</td>\n",
       "      <td>-0.018224</td>\n",
       "      <td>-0.055952</td>\n",
       "      <td>-0.030504</td>\n",
       "      <td>-0.028239</td>\n",
       "      <td>-0.046145</td>\n",
       "      <td>-0.03911</td>\n",
       "      <td>-0.044677</td>\n",
       "      <td>-0.0163</td>\n",
       "      <td>-0.14086</td>\n",
       "      <td>-0.031575</td>\n",
       "      <td>-0.023054</td>\n",
       "      <td>-0.031575</td>\n",
       "      <td>-0.079675</td>\n",
       "      <td>-0.040777</td>\n",
       "      <td>-0.043159</td>\n",
       "      <td>-0.066346</td>\n",
       "      <td>-0.024453</td>\n",
       "      <td>-0.044677</td>\n",
       "      <td>-0.029393</td>\n",
       "      <td>-0.028239</td>\n",
       "      <td>-0.023054</td>\n",
       "      <td>0.303734</td>\n",
       "      <td>-0.035542</td>\n",
       "      <td>-0.021564</td>\n",
       "      <td>0.0</td>\n",
       "    </tr>\n",
       "    <tr>\n",
       "      <th>...</th>\n",
       "      <td>...</td>\n",
       "      <td>...</td>\n",
       "      <td>...</td>\n",
       "      <td>...</td>\n",
       "      <td>...</td>\n",
       "      <td>...</td>\n",
       "      <td>...</td>\n",
       "      <td>...</td>\n",
       "      <td>...</td>\n",
       "      <td>...</td>\n",
       "      <td>...</td>\n",
       "      <td>...</td>\n",
       "      <td>...</td>\n",
       "      <td>...</td>\n",
       "      <td>...</td>\n",
       "      <td>...</td>\n",
       "      <td>...</td>\n",
       "      <td>...</td>\n",
       "      <td>...</td>\n",
       "      <td>...</td>\n",
       "      <td>...</td>\n",
       "      <td>...</td>\n",
       "      <td>...</td>\n",
       "      <td>...</td>\n",
       "      <td>...</td>\n",
       "      <td>...</td>\n",
       "      <td>...</td>\n",
       "      <td>...</td>\n",
       "      <td>...</td>\n",
       "      <td>...</td>\n",
       "      <td>...</td>\n",
       "      <td>...</td>\n",
       "      <td>...</td>\n",
       "      <td>...</td>\n",
       "      <td>...</td>\n",
       "      <td>...</td>\n",
       "      <td>...</td>\n",
       "      <td>...</td>\n",
       "      <td>...</td>\n",
       "      <td>...</td>\n",
       "      <td>...</td>\n",
       "      <td>...</td>\n",
       "      <td>...</td>\n",
       "      <td>...</td>\n",
       "      <td>...</td>\n",
       "      <td>...</td>\n",
       "      <td>...</td>\n",
       "      <td>...</td>\n",
       "      <td>...</td>\n",
       "      <td>...</td>\n",
       "      <td>...</td>\n",
       "      <td>...</td>\n",
       "      <td>...</td>\n",
       "      <td>...</td>\n",
       "      <td>...</td>\n",
       "      <td>...</td>\n",
       "      <td>...</td>\n",
       "      <td>...</td>\n",
       "      <td>...</td>\n",
       "      <td>...</td>\n",
       "      <td>...</td>\n",
       "      <td>...</td>\n",
       "      <td>...</td>\n",
       "      <td>...</td>\n",
       "      <td>...</td>\n",
       "      <td>...</td>\n",
       "      <td>...</td>\n",
       "      <td>...</td>\n",
       "      <td>...</td>\n",
       "      <td>...</td>\n",
       "      <td>...</td>\n",
       "      <td>...</td>\n",
       "      <td>...</td>\n",
       "      <td>...</td>\n",
       "      <td>...</td>\n",
       "      <td>...</td>\n",
       "      <td>...</td>\n",
       "      <td>...</td>\n",
       "      <td>...</td>\n",
       "      <td>...</td>\n",
       "      <td>...</td>\n",
       "    </tr>\n",
       "    <tr>\n",
       "      <th>15055</th>\n",
       "      <td>-0.431108</td>\n",
       "      <td>-0.178098</td>\n",
       "      <td>-0.271374</td>\n",
       "      <td>0.605378</td>\n",
       "      <td>-0.198698</td>\n",
       "      <td>-0.306982</td>\n",
       "      <td>-0.215272</td>\n",
       "      <td>-0.021564</td>\n",
       "      <td>0.526407</td>\n",
       "      <td>-0.165817</td>\n",
       "      <td>-0.198518</td>\n",
       "      <td>-0.116013</td>\n",
       "      <td>-0.068824</td>\n",
       "      <td>-0.103952</td>\n",
       "      <td>-0.134091</td>\n",
       "      <td>-0.122038</td>\n",
       "      <td>-0.185121</td>\n",
       "      <td>-0.212727</td>\n",
       "      <td>2.227554</td>\n",
       "      <td>-0.106532</td>\n",
       "      <td>-0.698988</td>\n",
       "      <td>-0.250168</td>\n",
       "      <td>-0.04238</td>\n",
       "      <td>-0.128063</td>\n",
       "      <td>-0.521600</td>\n",
       "      <td>1.128431</td>\n",
       "      <td>-0.400643</td>\n",
       "      <td>-0.027036</td>\n",
       "      <td>-0.930683</td>\n",
       "      <td>-0.110602</td>\n",
       "      <td>1.446075</td>\n",
       "      <td>-0.179876</td>\n",
       "      <td>-0.175502</td>\n",
       "      <td>-0.370643</td>\n",
       "      <td>-0.018224</td>\n",
       "      <td>-0.390201</td>\n",
       "      <td>-0.390427</td>\n",
       "      <td>-0.18358</td>\n",
       "      <td>-0.220124</td>\n",
       "      <td>-0.267261</td>\n",
       "      <td>...</td>\n",
       "      <td>-0.061093</td>\n",
       "      <td>-0.054745</td>\n",
       "      <td>-0.041586</td>\n",
       "      <td>-0.052248</td>\n",
       "      <td>-0.044677</td>\n",
       "      <td>-0.032612</td>\n",
       "      <td>-0.055952</td>\n",
       "      <td>-0.046862</td>\n",
       "      <td>-0.024453</td>\n",
       "      <td>-0.065839</td>\n",
       "      <td>-0.036466</td>\n",
       "      <td>-0.03911</td>\n",
       "      <td>-0.04238</td>\n",
       "      <td>-0.021564</td>\n",
       "      <td>-0.024453</td>\n",
       "      <td>-0.018224</td>\n",
       "      <td>-0.055952</td>\n",
       "      <td>-0.030504</td>\n",
       "      <td>-0.028239</td>\n",
       "      <td>-0.046145</td>\n",
       "      <td>-0.03911</td>\n",
       "      <td>-0.044677</td>\n",
       "      <td>-0.0163</td>\n",
       "      <td>-0.14086</td>\n",
       "      <td>-0.031575</td>\n",
       "      <td>-0.023054</td>\n",
       "      <td>-0.031575</td>\n",
       "      <td>-0.079675</td>\n",
       "      <td>-0.040777</td>\n",
       "      <td>-0.043159</td>\n",
       "      <td>-0.066346</td>\n",
       "      <td>-0.024453</td>\n",
       "      <td>-0.044677</td>\n",
       "      <td>-0.029393</td>\n",
       "      <td>-0.028239</td>\n",
       "      <td>-0.023054</td>\n",
       "      <td>0.303734</td>\n",
       "      <td>-0.035542</td>\n",
       "      <td>-0.021564</td>\n",
       "      <td>0.0</td>\n",
       "    </tr>\n",
       "    <tr>\n",
       "      <th>15056</th>\n",
       "      <td>0.017315</td>\n",
       "      <td>-0.178098</td>\n",
       "      <td>-0.271374</td>\n",
       "      <td>0.605378</td>\n",
       "      <td>-0.198698</td>\n",
       "      <td>-0.306982</td>\n",
       "      <td>-0.215272</td>\n",
       "      <td>-0.021564</td>\n",
       "      <td>0.244316</td>\n",
       "      <td>-0.165817</td>\n",
       "      <td>-0.198518</td>\n",
       "      <td>-0.116013</td>\n",
       "      <td>-0.068824</td>\n",
       "      <td>-0.103952</td>\n",
       "      <td>-0.134091</td>\n",
       "      <td>-0.122038</td>\n",
       "      <td>-0.185121</td>\n",
       "      <td>-0.212727</td>\n",
       "      <td>2.227554</td>\n",
       "      <td>-0.106532</td>\n",
       "      <td>-0.698988</td>\n",
       "      <td>-0.250168</td>\n",
       "      <td>-0.04238</td>\n",
       "      <td>-0.128063</td>\n",
       "      <td>-0.521600</td>\n",
       "      <td>1.128431</td>\n",
       "      <td>2.495988</td>\n",
       "      <td>-0.027036</td>\n",
       "      <td>-0.930683</td>\n",
       "      <td>-0.110602</td>\n",
       "      <td>-0.691527</td>\n",
       "      <td>-0.179876</td>\n",
       "      <td>-0.175502</td>\n",
       "      <td>-0.370643</td>\n",
       "      <td>-0.018224</td>\n",
       "      <td>-0.390201</td>\n",
       "      <td>-0.390427</td>\n",
       "      <td>-0.18358</td>\n",
       "      <td>-0.220124</td>\n",
       "      <td>-0.267261</td>\n",
       "      <td>...</td>\n",
       "      <td>-0.061093</td>\n",
       "      <td>-0.054745</td>\n",
       "      <td>-0.041586</td>\n",
       "      <td>-0.052248</td>\n",
       "      <td>-0.044677</td>\n",
       "      <td>-0.032612</td>\n",
       "      <td>-0.055952</td>\n",
       "      <td>-0.046862</td>\n",
       "      <td>-0.024453</td>\n",
       "      <td>-0.065839</td>\n",
       "      <td>-0.036466</td>\n",
       "      <td>-0.03911</td>\n",
       "      <td>-0.04238</td>\n",
       "      <td>-0.021564</td>\n",
       "      <td>-0.024453</td>\n",
       "      <td>-0.018224</td>\n",
       "      <td>-0.055952</td>\n",
       "      <td>-0.030504</td>\n",
       "      <td>-0.028239</td>\n",
       "      <td>-0.046145</td>\n",
       "      <td>-0.03911</td>\n",
       "      <td>-0.044677</td>\n",
       "      <td>-0.0163</td>\n",
       "      <td>-0.14086</td>\n",
       "      <td>-0.031575</td>\n",
       "      <td>-0.023054</td>\n",
       "      <td>-0.031575</td>\n",
       "      <td>-0.079675</td>\n",
       "      <td>-0.040777</td>\n",
       "      <td>-0.043159</td>\n",
       "      <td>-0.066346</td>\n",
       "      <td>-0.024453</td>\n",
       "      <td>-0.044677</td>\n",
       "      <td>-0.029393</td>\n",
       "      <td>-0.028239</td>\n",
       "      <td>-0.023054</td>\n",
       "      <td>0.303734</td>\n",
       "      <td>-0.035542</td>\n",
       "      <td>-0.021564</td>\n",
       "      <td>0.0</td>\n",
       "    </tr>\n",
       "    <tr>\n",
       "      <th>15057</th>\n",
       "      <td>-0.057423</td>\n",
       "      <td>-0.178098</td>\n",
       "      <td>-0.271374</td>\n",
       "      <td>0.605378</td>\n",
       "      <td>-0.198698</td>\n",
       "      <td>-0.306982</td>\n",
       "      <td>-0.215272</td>\n",
       "      <td>-0.021564</td>\n",
       "      <td>1.755175</td>\n",
       "      <td>-0.165817</td>\n",
       "      <td>-0.198518</td>\n",
       "      <td>-0.116013</td>\n",
       "      <td>-0.068824</td>\n",
       "      <td>-0.103952</td>\n",
       "      <td>-0.134091</td>\n",
       "      <td>-0.122038</td>\n",
       "      <td>-0.185121</td>\n",
       "      <td>-0.212727</td>\n",
       "      <td>2.227554</td>\n",
       "      <td>-0.106532</td>\n",
       "      <td>-0.698988</td>\n",
       "      <td>-0.250168</td>\n",
       "      <td>-0.04238</td>\n",
       "      <td>-0.128063</td>\n",
       "      <td>-0.521600</td>\n",
       "      <td>1.128431</td>\n",
       "      <td>-0.400643</td>\n",
       "      <td>-0.027036</td>\n",
       "      <td>1.074480</td>\n",
       "      <td>-0.110602</td>\n",
       "      <td>-0.691527</td>\n",
       "      <td>-0.179876</td>\n",
       "      <td>-0.175502</td>\n",
       "      <td>-0.370643</td>\n",
       "      <td>-0.018224</td>\n",
       "      <td>-0.390201</td>\n",
       "      <td>-0.390427</td>\n",
       "      <td>-0.18358</td>\n",
       "      <td>-0.220124</td>\n",
       "      <td>-0.267261</td>\n",
       "      <td>...</td>\n",
       "      <td>-0.061093</td>\n",
       "      <td>-0.054745</td>\n",
       "      <td>-0.041586</td>\n",
       "      <td>-0.052248</td>\n",
       "      <td>-0.044677</td>\n",
       "      <td>-0.032612</td>\n",
       "      <td>-0.055952</td>\n",
       "      <td>-0.046862</td>\n",
       "      <td>-0.024453</td>\n",
       "      <td>-0.065839</td>\n",
       "      <td>-0.036466</td>\n",
       "      <td>-0.03911</td>\n",
       "      <td>-0.04238</td>\n",
       "      <td>-0.021564</td>\n",
       "      <td>-0.024453</td>\n",
       "      <td>-0.018224</td>\n",
       "      <td>-0.055952</td>\n",
       "      <td>-0.030504</td>\n",
       "      <td>-0.028239</td>\n",
       "      <td>-0.046145</td>\n",
       "      <td>-0.03911</td>\n",
       "      <td>-0.044677</td>\n",
       "      <td>-0.0163</td>\n",
       "      <td>-0.14086</td>\n",
       "      <td>-0.031575</td>\n",
       "      <td>-0.023054</td>\n",
       "      <td>-0.031575</td>\n",
       "      <td>-0.079675</td>\n",
       "      <td>-0.040777</td>\n",
       "      <td>-0.043159</td>\n",
       "      <td>-0.066346</td>\n",
       "      <td>-0.024453</td>\n",
       "      <td>-0.044677</td>\n",
       "      <td>-0.029393</td>\n",
       "      <td>-0.028239</td>\n",
       "      <td>-0.023054</td>\n",
       "      <td>0.303734</td>\n",
       "      <td>-0.035542</td>\n",
       "      <td>-0.021564</td>\n",
       "      <td>0.0</td>\n",
       "    </tr>\n",
       "    <tr>\n",
       "      <th>15058</th>\n",
       "      <td>0.391000</td>\n",
       "      <td>-0.178098</td>\n",
       "      <td>-0.271374</td>\n",
       "      <td>0.605378</td>\n",
       "      <td>-0.198698</td>\n",
       "      <td>-0.306982</td>\n",
       "      <td>-0.215272</td>\n",
       "      <td>-0.021564</td>\n",
       "      <td>-1.001078</td>\n",
       "      <td>-0.165817</td>\n",
       "      <td>-0.198518</td>\n",
       "      <td>-0.116013</td>\n",
       "      <td>-0.068824</td>\n",
       "      <td>-0.103952</td>\n",
       "      <td>-0.134091</td>\n",
       "      <td>-0.122038</td>\n",
       "      <td>-0.185121</td>\n",
       "      <td>-0.212727</td>\n",
       "      <td>2.227554</td>\n",
       "      <td>-0.106532</td>\n",
       "      <td>-0.698988</td>\n",
       "      <td>-0.250168</td>\n",
       "      <td>-0.04238</td>\n",
       "      <td>-0.128063</td>\n",
       "      <td>-0.521600</td>\n",
       "      <td>1.128431</td>\n",
       "      <td>2.495988</td>\n",
       "      <td>-0.027036</td>\n",
       "      <td>-0.930683</td>\n",
       "      <td>-0.110602</td>\n",
       "      <td>-0.691527</td>\n",
       "      <td>-0.179876</td>\n",
       "      <td>-0.175502</td>\n",
       "      <td>2.698013</td>\n",
       "      <td>-0.018224</td>\n",
       "      <td>-0.390201</td>\n",
       "      <td>-0.390427</td>\n",
       "      <td>-0.18358</td>\n",
       "      <td>-0.220124</td>\n",
       "      <td>-0.267261</td>\n",
       "      <td>...</td>\n",
       "      <td>-0.061093</td>\n",
       "      <td>-0.054745</td>\n",
       "      <td>-0.041586</td>\n",
       "      <td>-0.052248</td>\n",
       "      <td>-0.044677</td>\n",
       "      <td>-0.032612</td>\n",
       "      <td>-0.055952</td>\n",
       "      <td>-0.046862</td>\n",
       "      <td>-0.024453</td>\n",
       "      <td>-0.065839</td>\n",
       "      <td>-0.036466</td>\n",
       "      <td>-0.03911</td>\n",
       "      <td>-0.04238</td>\n",
       "      <td>-0.021564</td>\n",
       "      <td>-0.024453</td>\n",
       "      <td>-0.018224</td>\n",
       "      <td>-0.055952</td>\n",
       "      <td>-0.030504</td>\n",
       "      <td>-0.028239</td>\n",
       "      <td>-0.046145</td>\n",
       "      <td>-0.03911</td>\n",
       "      <td>-0.044677</td>\n",
       "      <td>-0.0163</td>\n",
       "      <td>-0.14086</td>\n",
       "      <td>-0.031575</td>\n",
       "      <td>-0.023054</td>\n",
       "      <td>-0.031575</td>\n",
       "      <td>-0.079675</td>\n",
       "      <td>-0.040777</td>\n",
       "      <td>-0.043159</td>\n",
       "      <td>-0.066346</td>\n",
       "      <td>-0.024453</td>\n",
       "      <td>-0.044677</td>\n",
       "      <td>-0.029393</td>\n",
       "      <td>-0.028239</td>\n",
       "      <td>-0.023054</td>\n",
       "      <td>0.303734</td>\n",
       "      <td>-0.035542</td>\n",
       "      <td>-0.021564</td>\n",
       "      <td>0.0</td>\n",
       "    </tr>\n",
       "    <tr>\n",
       "      <th>15059</th>\n",
       "      <td>-0.281634</td>\n",
       "      <td>-0.178098</td>\n",
       "      <td>-0.271374</td>\n",
       "      <td>-1.651861</td>\n",
       "      <td>5.032760</td>\n",
       "      <td>-0.306982</td>\n",
       "      <td>-0.215272</td>\n",
       "      <td>-0.021564</td>\n",
       "      <td>-0.070716</td>\n",
       "      <td>-0.165817</td>\n",
       "      <td>-0.198518</td>\n",
       "      <td>-0.116013</td>\n",
       "      <td>-0.068824</td>\n",
       "      <td>-0.103952</td>\n",
       "      <td>-0.134091</td>\n",
       "      <td>-0.122038</td>\n",
       "      <td>-0.185121</td>\n",
       "      <td>-0.212727</td>\n",
       "      <td>2.227554</td>\n",
       "      <td>-0.106532</td>\n",
       "      <td>-0.698988</td>\n",
       "      <td>-0.250168</td>\n",
       "      <td>-0.04238</td>\n",
       "      <td>-0.128063</td>\n",
       "      <td>-0.521600</td>\n",
       "      <td>1.128431</td>\n",
       "      <td>-0.400643</td>\n",
       "      <td>-0.027036</td>\n",
       "      <td>1.074480</td>\n",
       "      <td>-0.110602</td>\n",
       "      <td>-0.691527</td>\n",
       "      <td>-0.179876</td>\n",
       "      <td>-0.175502</td>\n",
       "      <td>-0.370643</td>\n",
       "      <td>-0.018224</td>\n",
       "      <td>-0.390201</td>\n",
       "      <td>2.561297</td>\n",
       "      <td>-0.18358</td>\n",
       "      <td>-0.220124</td>\n",
       "      <td>-0.267261</td>\n",
       "      <td>...</td>\n",
       "      <td>-0.061093</td>\n",
       "      <td>-0.054745</td>\n",
       "      <td>-0.041586</td>\n",
       "      <td>-0.052248</td>\n",
       "      <td>-0.044677</td>\n",
       "      <td>-0.032612</td>\n",
       "      <td>-0.055952</td>\n",
       "      <td>-0.046862</td>\n",
       "      <td>-0.024453</td>\n",
       "      <td>-0.065839</td>\n",
       "      <td>-0.036466</td>\n",
       "      <td>-0.03911</td>\n",
       "      <td>-0.04238</td>\n",
       "      <td>-0.021564</td>\n",
       "      <td>-0.024453</td>\n",
       "      <td>-0.018224</td>\n",
       "      <td>-0.055952</td>\n",
       "      <td>-0.030504</td>\n",
       "      <td>-0.028239</td>\n",
       "      <td>-0.046145</td>\n",
       "      <td>-0.03911</td>\n",
       "      <td>-0.044677</td>\n",
       "      <td>-0.0163</td>\n",
       "      <td>-0.14086</td>\n",
       "      <td>-0.031575</td>\n",
       "      <td>-0.023054</td>\n",
       "      <td>-0.031575</td>\n",
       "      <td>-0.079675</td>\n",
       "      <td>-0.040777</td>\n",
       "      <td>-0.043159</td>\n",
       "      <td>-0.066346</td>\n",
       "      <td>-0.024453</td>\n",
       "      <td>-0.044677</td>\n",
       "      <td>-0.029393</td>\n",
       "      <td>-0.028239</td>\n",
       "      <td>-0.023054</td>\n",
       "      <td>0.303734</td>\n",
       "      <td>-0.035542</td>\n",
       "      <td>-0.021564</td>\n",
       "      <td>0.0</td>\n",
       "    </tr>\n",
       "  </tbody>\n",
       "</table>\n",
       "<p>15060 rows × 104 columns</p>\n",
       "</div>"
      ],
      "text/plain": [
       "            age  ...  native-country_Holand-Netherlands\n",
       "0     -1.029005  ...                                0.0\n",
       "1     -0.057423  ...                                0.0\n",
       "2     -0.804794  ...                                0.0\n",
       "3      0.391000  ...                                0.0\n",
       "4     -0.356371  ...                                0.0\n",
       "...         ...  ...                                ...\n",
       "15055 -0.431108  ...                                0.0\n",
       "15056  0.017315  ...                                0.0\n",
       "15057 -0.057423  ...                                0.0\n",
       "15058  0.391000  ...                                0.0\n",
       "15059 -0.281634  ...                                0.0\n",
       "\n",
       "[15060 rows x 104 columns]"
      ]
     },
     "metadata": {},
     "execution_count": 54
    }
   ]
  },
  {
   "cell_type": "code",
   "metadata": {
    "colab": {
     "base_uri": "https://localhost:8080/",
     "height": 470
    },
    "id": "9oEV1IMf-DpF",
    "outputId": "84243444-231a-49b1-904d-d294cfe0f7d1"
   },
   "source": [
    "normalized_dataset_adult"
   ],
   "execution_count": null,
   "outputs": [
    {
     "output_type": "execute_result",
     "data": {
      "text/html": [
       "<div>\n",
       "<style scoped>\n",
       "    .dataframe tbody tr th:only-of-type {\n",
       "        vertical-align: middle;\n",
       "    }\n",
       "\n",
       "    .dataframe tbody tr th {\n",
       "        vertical-align: top;\n",
       "    }\n",
       "\n",
       "    .dataframe thead th {\n",
       "        text-align: right;\n",
       "    }\n",
       "</style>\n",
       "<table border=\"1\" class=\"dataframe\">\n",
       "  <thead>\n",
       "    <tr style=\"text-align: right;\">\n",
       "      <th></th>\n",
       "      <th>age</th>\n",
       "      <th>workclass_Federal-gov</th>\n",
       "      <th>workclass_Local-gov</th>\n",
       "      <th>workclass_Private</th>\n",
       "      <th>workclass_Self-emp-inc</th>\n",
       "      <th>workclass_Self-emp-not-inc</th>\n",
       "      <th>workclass_State-gov</th>\n",
       "      <th>workclass_Without-pay</th>\n",
       "      <th>fnlwgt</th>\n",
       "      <th>education_10th</th>\n",
       "      <th>education_11th</th>\n",
       "      <th>education_12th</th>\n",
       "      <th>education_1st-4th</th>\n",
       "      <th>education_5th-6th</th>\n",
       "      <th>education_7th-8th</th>\n",
       "      <th>education_9th</th>\n",
       "      <th>education_Assoc-acdm</th>\n",
       "      <th>education_Assoc-voc</th>\n",
       "      <th>education_Bachelors</th>\n",
       "      <th>education_Doctorate</th>\n",
       "      <th>education_HS-grad</th>\n",
       "      <th>education_Masters</th>\n",
       "      <th>education_Preschool</th>\n",
       "      <th>education_Prof-school</th>\n",
       "      <th>education_Some-college</th>\n",
       "      <th>education-num</th>\n",
       "      <th>marital-status_Divorced</th>\n",
       "      <th>marital-status_Married-AF-spouse</th>\n",
       "      <th>marital-status_Married-civ-spouse</th>\n",
       "      <th>marital-status_Married-spouse-absent</th>\n",
       "      <th>marital-status_Never-married</th>\n",
       "      <th>marital-status_Separated</th>\n",
       "      <th>marital-status_Widowed</th>\n",
       "      <th>occupation_Adm-clerical</th>\n",
       "      <th>occupation_Armed-Forces</th>\n",
       "      <th>occupation_Craft-repair</th>\n",
       "      <th>occupation_Exec-managerial</th>\n",
       "      <th>occupation_Farming-fishing</th>\n",
       "      <th>occupation_Handlers-cleaners</th>\n",
       "      <th>occupation_Machine-op-inspct</th>\n",
       "      <th>...</th>\n",
       "      <th>native-country_Canada</th>\n",
       "      <th>native-country_China</th>\n",
       "      <th>native-country_Columbia</th>\n",
       "      <th>native-country_Cuba</th>\n",
       "      <th>native-country_Dominican-Republic</th>\n",
       "      <th>native-country_Ecuador</th>\n",
       "      <th>native-country_El-Salvador</th>\n",
       "      <th>native-country_England</th>\n",
       "      <th>native-country_France</th>\n",
       "      <th>native-country_Germany</th>\n",
       "      <th>native-country_Greece</th>\n",
       "      <th>native-country_Guatemala</th>\n",
       "      <th>native-country_Haiti</th>\n",
       "      <th>native-country_Holand-Netherlands</th>\n",
       "      <th>native-country_Honduras</th>\n",
       "      <th>native-country_Hong</th>\n",
       "      <th>native-country_Hungary</th>\n",
       "      <th>native-country_India</th>\n",
       "      <th>native-country_Iran</th>\n",
       "      <th>native-country_Ireland</th>\n",
       "      <th>native-country_Italy</th>\n",
       "      <th>native-country_Jamaica</th>\n",
       "      <th>native-country_Japan</th>\n",
       "      <th>native-country_Laos</th>\n",
       "      <th>native-country_Mexico</th>\n",
       "      <th>native-country_Nicaragua</th>\n",
       "      <th>native-country_Outlying-US(Guam-USVI-etc)</th>\n",
       "      <th>native-country_Peru</th>\n",
       "      <th>native-country_Philippines</th>\n",
       "      <th>native-country_Poland</th>\n",
       "      <th>native-country_Portugal</th>\n",
       "      <th>native-country_Puerto-Rico</th>\n",
       "      <th>native-country_Scotland</th>\n",
       "      <th>native-country_South</th>\n",
       "      <th>native-country_Taiwan</th>\n",
       "      <th>native-country_Thailand</th>\n",
       "      <th>native-country_Trinadad&amp;Tobago</th>\n",
       "      <th>native-country_United-States</th>\n",
       "      <th>native-country_Vietnam</th>\n",
       "      <th>native-country_Yugoslavia</th>\n",
       "    </tr>\n",
       "  </thead>\n",
       "  <tbody>\n",
       "    <tr>\n",
       "      <th>0</th>\n",
       "      <td>-0.642836</td>\n",
       "      <td>-0.174976</td>\n",
       "      <td>-0.271784</td>\n",
       "      <td>0.583731</td>\n",
       "      <td>-0.187720</td>\n",
       "      <td>-0.293226</td>\n",
       "      <td>-0.209604</td>\n",
       "      <td>-0.018809</td>\n",
       "      <td>-1.466922</td>\n",
       "      <td>-0.164358</td>\n",
       "      <td>-0.190229</td>\n",
       "      <td>-0.110934</td>\n",
       "      <td>-0.069904</td>\n",
       "      <td>-0.100232</td>\n",
       "      <td>-0.142143</td>\n",
       "      <td>-0.117489</td>\n",
       "      <td>-0.187846</td>\n",
       "      <td>-0.215399</td>\n",
       "      <td>-0.451962</td>\n",
       "      <td>-0.111342</td>\n",
       "      <td>1.449738</td>\n",
       "      <td>-0.237413</td>\n",
       "      <td>-0.037638</td>\n",
       "      <td>-0.131757</td>\n",
       "      <td>-0.537059</td>\n",
       "      <td>-0.443251</td>\n",
       "      <td>-0.404958</td>\n",
       "      <td>-0.028994</td>\n",
       "      <td>-0.937704</td>\n",
       "      <td>-0.109703</td>\n",
       "      <td>1.444766</td>\n",
       "      <td>-0.173494</td>\n",
       "      <td>-0.161355</td>\n",
       "      <td>-0.375851</td>\n",
       "      <td>-0.016288</td>\n",
       "      <td>-0.386123</td>\n",
       "      <td>-0.393047</td>\n",
       "      <td>-0.185053</td>\n",
       "      <td>-0.220297</td>\n",
       "      <td>-0.257632</td>\n",
       "      <td>...</td>\n",
       "      <td>-0.058822</td>\n",
       "      <td>-0.049817</td>\n",
       "      <td>-0.041558</td>\n",
       "      <td>-0.056507</td>\n",
       "      <td>-0.042088</td>\n",
       "      <td>-0.029748</td>\n",
       "      <td>-0.052425</td>\n",
       "      <td>-0.056112</td>\n",
       "      <td>-0.040476</td>\n",
       "      <td>-0.065963</td>\n",
       "      <td>-0.034569</td>\n",
       "      <td>-0.042612</td>\n",
       "      <td>-0.035204</td>\n",
       "      <td>-0.006649</td>\n",
       "      <td>-0.018809</td>\n",
       "      <td>-0.024885</td>\n",
       "      <td>-0.02103</td>\n",
       "      <td>-0.060685</td>\n",
       "      <td>-0.038222</td>\n",
       "      <td>-0.01995</td>\n",
       "      <td>-0.048917</td>\n",
       "      <td>-0.048461</td>\n",
       "      <td>-0.041021</td>\n",
       "      <td>-0.025759</td>\n",
       "      <td>-0.140025</td>\n",
       "      <td>-0.030483</td>\n",
       "      <td>-0.013299</td>\n",
       "      <td>-0.030483</td>\n",
       "      <td>-0.07948</td>\n",
       "      <td>-0.050261</td>\n",
       "      <td>-0.029748</td>\n",
       "      <td>-0.061051</td>\n",
       "      <td>-0.01995</td>\n",
       "      <td>-0.045629</td>\n",
       "      <td>-0.041021</td>\n",
       "      <td>-0.024885</td>\n",
       "      <td>-0.01995</td>\n",
       "      <td>0.307915</td>\n",
       "      <td>-0.04514</td>\n",
       "      <td>-0.025759</td>\n",
       "    </tr>\n",
       "    <tr>\n",
       "      <th>1</th>\n",
       "      <td>1.937547</td>\n",
       "      <td>-0.174976</td>\n",
       "      <td>-0.271784</td>\n",
       "      <td>-1.713117</td>\n",
       "      <td>5.327093</td>\n",
       "      <td>-0.293226</td>\n",
       "      <td>-0.209604</td>\n",
       "      <td>-0.018809</td>\n",
       "      <td>-0.268732</td>\n",
       "      <td>-0.164358</td>\n",
       "      <td>-0.190229</td>\n",
       "      <td>-0.110934</td>\n",
       "      <td>-0.069904</td>\n",
       "      <td>-0.100232</td>\n",
       "      <td>-0.142143</td>\n",
       "      <td>-0.117489</td>\n",
       "      <td>5.323516</td>\n",
       "      <td>-0.215399</td>\n",
       "      <td>-0.451962</td>\n",
       "      <td>-0.111342</td>\n",
       "      <td>-0.689780</td>\n",
       "      <td>-0.237413</td>\n",
       "      <td>-0.037638</td>\n",
       "      <td>-0.131757</td>\n",
       "      <td>-0.537059</td>\n",
       "      <td>0.734846</td>\n",
       "      <td>-0.404958</td>\n",
       "      <td>-0.028994</td>\n",
       "      <td>1.066435</td>\n",
       "      <td>-0.109703</td>\n",
       "      <td>-0.692154</td>\n",
       "      <td>-0.173494</td>\n",
       "      <td>-0.161355</td>\n",
       "      <td>-0.375851</td>\n",
       "      <td>-0.016288</td>\n",
       "      <td>-0.386123</td>\n",
       "      <td>-0.393047</td>\n",
       "      <td>-0.185053</td>\n",
       "      <td>-0.220297</td>\n",
       "      <td>-0.257632</td>\n",
       "      <td>...</td>\n",
       "      <td>-0.058822</td>\n",
       "      <td>-0.049817</td>\n",
       "      <td>-0.041558</td>\n",
       "      <td>-0.056507</td>\n",
       "      <td>-0.042088</td>\n",
       "      <td>-0.029748</td>\n",
       "      <td>-0.052425</td>\n",
       "      <td>-0.056112</td>\n",
       "      <td>-0.040476</td>\n",
       "      <td>-0.065963</td>\n",
       "      <td>-0.034569</td>\n",
       "      <td>-0.042612</td>\n",
       "      <td>-0.035204</td>\n",
       "      <td>-0.006649</td>\n",
       "      <td>-0.018809</td>\n",
       "      <td>-0.024885</td>\n",
       "      <td>-0.02103</td>\n",
       "      <td>-0.060685</td>\n",
       "      <td>-0.038222</td>\n",
       "      <td>-0.01995</td>\n",
       "      <td>-0.048917</td>\n",
       "      <td>-0.048461</td>\n",
       "      <td>-0.041021</td>\n",
       "      <td>-0.025759</td>\n",
       "      <td>-0.140025</td>\n",
       "      <td>-0.030483</td>\n",
       "      <td>-0.013299</td>\n",
       "      <td>-0.030483</td>\n",
       "      <td>-0.07948</td>\n",
       "      <td>-0.050261</td>\n",
       "      <td>-0.029748</td>\n",
       "      <td>-0.061051</td>\n",
       "      <td>-0.01995</td>\n",
       "      <td>-0.045629</td>\n",
       "      <td>-0.041021</td>\n",
       "      <td>-0.024885</td>\n",
       "      <td>-0.01995</td>\n",
       "      <td>0.307915</td>\n",
       "      <td>-0.04514</td>\n",
       "      <td>-0.025759</td>\n",
       "    </tr>\n",
       "    <tr>\n",
       "      <th>2</th>\n",
       "      <td>0.950930</td>\n",
       "      <td>-0.174976</td>\n",
       "      <td>-0.271784</td>\n",
       "      <td>-1.713117</td>\n",
       "      <td>5.327093</td>\n",
       "      <td>-0.293226</td>\n",
       "      <td>-0.209604</td>\n",
       "      <td>-0.018809</td>\n",
       "      <td>-0.844147</td>\n",
       "      <td>-0.164358</td>\n",
       "      <td>-0.190229</td>\n",
       "      <td>-0.110934</td>\n",
       "      <td>-0.069904</td>\n",
       "      <td>-0.100232</td>\n",
       "      <td>-0.142143</td>\n",
       "      <td>-0.117489</td>\n",
       "      <td>-0.187846</td>\n",
       "      <td>-0.215399</td>\n",
       "      <td>-0.451962</td>\n",
       "      <td>8.981328</td>\n",
       "      <td>-0.689780</td>\n",
       "      <td>-0.237413</td>\n",
       "      <td>-0.037638</td>\n",
       "      <td>-0.131757</td>\n",
       "      <td>-0.537059</td>\n",
       "      <td>2.305642</td>\n",
       "      <td>-0.404958</td>\n",
       "      <td>-0.028994</td>\n",
       "      <td>1.066435</td>\n",
       "      <td>-0.109703</td>\n",
       "      <td>-0.692154</td>\n",
       "      <td>-0.173494</td>\n",
       "      <td>-0.161355</td>\n",
       "      <td>-0.375851</td>\n",
       "      <td>-0.016288</td>\n",
       "      <td>-0.386123</td>\n",
       "      <td>-0.393047</td>\n",
       "      <td>-0.185053</td>\n",
       "      <td>-0.220297</td>\n",
       "      <td>-0.257632</td>\n",
       "      <td>...</td>\n",
       "      <td>-0.058822</td>\n",
       "      <td>-0.049817</td>\n",
       "      <td>-0.041558</td>\n",
       "      <td>-0.056507</td>\n",
       "      <td>-0.042088</td>\n",
       "      <td>-0.029748</td>\n",
       "      <td>-0.052425</td>\n",
       "      <td>-0.056112</td>\n",
       "      <td>-0.040476</td>\n",
       "      <td>-0.065963</td>\n",
       "      <td>-0.034569</td>\n",
       "      <td>-0.042612</td>\n",
       "      <td>-0.035204</td>\n",
       "      <td>-0.006649</td>\n",
       "      <td>-0.018809</td>\n",
       "      <td>-0.024885</td>\n",
       "      <td>-0.02103</td>\n",
       "      <td>-0.060685</td>\n",
       "      <td>-0.038222</td>\n",
       "      <td>-0.01995</td>\n",
       "      <td>-0.048917</td>\n",
       "      <td>-0.048461</td>\n",
       "      <td>-0.041021</td>\n",
       "      <td>-0.025759</td>\n",
       "      <td>-0.140025</td>\n",
       "      <td>-0.030483</td>\n",
       "      <td>-0.013299</td>\n",
       "      <td>-0.030483</td>\n",
       "      <td>-0.07948</td>\n",
       "      <td>-0.050261</td>\n",
       "      <td>-0.029748</td>\n",
       "      <td>-0.061051</td>\n",
       "      <td>-0.01995</td>\n",
       "      <td>-0.045629</td>\n",
       "      <td>-0.041021</td>\n",
       "      <td>-0.024885</td>\n",
       "      <td>-0.01995</td>\n",
       "      <td>0.307915</td>\n",
       "      <td>-0.04514</td>\n",
       "      <td>-0.025759</td>\n",
       "    </tr>\n",
       "    <tr>\n",
       "      <th>3</th>\n",
       "      <td>-0.718730</td>\n",
       "      <td>-0.174976</td>\n",
       "      <td>-0.271784</td>\n",
       "      <td>0.583731</td>\n",
       "      <td>-0.187720</td>\n",
       "      <td>-0.293226</td>\n",
       "      <td>-0.209604</td>\n",
       "      <td>-0.018809</td>\n",
       "      <td>0.685787</td>\n",
       "      <td>-0.164358</td>\n",
       "      <td>-0.190229</td>\n",
       "      <td>-0.110934</td>\n",
       "      <td>-0.069904</td>\n",
       "      <td>-0.100232</td>\n",
       "      <td>-0.142143</td>\n",
       "      <td>-0.117489</td>\n",
       "      <td>-0.187846</td>\n",
       "      <td>-0.215399</td>\n",
       "      <td>-0.451962</td>\n",
       "      <td>-0.111342</td>\n",
       "      <td>-0.689780</td>\n",
       "      <td>4.212067</td>\n",
       "      <td>-0.037638</td>\n",
       "      <td>-0.131757</td>\n",
       "      <td>-0.537059</td>\n",
       "      <td>1.520244</td>\n",
       "      <td>-0.404958</td>\n",
       "      <td>-0.028994</td>\n",
       "      <td>1.066435</td>\n",
       "      <td>-0.109703</td>\n",
       "      <td>-0.692154</td>\n",
       "      <td>-0.173494</td>\n",
       "      <td>-0.161355</td>\n",
       "      <td>-0.375851</td>\n",
       "      <td>-0.016288</td>\n",
       "      <td>-0.386123</td>\n",
       "      <td>2.544224</td>\n",
       "      <td>-0.185053</td>\n",
       "      <td>-0.220297</td>\n",
       "      <td>-0.257632</td>\n",
       "      <td>...</td>\n",
       "      <td>-0.058822</td>\n",
       "      <td>-0.049817</td>\n",
       "      <td>-0.041558</td>\n",
       "      <td>-0.056507</td>\n",
       "      <td>-0.042088</td>\n",
       "      <td>-0.029748</td>\n",
       "      <td>-0.052425</td>\n",
       "      <td>-0.056112</td>\n",
       "      <td>-0.040476</td>\n",
       "      <td>15.160031</td>\n",
       "      <td>-0.034569</td>\n",
       "      <td>-0.042612</td>\n",
       "      <td>-0.035204</td>\n",
       "      <td>-0.006649</td>\n",
       "      <td>-0.018809</td>\n",
       "      <td>-0.024885</td>\n",
       "      <td>-0.02103</td>\n",
       "      <td>-0.060685</td>\n",
       "      <td>-0.038222</td>\n",
       "      <td>-0.01995</td>\n",
       "      <td>-0.048917</td>\n",
       "      <td>-0.048461</td>\n",
       "      <td>-0.041021</td>\n",
       "      <td>-0.025759</td>\n",
       "      <td>-0.140025</td>\n",
       "      <td>-0.030483</td>\n",
       "      <td>-0.013299</td>\n",
       "      <td>-0.030483</td>\n",
       "      <td>-0.07948</td>\n",
       "      <td>-0.050261</td>\n",
       "      <td>-0.029748</td>\n",
       "      <td>-0.061051</td>\n",
       "      <td>-0.01995</td>\n",
       "      <td>-0.045629</td>\n",
       "      <td>-0.041021</td>\n",
       "      <td>-0.024885</td>\n",
       "      <td>-0.01995</td>\n",
       "      <td>-3.247648</td>\n",
       "      <td>-0.04514</td>\n",
       "      <td>-0.025759</td>\n",
       "    </tr>\n",
       "    <tr>\n",
       "      <th>4</th>\n",
       "      <td>-1.022305</td>\n",
       "      <td>-0.174976</td>\n",
       "      <td>-0.271784</td>\n",
       "      <td>0.583731</td>\n",
       "      <td>-0.187720</td>\n",
       "      <td>-0.293226</td>\n",
       "      <td>-0.209604</td>\n",
       "      <td>-0.018809</td>\n",
       "      <td>0.036005</td>\n",
       "      <td>-0.164358</td>\n",
       "      <td>-0.190229</td>\n",
       "      <td>-0.110934</td>\n",
       "      <td>-0.069904</td>\n",
       "      <td>-0.100232</td>\n",
       "      <td>-0.142143</td>\n",
       "      <td>-0.117489</td>\n",
       "      <td>-0.187846</td>\n",
       "      <td>-0.215399</td>\n",
       "      <td>-0.451962</td>\n",
       "      <td>-0.111342</td>\n",
       "      <td>-0.689780</td>\n",
       "      <td>-0.237413</td>\n",
       "      <td>-0.037638</td>\n",
       "      <td>-0.131757</td>\n",
       "      <td>1.861994</td>\n",
       "      <td>-0.050552</td>\n",
       "      <td>-0.404958</td>\n",
       "      <td>-0.028994</td>\n",
       "      <td>-0.937704</td>\n",
       "      <td>-0.109703</td>\n",
       "      <td>1.444766</td>\n",
       "      <td>-0.173494</td>\n",
       "      <td>-0.161355</td>\n",
       "      <td>-0.375851</td>\n",
       "      <td>-0.016288</td>\n",
       "      <td>-0.386123</td>\n",
       "      <td>-0.393047</td>\n",
       "      <td>-0.185053</td>\n",
       "      <td>-0.220297</td>\n",
       "      <td>3.881501</td>\n",
       "      <td>...</td>\n",
       "      <td>-0.058822</td>\n",
       "      <td>-0.049817</td>\n",
       "      <td>-0.041558</td>\n",
       "      <td>-0.056507</td>\n",
       "      <td>-0.042088</td>\n",
       "      <td>-0.029748</td>\n",
       "      <td>-0.052425</td>\n",
       "      <td>-0.056112</td>\n",
       "      <td>-0.040476</td>\n",
       "      <td>-0.065963</td>\n",
       "      <td>-0.034569</td>\n",
       "      <td>-0.042612</td>\n",
       "      <td>-0.035204</td>\n",
       "      <td>-0.006649</td>\n",
       "      <td>-0.018809</td>\n",
       "      <td>-0.024885</td>\n",
       "      <td>-0.02103</td>\n",
       "      <td>-0.060685</td>\n",
       "      <td>-0.038222</td>\n",
       "      <td>-0.01995</td>\n",
       "      <td>-0.048917</td>\n",
       "      <td>-0.048461</td>\n",
       "      <td>-0.041021</td>\n",
       "      <td>-0.025759</td>\n",
       "      <td>-0.140025</td>\n",
       "      <td>-0.030483</td>\n",
       "      <td>-0.013299</td>\n",
       "      <td>-0.030483</td>\n",
       "      <td>-0.07948</td>\n",
       "      <td>-0.050261</td>\n",
       "      <td>-0.029748</td>\n",
       "      <td>-0.061051</td>\n",
       "      <td>-0.01995</td>\n",
       "      <td>-0.045629</td>\n",
       "      <td>-0.041021</td>\n",
       "      <td>-0.024885</td>\n",
       "      <td>-0.01995</td>\n",
       "      <td>0.307915</td>\n",
       "      <td>-0.04514</td>\n",
       "      <td>-0.025759</td>\n",
       "    </tr>\n",
       "    <tr>\n",
       "      <th>...</th>\n",
       "      <td>...</td>\n",
       "      <td>...</td>\n",
       "      <td>...</td>\n",
       "      <td>...</td>\n",
       "      <td>...</td>\n",
       "      <td>...</td>\n",
       "      <td>...</td>\n",
       "      <td>...</td>\n",
       "      <td>...</td>\n",
       "      <td>...</td>\n",
       "      <td>...</td>\n",
       "      <td>...</td>\n",
       "      <td>...</td>\n",
       "      <td>...</td>\n",
       "      <td>...</td>\n",
       "      <td>...</td>\n",
       "      <td>...</td>\n",
       "      <td>...</td>\n",
       "      <td>...</td>\n",
       "      <td>...</td>\n",
       "      <td>...</td>\n",
       "      <td>...</td>\n",
       "      <td>...</td>\n",
       "      <td>...</td>\n",
       "      <td>...</td>\n",
       "      <td>...</td>\n",
       "      <td>...</td>\n",
       "      <td>...</td>\n",
       "      <td>...</td>\n",
       "      <td>...</td>\n",
       "      <td>...</td>\n",
       "      <td>...</td>\n",
       "      <td>...</td>\n",
       "      <td>...</td>\n",
       "      <td>...</td>\n",
       "      <td>...</td>\n",
       "      <td>...</td>\n",
       "      <td>...</td>\n",
       "      <td>...</td>\n",
       "      <td>...</td>\n",
       "      <td>...</td>\n",
       "      <td>...</td>\n",
       "      <td>...</td>\n",
       "      <td>...</td>\n",
       "      <td>...</td>\n",
       "      <td>...</td>\n",
       "      <td>...</td>\n",
       "      <td>...</td>\n",
       "      <td>...</td>\n",
       "      <td>...</td>\n",
       "      <td>...</td>\n",
       "      <td>...</td>\n",
       "      <td>...</td>\n",
       "      <td>...</td>\n",
       "      <td>...</td>\n",
       "      <td>...</td>\n",
       "      <td>...</td>\n",
       "      <td>...</td>\n",
       "      <td>...</td>\n",
       "      <td>...</td>\n",
       "      <td>...</td>\n",
       "      <td>...</td>\n",
       "      <td>...</td>\n",
       "      <td>...</td>\n",
       "      <td>...</td>\n",
       "      <td>...</td>\n",
       "      <td>...</td>\n",
       "      <td>...</td>\n",
       "      <td>...</td>\n",
       "      <td>...</td>\n",
       "      <td>...</td>\n",
       "      <td>...</td>\n",
       "      <td>...</td>\n",
       "      <td>...</td>\n",
       "      <td>...</td>\n",
       "      <td>...</td>\n",
       "      <td>...</td>\n",
       "      <td>...</td>\n",
       "      <td>...</td>\n",
       "      <td>...</td>\n",
       "      <td>...</td>\n",
       "    </tr>\n",
       "    <tr>\n",
       "      <th>22616</th>\n",
       "      <td>1.026824</td>\n",
       "      <td>-0.174976</td>\n",
       "      <td>-0.271784</td>\n",
       "      <td>0.583731</td>\n",
       "      <td>-0.187720</td>\n",
       "      <td>-0.293226</td>\n",
       "      <td>-0.209604</td>\n",
       "      <td>-0.018809</td>\n",
       "      <td>-0.591164</td>\n",
       "      <td>-0.164358</td>\n",
       "      <td>-0.190229</td>\n",
       "      <td>-0.110934</td>\n",
       "      <td>-0.069904</td>\n",
       "      <td>-0.100232</td>\n",
       "      <td>-0.142143</td>\n",
       "      <td>-0.117489</td>\n",
       "      <td>-0.187846</td>\n",
       "      <td>-0.215399</td>\n",
       "      <td>-0.451962</td>\n",
       "      <td>-0.111342</td>\n",
       "      <td>1.449738</td>\n",
       "      <td>-0.237413</td>\n",
       "      <td>-0.037638</td>\n",
       "      <td>-0.131757</td>\n",
       "      <td>-0.537059</td>\n",
       "      <td>-0.443251</td>\n",
       "      <td>-0.404958</td>\n",
       "      <td>-0.028994</td>\n",
       "      <td>1.066435</td>\n",
       "      <td>-0.109703</td>\n",
       "      <td>-0.692154</td>\n",
       "      <td>-0.173494</td>\n",
       "      <td>-0.161355</td>\n",
       "      <td>-0.375851</td>\n",
       "      <td>-0.016288</td>\n",
       "      <td>-0.386123</td>\n",
       "      <td>-0.393047</td>\n",
       "      <td>-0.185053</td>\n",
       "      <td>-0.220297</td>\n",
       "      <td>3.881501</td>\n",
       "      <td>...</td>\n",
       "      <td>-0.058822</td>\n",
       "      <td>20.073526</td>\n",
       "      <td>-0.041558</td>\n",
       "      <td>-0.056507</td>\n",
       "      <td>-0.042088</td>\n",
       "      <td>-0.029748</td>\n",
       "      <td>-0.052425</td>\n",
       "      <td>-0.056112</td>\n",
       "      <td>-0.040476</td>\n",
       "      <td>-0.065963</td>\n",
       "      <td>-0.034569</td>\n",
       "      <td>-0.042612</td>\n",
       "      <td>-0.035204</td>\n",
       "      <td>-0.006649</td>\n",
       "      <td>-0.018809</td>\n",
       "      <td>-0.024885</td>\n",
       "      <td>-0.02103</td>\n",
       "      <td>-0.060685</td>\n",
       "      <td>-0.038222</td>\n",
       "      <td>-0.01995</td>\n",
       "      <td>-0.048917</td>\n",
       "      <td>-0.048461</td>\n",
       "      <td>-0.041021</td>\n",
       "      <td>-0.025759</td>\n",
       "      <td>-0.140025</td>\n",
       "      <td>-0.030483</td>\n",
       "      <td>-0.013299</td>\n",
       "      <td>-0.030483</td>\n",
       "      <td>-0.07948</td>\n",
       "      <td>-0.050261</td>\n",
       "      <td>-0.029748</td>\n",
       "      <td>-0.061051</td>\n",
       "      <td>-0.01995</td>\n",
       "      <td>-0.045629</td>\n",
       "      <td>-0.041021</td>\n",
       "      <td>-0.024885</td>\n",
       "      <td>-0.01995</td>\n",
       "      <td>-3.247648</td>\n",
       "      <td>-0.04514</td>\n",
       "      <td>-0.025759</td>\n",
       "    </tr>\n",
       "    <tr>\n",
       "      <th>22617</th>\n",
       "      <td>-0.794624</td>\n",
       "      <td>-0.174976</td>\n",
       "      <td>-0.271784</td>\n",
       "      <td>-1.713117</td>\n",
       "      <td>-0.187720</td>\n",
       "      <td>-0.293226</td>\n",
       "      <td>4.770907</td>\n",
       "      <td>-0.018809</td>\n",
       "      <td>-1.095900</td>\n",
       "      <td>-0.164358</td>\n",
       "      <td>-0.190229</td>\n",
       "      <td>-0.110934</td>\n",
       "      <td>-0.069904</td>\n",
       "      <td>-0.100232</td>\n",
       "      <td>-0.142143</td>\n",
       "      <td>-0.117489</td>\n",
       "      <td>-0.187846</td>\n",
       "      <td>-0.215399</td>\n",
       "      <td>-0.451962</td>\n",
       "      <td>-0.111342</td>\n",
       "      <td>-0.689780</td>\n",
       "      <td>-0.237413</td>\n",
       "      <td>-0.037638</td>\n",
       "      <td>-0.131757</td>\n",
       "      <td>1.861994</td>\n",
       "      <td>-0.050552</td>\n",
       "      <td>-0.404958</td>\n",
       "      <td>-0.028994</td>\n",
       "      <td>1.066435</td>\n",
       "      <td>-0.109703</td>\n",
       "      <td>-0.692154</td>\n",
       "      <td>-0.173494</td>\n",
       "      <td>-0.161355</td>\n",
       "      <td>2.660626</td>\n",
       "      <td>-0.016288</td>\n",
       "      <td>-0.386123</td>\n",
       "      <td>-0.393047</td>\n",
       "      <td>-0.185053</td>\n",
       "      <td>-0.220297</td>\n",
       "      <td>-0.257632</td>\n",
       "      <td>...</td>\n",
       "      <td>-0.058822</td>\n",
       "      <td>-0.049817</td>\n",
       "      <td>-0.041558</td>\n",
       "      <td>-0.056507</td>\n",
       "      <td>-0.042088</td>\n",
       "      <td>-0.029748</td>\n",
       "      <td>-0.052425</td>\n",
       "      <td>-0.056112</td>\n",
       "      <td>-0.040476</td>\n",
       "      <td>-0.065963</td>\n",
       "      <td>-0.034569</td>\n",
       "      <td>-0.042612</td>\n",
       "      <td>-0.035204</td>\n",
       "      <td>-0.006649</td>\n",
       "      <td>-0.018809</td>\n",
       "      <td>-0.024885</td>\n",
       "      <td>-0.02103</td>\n",
       "      <td>-0.060685</td>\n",
       "      <td>-0.038222</td>\n",
       "      <td>-0.01995</td>\n",
       "      <td>-0.048917</td>\n",
       "      <td>-0.048461</td>\n",
       "      <td>-0.041021</td>\n",
       "      <td>-0.025759</td>\n",
       "      <td>-0.140025</td>\n",
       "      <td>-0.030483</td>\n",
       "      <td>-0.013299</td>\n",
       "      <td>-0.030483</td>\n",
       "      <td>-0.07948</td>\n",
       "      <td>-0.050261</td>\n",
       "      <td>-0.029748</td>\n",
       "      <td>-0.061051</td>\n",
       "      <td>-0.01995</td>\n",
       "      <td>-0.045629</td>\n",
       "      <td>-0.041021</td>\n",
       "      <td>-0.024885</td>\n",
       "      <td>-0.01995</td>\n",
       "      <td>0.307915</td>\n",
       "      <td>-0.04514</td>\n",
       "      <td>-0.025759</td>\n",
       "    </tr>\n",
       "    <tr>\n",
       "      <th>22618</th>\n",
       "      <td>-0.187474</td>\n",
       "      <td>-0.174976</td>\n",
       "      <td>-0.271784</td>\n",
       "      <td>0.583731</td>\n",
       "      <td>-0.187720</td>\n",
       "      <td>-0.293226</td>\n",
       "      <td>-0.209604</td>\n",
       "      <td>-0.018809</td>\n",
       "      <td>-0.250285</td>\n",
       "      <td>-0.164358</td>\n",
       "      <td>-0.190229</td>\n",
       "      <td>-0.110934</td>\n",
       "      <td>-0.069904</td>\n",
       "      <td>-0.100232</td>\n",
       "      <td>-0.142143</td>\n",
       "      <td>-0.117489</td>\n",
       "      <td>-0.187846</td>\n",
       "      <td>-0.215399</td>\n",
       "      <td>-0.451962</td>\n",
       "      <td>-0.111342</td>\n",
       "      <td>-0.689780</td>\n",
       "      <td>-0.237413</td>\n",
       "      <td>-0.037638</td>\n",
       "      <td>-0.131757</td>\n",
       "      <td>1.861994</td>\n",
       "      <td>-0.050552</td>\n",
       "      <td>2.469392</td>\n",
       "      <td>-0.028994</td>\n",
       "      <td>-0.937704</td>\n",
       "      <td>-0.109703</td>\n",
       "      <td>-0.692154</td>\n",
       "      <td>-0.173494</td>\n",
       "      <td>-0.161355</td>\n",
       "      <td>-0.375851</td>\n",
       "      <td>-0.016288</td>\n",
       "      <td>-0.386123</td>\n",
       "      <td>-0.393047</td>\n",
       "      <td>-0.185053</td>\n",
       "      <td>-0.220297</td>\n",
       "      <td>-0.257632</td>\n",
       "      <td>...</td>\n",
       "      <td>-0.058822</td>\n",
       "      <td>-0.049817</td>\n",
       "      <td>-0.041558</td>\n",
       "      <td>-0.056507</td>\n",
       "      <td>-0.042088</td>\n",
       "      <td>-0.029748</td>\n",
       "      <td>-0.052425</td>\n",
       "      <td>-0.056112</td>\n",
       "      <td>-0.040476</td>\n",
       "      <td>-0.065963</td>\n",
       "      <td>-0.034569</td>\n",
       "      <td>-0.042612</td>\n",
       "      <td>-0.035204</td>\n",
       "      <td>-0.006649</td>\n",
       "      <td>-0.018809</td>\n",
       "      <td>-0.024885</td>\n",
       "      <td>-0.02103</td>\n",
       "      <td>-0.060685</td>\n",
       "      <td>-0.038222</td>\n",
       "      <td>-0.01995</td>\n",
       "      <td>-0.048917</td>\n",
       "      <td>-0.048461</td>\n",
       "      <td>-0.041021</td>\n",
       "      <td>-0.025759</td>\n",
       "      <td>-0.140025</td>\n",
       "      <td>-0.030483</td>\n",
       "      <td>-0.013299</td>\n",
       "      <td>-0.030483</td>\n",
       "      <td>-0.07948</td>\n",
       "      <td>-0.050261</td>\n",
       "      <td>-0.029748</td>\n",
       "      <td>-0.061051</td>\n",
       "      <td>-0.01995</td>\n",
       "      <td>-0.045629</td>\n",
       "      <td>-0.041021</td>\n",
       "      <td>-0.024885</td>\n",
       "      <td>-0.01995</td>\n",
       "      <td>0.307915</td>\n",
       "      <td>-0.04514</td>\n",
       "      <td>-0.025759</td>\n",
       "    </tr>\n",
       "    <tr>\n",
       "      <th>22619</th>\n",
       "      <td>-0.718730</td>\n",
       "      <td>5.715086</td>\n",
       "      <td>-0.271784</td>\n",
       "      <td>-1.713117</td>\n",
       "      <td>-0.187720</td>\n",
       "      <td>-0.293226</td>\n",
       "      <td>-0.209604</td>\n",
       "      <td>-0.018809</td>\n",
       "      <td>-1.398159</td>\n",
       "      <td>-0.164358</td>\n",
       "      <td>-0.190229</td>\n",
       "      <td>-0.110934</td>\n",
       "      <td>-0.069904</td>\n",
       "      <td>-0.100232</td>\n",
       "      <td>-0.142143</td>\n",
       "      <td>-0.117489</td>\n",
       "      <td>-0.187846</td>\n",
       "      <td>-0.215399</td>\n",
       "      <td>-0.451962</td>\n",
       "      <td>-0.111342</td>\n",
       "      <td>-0.689780</td>\n",
       "      <td>-0.237413</td>\n",
       "      <td>-0.037638</td>\n",
       "      <td>7.589705</td>\n",
       "      <td>-0.537059</td>\n",
       "      <td>1.912943</td>\n",
       "      <td>-0.404958</td>\n",
       "      <td>-0.028994</td>\n",
       "      <td>-0.937704</td>\n",
       "      <td>-0.109703</td>\n",
       "      <td>1.444766</td>\n",
       "      <td>-0.173494</td>\n",
       "      <td>-0.161355</td>\n",
       "      <td>-0.375851</td>\n",
       "      <td>-0.016288</td>\n",
       "      <td>-0.386123</td>\n",
       "      <td>-0.393047</td>\n",
       "      <td>-0.185053</td>\n",
       "      <td>-0.220297</td>\n",
       "      <td>-0.257632</td>\n",
       "      <td>...</td>\n",
       "      <td>-0.058822</td>\n",
       "      <td>-0.049817</td>\n",
       "      <td>-0.041558</td>\n",
       "      <td>-0.056507</td>\n",
       "      <td>-0.042088</td>\n",
       "      <td>-0.029748</td>\n",
       "      <td>-0.052425</td>\n",
       "      <td>-0.056112</td>\n",
       "      <td>-0.040476</td>\n",
       "      <td>-0.065963</td>\n",
       "      <td>-0.034569</td>\n",
       "      <td>-0.042612</td>\n",
       "      <td>-0.035204</td>\n",
       "      <td>-0.006649</td>\n",
       "      <td>-0.018809</td>\n",
       "      <td>-0.024885</td>\n",
       "      <td>-0.02103</td>\n",
       "      <td>-0.060685</td>\n",
       "      <td>-0.038222</td>\n",
       "      <td>-0.01995</td>\n",
       "      <td>-0.048917</td>\n",
       "      <td>-0.048461</td>\n",
       "      <td>-0.041021</td>\n",
       "      <td>-0.025759</td>\n",
       "      <td>-0.140025</td>\n",
       "      <td>-0.030483</td>\n",
       "      <td>-0.013299</td>\n",
       "      <td>-0.030483</td>\n",
       "      <td>-0.07948</td>\n",
       "      <td>-0.050261</td>\n",
       "      <td>-0.029748</td>\n",
       "      <td>-0.061051</td>\n",
       "      <td>-0.01995</td>\n",
       "      <td>-0.045629</td>\n",
       "      <td>-0.041021</td>\n",
       "      <td>-0.024885</td>\n",
       "      <td>-0.01995</td>\n",
       "      <td>0.307915</td>\n",
       "      <td>-0.04514</td>\n",
       "      <td>-0.025759</td>\n",
       "    </tr>\n",
       "    <tr>\n",
       "      <th>22620</th>\n",
       "      <td>-0.946411</td>\n",
       "      <td>-0.174976</td>\n",
       "      <td>-0.271784</td>\n",
       "      <td>0.583731</td>\n",
       "      <td>-0.187720</td>\n",
       "      <td>-0.293226</td>\n",
       "      <td>-0.209604</td>\n",
       "      <td>-0.018809</td>\n",
       "      <td>0.434550</td>\n",
       "      <td>-0.164358</td>\n",
       "      <td>-0.190229</td>\n",
       "      <td>-0.110934</td>\n",
       "      <td>-0.069904</td>\n",
       "      <td>-0.100232</td>\n",
       "      <td>-0.142143</td>\n",
       "      <td>-0.117489</td>\n",
       "      <td>-0.187846</td>\n",
       "      <td>-0.215399</td>\n",
       "      <td>-0.451962</td>\n",
       "      <td>-0.111342</td>\n",
       "      <td>-0.689780</td>\n",
       "      <td>-0.237413</td>\n",
       "      <td>-0.037638</td>\n",
       "      <td>7.589705</td>\n",
       "      <td>-0.537059</td>\n",
       "      <td>1.912943</td>\n",
       "      <td>-0.404958</td>\n",
       "      <td>-0.028994</td>\n",
       "      <td>-0.937704</td>\n",
       "      <td>-0.109703</td>\n",
       "      <td>1.444766</td>\n",
       "      <td>-0.173494</td>\n",
       "      <td>-0.161355</td>\n",
       "      <td>-0.375851</td>\n",
       "      <td>-0.016288</td>\n",
       "      <td>-0.386123</td>\n",
       "      <td>-0.393047</td>\n",
       "      <td>-0.185053</td>\n",
       "      <td>-0.220297</td>\n",
       "      <td>-0.257632</td>\n",
       "      <td>...</td>\n",
       "      <td>-0.058822</td>\n",
       "      <td>-0.049817</td>\n",
       "      <td>-0.041558</td>\n",
       "      <td>-0.056507</td>\n",
       "      <td>-0.042088</td>\n",
       "      <td>-0.029748</td>\n",
       "      <td>-0.052425</td>\n",
       "      <td>-0.056112</td>\n",
       "      <td>-0.040476</td>\n",
       "      <td>-0.065963</td>\n",
       "      <td>-0.034569</td>\n",
       "      <td>-0.042612</td>\n",
       "      <td>-0.035204</td>\n",
       "      <td>-0.006649</td>\n",
       "      <td>-0.018809</td>\n",
       "      <td>-0.024885</td>\n",
       "      <td>-0.02103</td>\n",
       "      <td>-0.060685</td>\n",
       "      <td>-0.038222</td>\n",
       "      <td>-0.01995</td>\n",
       "      <td>-0.048917</td>\n",
       "      <td>-0.048461</td>\n",
       "      <td>-0.041021</td>\n",
       "      <td>-0.025759</td>\n",
       "      <td>-0.140025</td>\n",
       "      <td>-0.030483</td>\n",
       "      <td>-0.013299</td>\n",
       "      <td>-0.030483</td>\n",
       "      <td>-0.07948</td>\n",
       "      <td>-0.050261</td>\n",
       "      <td>-0.029748</td>\n",
       "      <td>-0.061051</td>\n",
       "      <td>-0.01995</td>\n",
       "      <td>-0.045629</td>\n",
       "      <td>-0.041021</td>\n",
       "      <td>-0.024885</td>\n",
       "      <td>-0.01995</td>\n",
       "      <td>0.307915</td>\n",
       "      <td>-0.04514</td>\n",
       "      <td>-0.025759</td>\n",
       "    </tr>\n",
       "  </tbody>\n",
       "</table>\n",
       "<p>22621 rows × 104 columns</p>\n",
       "</div>"
      ],
      "text/plain": [
       "            age  ...  native-country_Yugoslavia\n",
       "0     -0.642836  ...                  -0.025759\n",
       "1      1.937547  ...                  -0.025759\n",
       "2      0.950930  ...                  -0.025759\n",
       "3     -0.718730  ...                  -0.025759\n",
       "4     -1.022305  ...                  -0.025759\n",
       "...         ...  ...                        ...\n",
       "22616  1.026824  ...                  -0.025759\n",
       "22617 -0.794624  ...                  -0.025759\n",
       "22618 -0.187474  ...                  -0.025759\n",
       "22619 -0.718730  ...                  -0.025759\n",
       "22620 -0.946411  ...                  -0.025759\n",
       "\n",
       "[22621 rows x 104 columns]"
      ]
     },
     "metadata": {},
     "execution_count": 55
    }
   ]
  },
  {
   "cell_type": "code",
   "metadata": {
    "colab": {
     "base_uri": "https://localhost:8080/"
    },
    "id": "KG-zdVsw-DpG",
    "outputId": "ea62ba24-9eaf-470d-9928-296a0b1bd7d3"
   },
   "source": [
    "labels_adult_75"
   ],
   "execution_count": null,
   "outputs": [
    {
     "output_type": "execute_result",
     "data": {
      "text/plain": [
       "0        0\n",
       "1        1\n",
       "2        1\n",
       "3        0\n",
       "4        0\n",
       "        ..\n",
       "22616    0\n",
       "22617    0\n",
       "22618    0\n",
       "22619    0\n",
       "22620    0\n",
       "Name: salary, Length: 22621, dtype: int64"
      ]
     },
     "metadata": {},
     "execution_count": 56
    }
   ]
  },
  {
   "cell_type": "code",
   "metadata": {
    "id": "sL7zwT1N-DpG"
   },
   "source": [
    "weighted_dataset_adult = normalized_dataset_adult.copy(deep=True)\n",
    "weights = features_importance(normalized_dataset_adult, labels_adult_75, criterion='gini', splitter='best')\n",
    "weight_features(weighted_dataset_adult, weights)\n",
    "\n",
    "\n",
    "weighted_test_dataset_adult = normalized_test_dataset_adult.copy(deep=True)\n",
    "weight_features(weighted_test_dataset_adult, weights)\n"
   ],
   "execution_count": null,
   "outputs": []
  },
  {
   "cell_type": "markdown",
   "metadata": {
    "id": "2mmQqwBWhiUM"
   },
   "source": [
    "#### Selecting best hyperparameter"
   ]
  },
  {
   "cell_type": "markdown",
   "metadata": {
    "id": "rKFjzckC-DpH"
   },
   "source": [
    "###### Uniform weights, no normalization"
   ]
  },
  {
   "cell_type": "code",
   "metadata": {
    "id": "5q8G-pJchiUL",
    "colab": {
     "base_uri": "https://localhost:8080/",
     "height": 873
    },
    "outputId": "95955ebc-2735-4a2b-cd24-175ca803002d"
   },
   "source": [
    "if(USE_IMAGES_INSTEAD_OF_COMPUTING):\n",
    "    display(Image(\"./img/noNormWeiUni.png\"))\n",
    "else:\n",
    "    (mean_trainings, std_trainings, mean_validations, std_validations) = n_neighbors_influence_fixed_datasize(list(range(1, 15)), dataset_adult_75, labels_adult_75, N, loss_=\"manhattan\",\n",
    "                                         weights=\"uniform\", folds = 5, show_time=False, visualize=True)\n",
    "    print(f\"Best result is {max(mean_validations)} for k = {mean_validations.index(max(mean_validations)) + 1}\")"
   ],
   "execution_count": null,
   "outputs": [
    {
     "output_type": "stream",
     "name": "stdout",
     "text": [
      "1\n",
      "2\n",
      "3\n",
      "4\n",
      "5\n",
      "6\n",
      "7\n",
      "8\n",
      "9\n",
      "10\n",
      "11\n",
      "12\n",
      "13\n",
      "14\n"
     ]
    },
    {
     "output_type": "display_data",
     "data": {
      "image/png": "[encoded data removed]",
      "text/plain": [
       "<Figure size 1080x720 with 1 Axes>"
      ]
     },
     "metadata": {
      "needs_background": "light"
     }
    },
    {
     "output_type": "stream",
     "name": "stdout",
     "text": [
      "Best result is 0.9126918240837082 for k = 1\n"
     ]
    }
   ]
  },
  {
   "cell_type": "markdown",
   "metadata": {
    "id": "78gbpqtK-DpH"
   },
   "source": [
    "Considering the above results, we choose to use the hyperparameter k =."
   ]
  },
  {
   "cell_type": "markdown",
   "metadata": {
    "id": "ZTmplhyc-DpH"
   },
   "source": [
    "###### Uniform weights, normalization"
   ]
  },
  {
   "cell_type": "code",
   "metadata": {
    "colab": {
     "base_uri": "https://localhost:8080/",
     "height": 671
    },
    "id": "RIvU6U0C-DpI",
    "outputId": "09fc0677-3d15-41ef-c5c6-a207b481ad1f"
   },
   "source": [
    "if(USE_IMAGES_INSTEAD_OF_COMPUTING):\n",
    "    display(Image(\"./img/normWeiUni.png\"))\n",
    "else:\n",
    "    (mean_trainings, std_trainings, mean_validations, std_validations) = n_neighbors_influence_fixed_datasize(list(range(1, 3)), dataset_adult_75, labels_adult_75, N, loss_=\"manhattan\",\n",
    "                                         weights=\"uniform\", folds = 2, show_time=False, visualize=True)\n",
    "    print(f\"Best result is {max(mean_validations)} for k = {mean_validations.index(max(mean_validations)) + 1}\")"
   ],
   "execution_count": null,
   "outputs": [
    {
     "output_type": "stream",
     "name": "stdout",
     "text": [
      "1\n",
      "2\n"
     ]
    },
    {
     "output_type": "display_data",
     "data": {
      "image/png": "[encoded data removed]",
      "text/plain": [
       "<Figure size 1080x720 with 1 Axes>"
      ]
     },
     "metadata": {
      "needs_background": "light"
     }
    },
    {
     "output_type": "stream",
     "name": "stdout",
     "text": [
      "Best result is 0.8645504587328079 for k = 1\n"
     ]
    }
   ]
  },
  {
   "cell_type": "markdown",
   "metadata": {
    "id": "Ef1DxwXu-DpI"
   },
   "source": [
    "Considering the above results, we choose to use the hyperparameter k =."
   ]
  },
  {
   "cell_type": "markdown",
   "metadata": {
    "id": "UoLMJ0kS-DpI"
   },
   "source": [
    "###### Uniform weights, normalization and weighted features"
   ]
  },
  {
   "cell_type": "code",
   "metadata": {
    "colab": {
     "base_uri": "https://localhost:8080/",
     "height": 873
    },
    "id": "v5gP0D7F-DpI",
    "outputId": "7cee60ca-6f0f-4cf6-d167-76e57e3e483b"
   },
   "source": [
    "if(USE_IMAGES_INSTEAD_OF_COMPUTING):\n",
    "    display(Image(\"./img/uniformWeights_Norm_WeightedFeatures.png\"))\n",
    "else:\n",
    "    (mean_trainings, std_trainings, mean_validations, std_validations) =n_neighbors_influence_fixed_datasize(list(range(1, 15)), weighted_dataset_adult, labels_adult_75, N, loss_=\"manhattan\",\n",
    "                                         weights=\"uniform\", folds = 5, show_time=False, visualize=True)\n",
    "\n",
    "    print(f\"Best result is {max(mean_validations)} for k = {mean_validations.index(max(mean_validations)) + 1}\")"
   ],
   "execution_count": null,
   "outputs": [
    {
     "output_type": "stream",
     "name": "stdout",
     "text": [
      "1\n",
      "2\n",
      "3\n",
      "4\n",
      "5\n",
      "6\n",
      "7\n",
      "8\n",
      "9\n",
      "10\n",
      "11\n",
      "12\n",
      "13\n",
      "14\n"
     ]
    },
    {
     "output_type": "display_data",
     "data": {
      "image/png": "[encoded data removed]",
      "text/plain": [
       "<Figure size 1080x720 with 1 Axes>"
      ]
     },
     "metadata": {
      "needs_background": "light"
     }
    },
    {
     "output_type": "stream",
     "name": "stdout",
     "text": [
      "Best result is 0.9371822618227647 for k = 1\n"
     ]
    }
   ]
  },
  {
   "cell_type": "markdown",
   "metadata": {
    "id": "kcTVpQTv-DpJ"
   },
   "source": [
    "Considering the above results, we choose to use the hyperparameter k =."
   ]
  },
  {
   "cell_type": "markdown",
   "metadata": {
    "id": "gjTTIKOE-DpJ"
   },
   "source": [
    "###### Distance weights, no normalization "
   ]
  },
  {
   "cell_type": "code",
   "metadata": {
    "id": "HzFYNt8P-DpJ"
   },
   "source": [
    "if(USE_IMAGES_INSTEAD_OF_COMPUTING):\n",
    "    display(Image(\"./img/distWeight_NoNorm.png\"))\n",
    "else:\n",
    "\n",
    "    (mean_trainings, std_trainings, mean_validations, std_validations) =n_neighbors_influence_fixed_datasize(list(range(1, 15)), dataset_adult_75, labels_adult_75, N, loss_=\"manhattan\",\n",
    "                                         weights=\"distance\", folds = 5, show_time=False, visualize=True)\n",
    "    print(f\"Best result is {max(mean_validations)} for k = {mean_validations.index(max(mean_validations)) + 1}\")"
   ],
   "execution_count": null,
   "outputs": []
  },
  {
   "cell_type": "markdown",
   "metadata": {
    "id": "5Nf-YW6z-DpK"
   },
   "source": [
    "Considering the above results, we choose to use the hyperparameter k =."
   ]
  },
  {
   "cell_type": "markdown",
   "metadata": {
    "id": "QmfCFvce-DpK"
   },
   "source": [
    "###### Distance weights, normalization "
   ]
  },
  {
   "cell_type": "code",
   "metadata": {
    "id": "LuGaCcqi-DpK"
   },
   "source": [
    "if(USE_IMAGES_INSTEAD_OF_COMPUTING):\n",
    "    display(Image(\"./img/distanceWeight_Norm.png\"))\n",
    "else:\n",
    "\n",
    "    (mean_trainings, std_trainings, mean_validations, std_validations) =n_neighbors_influence_fixed_datasize(list(range(1, 15)), normalized_dataset_adult, labels_adult_75, N, loss_=\"manhattan\",\n",
    "                                         weights=\"distance\", folds = 5, show_time=False, visualize=True)\n",
    "    print(f\"Best result is {max(mean_validations)} for k = {mean_validations.index(max(mean_validations)) + 1}\")"
   ],
   "execution_count": null,
   "outputs": []
  },
  {
   "cell_type": "markdown",
   "metadata": {
    "id": "TjspVJPR-DpK"
   },
   "source": [
    "Considering the above results, we choose to use the hyperparameter k =."
   ]
  },
  {
   "cell_type": "markdown",
   "metadata": {
    "id": "pfLStu2q-DpL"
   },
   "source": [
    "###### Distance weights, normalization and weighted features"
   ]
  },
  {
   "cell_type": "code",
   "metadata": {
    "id": "UftylwTQ-DpL"
   },
   "source": [
    "if(USE_IMAGES_INSTEAD_OF_COMPUTING):\n",
    "    display(Image(\"./img/weighted_distance.png\"))\n",
    "else:\n",
    "    (mean_trainings, std_trainings, mean_validations, std_validations) =n_neighbors_influence_fixed_datasize(list(range(1, 15)), weighted_dataset_adult, labels_adult_75, N, loss_=\"manhattan\",\n",
    "                                         weights=\"uniform\", folds = 5, show_time=False, visualize=True)\n",
    "    print(f\"Best result is {max(mean_validations)} for k = {mean_validations.index(max(mean_validations)) + 1}\")"
   ],
   "execution_count": null,
   "outputs": []
  },
  {
   "cell_type": "markdown",
   "metadata": {
    "id": "bI3C5zm0-DpL"
   },
   "source": [
    "Considering the above results, we choose to use the hyperparameter k =."
   ]
  },
  {
   "cell_type": "markdown",
   "metadata": {
    "id": "yItfwVREhiUN"
   },
   "source": [
    "#### Results on test dataset"
   ]
  },
  {
   "cell_type": "markdown",
   "metadata": {
    "id": "Z9BWbyqC-DpM"
   },
   "source": [
    "##### Uniform weights, no normalization"
   ]
  },
  {
   "cell_type": "code",
   "metadata": {
    "id": "59co_IBq-DpM"
   },
   "source": [
    "k1 = 3"
   ],
   "execution_count": 50,
   "outputs": []
  },
  {
   "cell_type": "code",
   "metadata": {
    "id": "vDs-u9BJ-DpM"
   },
   "source": [
    "predicted_labels1 = knn(dataset_adult_75, labels_adult_75, test_dataset_adult, n_neighbors=k1, weights = \"uniform\", algorithm=\"auto\", p=2)"
   ],
   "execution_count": 51,
   "outputs": []
  },
  {
   "cell_type": "code",
   "metadata": {
    "id": "vFyXPVCt-DpM",
    "colab": {
     "base_uri": "https://localhost:8080/",
     "height": 234
    },
    "outputId": "bf76bff0-d344-482d-e566-83e86bffc5bf"
   },
   "source": [
    "precision1 = (len(test_labels_adult) - error(predicted_labels1, test_labels_adult))/len(test_labels_adult)\n",
    "print(f\"Precision on the test dataset is {precision1}\")\n",
    "disp = ConfusionMatrixDisplay(confusion_matrix(test_labels_adult, predicted_labels1))\n",
    "disp.plot()"
   ],
   "execution_count": 52,
   "outputs": [
    {
     "output_type": "stream",
     "name": "stdout",
     "text": [
      "Precision on the test dataset is 0.9956778059600732\n"
     ]
    },
    {
     "output_type": "error",
     "ename": "TypeError",
     "evalue": "ignored",
     "traceback": [
      "\u001b[0;31m---------------------------------------------------------------------------\u001b[0m",
      "\u001b[0;31mTypeError\u001b[0m                                 Traceback (most recent call last)",
      "\u001b[0;32m<ipython-input-52-2ce3e1ebed42>\u001b[0m in \u001b[0;36m<module>\u001b[0;34m()\u001b[0m\n\u001b[1;32m      1\u001b[0m \u001b[0mprecision1\u001b[0m \u001b[0;34m=\u001b[0m \u001b[0;34m(\u001b[0m\u001b[0mlen\u001b[0m\u001b[0;34m(\u001b[0m\u001b[0mtest_labels_adult\u001b[0m\u001b[0;34m)\u001b[0m \u001b[0;34m-\u001b[0m \u001b[0merror\u001b[0m\u001b[0;34m(\u001b[0m\u001b[0mpredicted_labels1\u001b[0m\u001b[0;34m,\u001b[0m \u001b[0mtest_labels_adult\u001b[0m\u001b[0;34m)\u001b[0m\u001b[0;34m)\u001b[0m\u001b[0;34m/\u001b[0m\u001b[0mlen\u001b[0m\u001b[0;34m(\u001b[0m\u001b[0mtest_labels_adult\u001b[0m\u001b[0;34m)\u001b[0m\u001b[0;34m\u001b[0m\u001b[0;34m\u001b[0m\u001b[0m\n\u001b[1;32m      2\u001b[0m \u001b[0mprint\u001b[0m\u001b[0;34m(\u001b[0m\u001b[0;34mf\"Precision on the test dataset is {precision1}\"\u001b[0m\u001b[0;34m)\u001b[0m\u001b[0;34m\u001b[0m\u001b[0;34m\u001b[0m\u001b[0m\n\u001b[0;32m----> 3\u001b[0;31m \u001b[0mdisp\u001b[0m \u001b[0;34m=\u001b[0m \u001b[0mConfusionMatrixDisplay\u001b[0m\u001b[0;34m(\u001b[0m\u001b[0mconfusion_matrix\u001b[0m\u001b[0;34m(\u001b[0m\u001b[0mtest_labels_adult\u001b[0m\u001b[0;34m,\u001b[0m \u001b[0mpredicted_labels1\u001b[0m\u001b[0;34m)\u001b[0m\u001b[0;34m)\u001b[0m\u001b[0;34m\u001b[0m\u001b[0;34m\u001b[0m\u001b[0m\n\u001b[0m\u001b[1;32m      4\u001b[0m \u001b[0mdisp\u001b[0m\u001b[0;34m.\u001b[0m\u001b[0mplot\u001b[0m\u001b[0;34m(\u001b[0m\u001b[0;34m)\u001b[0m\u001b[0;34m\u001b[0m\u001b[0;34m\u001b[0m\u001b[0m\n",
      "\u001b[0;31mTypeError\u001b[0m: __init__() missing 1 required positional argument: 'display_labels'"
     ]
    }
   ]
  },
  {
   "cell_type": "markdown",
   "metadata": {
    "id": "O1wER3dR-DpN"
   },
   "source": [
    "##### Uniform weights, normalization"
   ]
  },
  {
   "cell_type": "code",
   "metadata": {
    "id": "qX5ypJbY-DpN"
   },
   "source": [
    "k2 = 5"
   ],
   "execution_count": null,
   "outputs": []
  },
  {
   "cell_type": "code",
   "metadata": {
    "id": "InNtSO3F-DpN"
   },
   "source": [
    "predicted_labels2 = knn(normalized_dataset_adult, labels_adult_75, normalized_test_dataset_adult, n_neighbors=k2, weights = \"uniform\", algorithm=\"auto\", p=2)"
   ],
   "execution_count": null,
   "outputs": []
  },
  {
   "cell_type": "code",
   "metadata": {
    "id": "maWfyBlS-DpN"
   },
   "source": [
    "precision2 = (len(test_labels_adult) - error(predicted_labels2, test_labels_adult))/len(test_labels_adult)\n",
    "print(f\"Precision on the test dataset is {precision2}\"\")\n",
    "ConfusionMatrixDisplay.from_predictions(test_labels_adult, predicted_labels2)"
   ],
   "execution_count": null,
   "outputs": []
  },
  {
   "cell_type": "markdown",
   "metadata": {
    "id": "lxwFGO0a-DpO"
   },
   "source": [
    "##### Uniform weights, normalization and weighted features"
   ]
  },
  {
   "cell_type": "code",
   "metadata": {
    "id": "cyLAftS4-DpO"
   },
   "source": [
    "k3 = 5"
   ],
   "execution_count": null,
   "outputs": []
  },
  {
   "cell_type": "code",
   "metadata": {
    "id": "teYPIJWB-DpO"
   },
   "source": [
    "predicted_labels3 = knn(weighted_dataset_adult, labels_adult_75, weighted_test_dataset_adult, n_neighbors=k3, weights = \"uniform\", algorithm=\"auto\", p=2)"
   ],
   "execution_count": null,
   "outputs": []
  },
  {
   "cell_type": "code",
   "metadata": {
    "id": "f0QI5MGK-DpO"
   },
   "source": [
    "precision3 = (len(test_labels_adult) - error(predicted_labels3, test_labels_adult))/len(test_labels_adult)\n",
    "print(f\"Precision on the test dataset is {precision3}\"\")\n",
    "ConfusionMatrixDisplay.from_predictions(test_labels_adult, predicted_labels3)"
   ],
   "execution_count": null,
   "outputs": []
  },
  {
   "cell_type": "markdown",
   "metadata": {
    "id": "6dO2P3W9-DpO"
   },
   "source": [
    "##### Distance weights, no normalization"
   ]
  },
  {
   "cell_type": "code",
   "metadata": {
    "id": "Dt0FXA39-DpP"
   },
   "source": [
    "k4 = 5"
   ],
   "execution_count": null,
   "outputs": []
  },
  {
   "cell_type": "code",
   "metadata": {
    "id": "fIfnM4e4-DpP"
   },
   "source": [
    "predicted_labels4 = knn(dataset_adult, labels_adult_75, test_dataset_adult, n_neighbors=k4, weights = \"distance\", algorithm=\"auto\", p=2)"
   ],
   "execution_count": null,
   "outputs": []
  },
  {
   "cell_type": "code",
   "metadata": {
    "id": "no3xO4p4-DpP"
   },
   "source": [
    "precision4 = (len(test_labels_adult) - error(predicted_labels4, test_labels_adult))/len(test_labels_adult)\n",
    "print(f\"Precision on the test dataset is {precision4}\"\")\n",
    "ConfusionMatrixDisplay.from_predictions(test_labels_adult, predicted_labels4)"
   ],
   "execution_count": null,
   "outputs": []
  },
  {
   "cell_type": "markdown",
   "metadata": {
    "id": "4t7wuSSP-DpS"
   },
   "source": [
    "##### Distance weights,  normalization"
   ]
  },
  {
   "cell_type": "code",
   "metadata": {
    "id": "twRjF7X8-DpS"
   },
   "source": [
    "k5 = 5"
   ],
   "execution_count": null,
   "outputs": []
  },
  {
   "cell_type": "code",
   "metadata": {
    "id": "qCLbOhP3-DpS"
   },
   "source": [
    "predicted_labels5 = knn(normalized_dataset_adult, labels_adult_75, normalized_test_dataset_adult, n_neighbors=k5, weights = \"distance\", algorithm=\"auto\", p=2)"
   ],
   "execution_count": null,
   "outputs": []
  },
  {
   "cell_type": "code",
   "metadata": {
    "id": "DCqi9DBN-DpT"
   },
   "source": [
    "precision5 = (len(test_labels_adult) - error(predicted_labels5, test_labels_adult))/len(test_labels_adult)\n",
    "print(f\"Precision on the test dataset is {precision5}\"\")\n",
    "ConfusionMatrixDisplay.from_predictions(test_labels_adult, predicted_labels5)"
   ],
   "execution_count": null,
   "outputs": []
  },
  {
   "cell_type": "markdown",
   "metadata": {
    "id": "sCyCIxPy-DpT"
   },
   "source": [
    "##### Distance weights,  normalization and weighted features"
   ]
  },
  {
   "cell_type": "code",
   "metadata": {
    "id": "jNHXgb9m-DpT"
   },
   "source": [
    "k6 = 5"
   ],
   "execution_count": null,
   "outputs": []
  },
  {
   "cell_type": "code",
   "metadata": {
    "id": "58so2T30-DpT"
   },
   "source": [
    "predicted_labels6 = knn(weighted_dataset_adult, labels_adult_75, weighted_test_dataset_adult, n_neighbors=k6, weights = \"distance\", algorithm=\"auto\", p=2)"
   ],
   "execution_count": null,
   "outputs": []
  },
  {
   "cell_type": "code",
   "metadata": {
    "id": "GbSyRIBP-DpU"
   },
   "source": [
    "precision6 = (len(test_labels_adult) - error(predicted_labels6, test_labels_adult))/len(test_labels_adult)\n",
    "print(f\"Precision on the test dataset is {precision6}\"\")\n",
    "ConfusionMatrixDisplay.from_predictions(test_labels_adult, predicted_labels6)"
   ],
   "execution_count": null,
   "outputs": []
  },
  {
   "cell_type": "code",
   "metadata": {
    "id": "mvvhRXUfhiUO"
   },
   "source": [
    "# TO DO : print precision of test dataset, add confusion matrix"
   ],
   "execution_count": null,
   "outputs": []
  },
  {
   "cell_type": "markdown",
   "metadata": {
    "id": "DvxZzs7EhiUO"
   },
   "source": [
    "### Knn results for dataset 2"
   ]
  },
  {
   "cell_type": "markdown",
   "metadata": {
    "id": "EvUnLHms-DpV"
   },
   "source": [
    "First we create a normalized version of the dataset, as well as a version where, after normalization, features are weighted according to the importance a decision tree algorithm gives them."
   ]
  },
  {
   "cell_type": "code",
   "metadata": {
    "id": "BQJGSLo3-DpW"
   },
   "source": [
    "normalized_dataset_chess = dataset_chess.copy(deep=True)\n",
    "normalize(normalized_dataset_chess)\n",
    "\n",
    "normalized_test_dataset_chess = test_dataset_chess.copy(deep=True)\n",
    "normalize(normalized_test_dataset_chess)"
   ],
   "execution_count": null,
   "outputs": []
  },
  {
   "cell_type": "code",
   "metadata": {
    "id": "EkF3iJPb-DpX"
   },
   "source": [
    "weighted_dataset_chess = normalized_dataset_chess.copy(deep=True)\n",
    "weights = features_importance(normalized_dataset_chess, labels_chess, criterion='gini', splitter='best')\n",
    "weight_features(weighted_dataset_chess, weights)\n",
    "\n",
    "\n",
    "weighted_test_dataset_chess = normalized_test_dataset_chess.copy(deep=True)\n",
    "weight_features(weighted_test_dataset_chess, weights)\n"
   ],
   "execution_count": null,
   "outputs": []
  },
  {
   "cell_type": "markdown",
   "metadata": {
    "id": "TB9oc6y0hiUP"
   },
   "source": [
    "#### Selecting best hyperparameter"
   ]
  },
  {
   "cell_type": "markdown",
   "metadata": {
    "id": "2IlNwywY-DpY"
   },
   "source": [
    "##### Uniform weights, no normalization"
   ]
  },
  {
   "cell_type": "code",
   "metadata": {
    "id": "JsYiFWq1-DpY"
   },
   "source": [
    "(mean_trainings, std_trainings, mean_validations, std_validations) =n_neighbors_influence_fixed_datasize(list(range(1, 50)), dataset_chess, labels_chess, nrows, loss_=\"manhattan\",\n",
    "                                     weights=\"uniform\", folds = 5, show_time=False, visualize=True)"
   ],
   "execution_count": null,
   "outputs": []
  },
  {
   "cell_type": "markdown",
   "metadata": {
    "id": "w0ZyEwaC-DpY"
   },
   "source": [
    "Considering the above results, we choose to use the hyperparameter k =."
   ]
  },
  {
   "cell_type": "markdown",
   "metadata": {
    "id": "B_ykoof1-DpZ"
   },
   "source": [
    "##### Uniform weights, normalization"
   ]
  },
  {
   "cell_type": "code",
   "metadata": {
    "id": "SlEr_wwp-DpZ"
   },
   "source": [
    "(mean_trainings, std_trainings, mean_validations, std_validations) =n_neighbors_influence_fixed_datasize(list(range(1, 50)), normalized_dataset_chess, labels_chess, nrows, loss_=\"manhattan\",\n",
    "                                     weights=\"uniform\", folds = 5, show_time=False, visualize=True)"
   ],
   "execution_count": null,
   "outputs": []
  },
  {
   "cell_type": "markdown",
   "metadata": {
    "id": "k9bqE7vQ-DpZ"
   },
   "source": [
    "Considering the above results, we choose to use the hyperparameter k =."
   ]
  },
  {
   "cell_type": "markdown",
   "metadata": {
    "id": "gbavdzQw-DpZ"
   },
   "source": [
    "##### Uniform weights,  normalization and weighted features"
   ]
  },
  {
   "cell_type": "code",
   "metadata": {
    "id": "Mm2aGhS9-Dpa"
   },
   "source": [
    "(mean_trainings, std_trainings, mean_validations, std_validations) =n_neighbors_influence_fixed_datasize(list(range(1, 50)), weighted_dataset_chess, labels_chess, nrows, loss_=\"manhattan\",\n",
    "                                     weights=\"uniform\", folds = 5, show_time=False, visualize=True)"
   ],
   "execution_count": null,
   "outputs": []
  },
  {
   "cell_type": "markdown",
   "metadata": {
    "id": "OdjkkOXE-Dpa"
   },
   "source": [
    "Considering the above results, we choose to use the hyperparameter k =."
   ]
  },
  {
   "cell_type": "markdown",
   "metadata": {
    "id": "ZRuiqodw-Dpa"
   },
   "source": [
    "##### Distance weights, no normalization"
   ]
  },
  {
   "cell_type": "code",
   "metadata": {
    "id": "UXzlVhvH-Dpa"
   },
   "source": [
    "(mean_trainings, std_trainings, mean_validations, std_validations) =n_neighbors_influence_fixed_datasize(list(range(1, 50)), dataset_chess, labels_chess, nrows, loss_=\"manhattan\",\n",
    "                                     weights=\"distance\", folds = 5, show_time=False, visualize=True)"
   ],
   "execution_count": null,
   "outputs": []
  },
  {
   "cell_type": "markdown",
   "metadata": {
    "id": "L8zCAHPX-Dpb"
   },
   "source": [
    "Considering the above results, we choose to use the hyperparameter k =."
   ]
  },
  {
   "cell_type": "markdown",
   "metadata": {
    "id": "Oh_JTdCz-Dpb"
   },
   "source": [
    "##### Distance weights, normalization"
   ]
  },
  {
   "cell_type": "code",
   "metadata": {
    "id": "-6T812vY-Dpb"
   },
   "source": [
    "(mean_trainings, std_trainings, mean_validations, std_validations) =n_neighbors_influence_fixed_datasize(list(range(1, 50)), normalized_dataset_chess, labels_chess, nrows, loss_=\"manhattan\",\n",
    "                                     weights=\"distance\", folds = 5, show_time=False, visualize=True)"
   ],
   "execution_count": null,
   "outputs": []
  },
  {
   "cell_type": "markdown",
   "metadata": {
    "id": "tjnvPjW5-Dpb"
   },
   "source": [
    "Considering the above results, we choose to use the hyperparameter k =."
   ]
  },
  {
   "cell_type": "markdown",
   "metadata": {
    "id": "rNYZu3Na-Dpc"
   },
   "source": [
    "##### Distance weights, normalization and weighted features"
   ]
  },
  {
   "cell_type": "code",
   "metadata": {
    "id": "Rp8s-ZEK-Dpc"
   },
   "source": [
    "(mean_trainings, std_trainings, mean_validations, std_validations) =n_neighbors_influence_fixed_datasize(list(range(1, 50)), weighted_dataset_chess, labels_chess, nrows, loss_=\"manhattan\",\n",
    "                                     weights=\"distance\", folds = 5, show_time=False, visualize=True)"
   ],
   "execution_count": null,
   "outputs": []
  },
  {
   "cell_type": "markdown",
   "metadata": {
    "id": "yB97Tmtj-Dpc"
   },
   "source": [
    "Considering the above results, we choose to use the hyperparameter k =."
   ]
  },
  {
   "cell_type": "code",
   "metadata": {
    "id": "HBchGgoshiUP"
   },
   "source": [
    "# TO DO : plot the performance depending on K for the entire dataset, choose simplest best K"
   ],
   "execution_count": null,
   "outputs": []
  },
  {
   "cell_type": "markdown",
   "metadata": {
    "id": "c_vQSdO2hiUQ"
   },
   "source": [
    "#### Results on test dataset"
   ]
  },
  {
   "cell_type": "markdown",
   "metadata": {
    "id": "usDLB_0r-Dpd"
   },
   "source": [
    "##### Uniform weights, no normalization"
   ]
  },
  {
   "cell_type": "code",
   "metadata": {
    "id": "WFN-1pcn-Dpd"
   },
   "source": [
    "k1 = 5"
   ],
   "execution_count": null,
   "outputs": []
  },
  {
   "cell_type": "code",
   "metadata": {
    "id": "-xgFrbBz-Dpd"
   },
   "source": [
    "predicted_labels1 = knn(dataset_chess, labels_chess, test_dataset_chess, n_neighbors=k1, weights = \"uniform\", algorithm=\"auto\", p=2)"
   ],
   "execution_count": null,
   "outputs": []
  },
  {
   "cell_type": "code",
   "metadata": {
    "id": "GiBc8naE-Dpe"
   },
   "source": [
    "precision1 = (len(test_labels_chess) - error(predicted_labels1, test_labels_chess))/len(test_labels_chess)\n",
    "print(f\"Precision on the test dataset is {precision1}\"\")\n",
    "ConfusionMatrixDisplay.from_predictions(test_labels_chess, predicted_labels1)"
   ],
   "execution_count": null,
   "outputs": []
  },
  {
   "cell_type": "markdown",
   "metadata": {
    "id": "QTNXnxOK-Dpe"
   },
   "source": [
    "##### Uniform weights, normalization"
   ]
  },
  {
   "cell_type": "code",
   "metadata": {
    "id": "VIw-soqq-Dpe"
   },
   "source": [
    "k2 = 5"
   ],
   "execution_count": null,
   "outputs": []
  },
  {
   "cell_type": "code",
   "metadata": {
    "id": "YMBI0OxY-Dpe"
   },
   "source": [
    "predicted_labels2 = knn(normalized_dataset_chess, labels_chess, normalized_test_dataset_chess, n_neighbors=k2, weights = \"uniform\", algorithm=\"auto\", p=2)"
   ],
   "execution_count": null,
   "outputs": []
  },
  {
   "cell_type": "code",
   "metadata": {
    "id": "AvWRUIat-Dpf"
   },
   "source": [
    "precision2 = (len(test_labels_chess) - error(predicted_labels2, test_labels_chess))/len(test_labels_chess)\n",
    "print(f\"Precision on the test dataset is {precision2}\")\n",
    "ConfusionMatrixDisplay.from_predictions(test_labels_chess, predicted_labels2)"
   ],
   "execution_count": null,
   "outputs": []
  },
  {
   "cell_type": "markdown",
   "metadata": {
    "id": "0aIUTEUV-Dpf"
   },
   "source": [
    "##### Uniform weights, normalization and weighted features"
   ]
  },
  {
   "cell_type": "code",
   "metadata": {
    "id": "tlAo40vl-Dpf"
   },
   "source": [
    "k3 = 5"
   ],
   "execution_count": null,
   "outputs": []
  },
  {
   "cell_type": "code",
   "metadata": {
    "id": "Vv6hCUB3-Dpf"
   },
   "source": [
    "predicted_labels3 = knn(weighted_dataset_adult, labels_adult, weighted_test_dataset_adult, n_neighbors=k3, weights = \"uniform\", algorithm=\"auto\", p=2)"
   ],
   "execution_count": null,
   "outputs": []
  },
  {
   "cell_type": "code",
   "metadata": {
    "id": "EadJCHZm-Dpg"
   },
   "source": [
    "precision3 = (len(test_labels_chess) - error(predicted_labels3, test_labels_chess))/len(test_labels_chess)\n",
    "print(f\"Precision on the test dataset is {precision3}\")\n",
    "ConfusionMatrixDisplay.from_predictions(test_labels_chess, predicted_labels3)"
   ],
   "execution_count": null,
   "outputs": []
  },
  {
   "cell_type": "markdown",
   "metadata": {
    "id": "Fo_KsyKQ-Dpg"
   },
   "source": [
    "##### Distance weights, no normalization"
   ]
  },
  {
   "cell_type": "code",
   "metadata": {
    "id": "CoBHbc6o-Dpg"
   },
   "source": [
    "k4 = 5"
   ],
   "execution_count": null,
   "outputs": []
  },
  {
   "cell_type": "code",
   "metadata": {
    "id": "dWIwM0S_-Dpg"
   },
   "source": [
    "predicted_labels4 = knn(dataset_chess, labels_chess, test_dataset_chess, n_neighbors=k4, weights = \"distance\", algorithm=\"auto\", p=2)"
   ],
   "execution_count": null,
   "outputs": []
  },
  {
   "cell_type": "code",
   "metadata": {
    "id": "5OsNh0WB-Dpg"
   },
   "source": [
    "precision4 = (len(test_labels_chess) - error(predicted_labels4, test_labels_chess))/len(test_labels_chess)\n",
    "print(f\"Precision on the test dataset is {precision4}\"\")\n",
    "ConfusionMatrixDisplay.from_predictions(test_labels_chess, predicted_labels4)"
   ],
   "execution_count": null,
   "outputs": []
  },
  {
   "cell_type": "markdown",
   "metadata": {
    "id": "oThZwbKP-Dph"
   },
   "source": [
    "##### Distance weights,  normalization"
   ]
  },
  {
   "cell_type": "code",
   "metadata": {
    "id": "58tntwCO-Dph"
   },
   "source": [
    "k5 = 5"
   ],
   "execution_count": null,
   "outputs": []
  },
  {
   "cell_type": "code",
   "metadata": {
    "id": "9JnAf1rZ-Dph"
   },
   "source": [
    "predicted_labels5 = knn(normalized_dataset_chess, labels_chess, normalized_test_dataset_chess, n_neighbors=k5, weights = \"distance\", algorithm=\"auto\", p=2)"
   ],
   "execution_count": null,
   "outputs": []
  },
  {
   "cell_type": "code",
   "metadata": {
    "id": "A97KmVtl-Dph"
   },
   "source": [
    "precision5 = (len(test_labels_chess) - error(predicted_labels5, test_labels_chess))/len(test_labels_chess)\n",
    "print(f\"Precision on the test dataset is {precision5}\"\")\n",
    "ConfusionMatrixDisplay.from_predictions(test_labels_chess, predicted_labels5)"
   ],
   "execution_count": null,
   "outputs": []
  },
  {
   "cell_type": "markdown",
   "metadata": {
    "id": "pHF0Kbls-Dpi"
   },
   "source": [
    "##### Distance weights,  normalization and weighted features"
   ]
  },
  {
   "cell_type": "code",
   "metadata": {
    "id": "oeKvM3uW-Dpi"
   },
   "source": [
    "k6 = 5"
   ],
   "execution_count": null,
   "outputs": []
  },
  {
   "cell_type": "code",
   "metadata": {
    "id": "P8cD8vfS-Dpi"
   },
   "source": [
    "predicted_labels6 = knn(weighted_dataset_chess, labels_chess, weighted_test_dataset_chess, n_neighbors=k6, weights = \"distance\", algorithm=\"auto\", p=2)"
   ],
   "execution_count": null,
   "outputs": []
  },
  {
   "cell_type": "code",
   "metadata": {
    "id": "bXpUYjhs-Dpi"
   },
   "source": [
    "precision6 = (len(test_labels_chess) - error(predicted_labels6, test_labels_chess))/len(test_labels_chess)\n",
    "print(f\"Precision on the test dataset is {precision6}\"\")\n",
    "ConfusionMatrixDisplay.from_predictions(test_labels_chess, predicted_labels6)"
   ],
   "execution_count": null,
   "outputs": []
  },
  {
   "cell_type": "code",
   "metadata": {
    "id": "XBSMAliY-Dpj"
   },
   "source": [
    "# TO DO : print precision of test dataset, add confusion matrix"
   ],
   "execution_count": null,
   "outputs": []
  },
  {
   "cell_type": "code",
   "metadata": {
    "id": "XjfDL3_NhiUQ"
   },
   "source": [
    "# TO DO : print precision of test dataset, add confusion matrix"
   ],
   "execution_count": null,
   "outputs": []
  },
  {
   "cell_type": "markdown",
   "metadata": {
    "id": "BGgE3GtJhiUQ"
   },
   "source": [
    "# Decision tree"
   ]
  },
  {
   "cell_type": "markdown",
   "source": [
    "### Decision Tree algorithm implementation"
   ],
   "metadata": {
    "collapsed": false
   }
  },
  {
   "cell_type": "markdown",
   "metadata": {
    "id": "1czo2QT4hiUR"
   },
   "source": [
    "We use scikit-learn's decision tree function to design a decision tree classifier."
   ]
  },
  {
   "cell_type": "code",
   "metadata": {
    "id": "uO9tUgiNhiUR",
    "pycharm": {
     "name": "#%%\n"
    }
   },
   "source": [
    "from sklearn.tree import DecisionTreeClassifier # Import Decision Tree Classifier"
   ],
   "execution_count": 20,
   "outputs": []
  },
  {
   "cell_type": "code",
   "metadata": {
    "id": "8HEiu5H3hiUR"
   },
   "source": [
    "def decision_tree(training_features, training_labels, to_predict_features, max_depth=None, criterion='gini'):\n",
    "    \"\"\"\n",
    "    :param training_features: training features (x)\n",
    "    :param training_labels: training labels (y)\n",
    "    :param to_predict_features: features that we want to predict\n",
    "    :param max_depth: The maximum depth of the tree. If None, then nodes are expanded until all leaves are pure.\n",
    "    :param criterion: {\"gini\", \"entropy\"} Default is \"gini\" for the Gini impurity and \"entropy\" for the information gain\n",
    "    :return:Numpy array containing the labels predicted by Decision Tree for the given 'to_predict_features'\n",
    "    \"\"\"\n",
    "    classifier = DecisionTreeClassifier(max_depth=max_depth, criterion=criterion)\n",
    "    classifier.fit(training_features, training_labels)\n",
    "    \n",
    "    return classifier.predict(to_predict_features)"
   ],
   "execution_count": 21,
   "outputs": []
  },
  {
   "cell_type": "markdown",
   "metadata": {
    "id": "a6Zd0CzZe6lL"
   },
   "source": [
    "### Let us study the influence of the hyperparameter max_depth"
   ]
  },
  {
   "cell_type": "markdown",
   "source": [
    "Let us study the influence of the hyperparameter max_depth on decision tree algorithm's performance."
   ],
   "metadata": {
    "collapsed": false
   }
  },
  {
   "cell_type": "code",
   "metadata": {
    "id": "LsA0O9nIhiUR"
   },
   "source": [
    "def decision_tree_influence_multiple_datasize(max_depths, dataset_, labels_, Ns, criterion = \"gini\", loss_=\"manhattan\",\n",
    "                                            folds = 5, show_time=False, visualize=True):\n",
    "    \n",
    "    mean_training_per_depth = dict()\n",
    "    std_training_per_depth = dict()\n",
    "    mean_validation_per_depth = dict()\n",
    "    std_validation_per_depth = dict()\n",
    "    \n",
    "    if show_time: time_per_depth = dict()\n",
    "    \n",
    "    for depth in max_depths:\n",
    "        print(depth)\n",
    "        if show_time: (mean_trainings, std_trainings, mean_validations, std_validations, times) = data_size_influence(decision_tree, dataset_, labels_, Ns, loss_=\"manhattan\", folds = folds, algo_kwargs={\"max_depth\":depth, \"criterion\":criterion}, show_time=show_time, visualize=False)\n",
    "        else: (mean_trainings, std_trainings, mean_validations, std_validations) = data_size_influence(decision_tree, dataset_, labels_, Ns, loss_=\"manhattan\", folds = folds, algo_kwargs={\"max_depth\":depth, \"criterion\":criterion}, show_time=show_time, visualize=False)\n",
    "            \n",
    "        mean_training_per_depth[depth] = mean_trainings\n",
    "        std_training_per_depth[depth] = std_trainings\n",
    "        mean_validation_per_depth[depth]  = mean_validations\n",
    "        std_validation_per_depth[depth]  = std_validations\n",
    "\n",
    "        if show_time: time_per_depth[depth]  = times\n",
    "    subplotcode = 120\n",
    "    if show_time :\n",
    "        subplotcode = 130\n",
    "    if visualize:\n",
    "        \n",
    "        fig = plt.figure(figsize=(15,10))\n",
    "        fig.suptitle(\"Influence of max depth (in decision tree) and training/validation dataset size\")\n",
    "        \n",
    "        ax1 = fig.add_subplot(subplotcode+1)\n",
    "        ax1.title.set_text(\"Training precision\")\n",
    "        cmap = plt.get_cmap(\"tab10\")\n",
    "        curveID = 0\n",
    "        for depth in max_depths:\n",
    "            plotMeanAndStd([i for i in zip(mean_training_per_depth[depth],std_training_per_depth[depth])],Ns, legend=\"depth = \"+str(depth),ax = ax1, color = cmap(curveID))\n",
    "            curveID += 1\n",
    "        ax1.set_ylim(0,1.05)\n",
    "        ax1.set_xlim(Ns[0],Ns[-1])\n",
    "        ax1.grid()\n",
    "        ax1.legend()\n",
    "        \n",
    "        ax2 = fig.add_subplot(subplotcode+2)\n",
    "        curveID = 0\n",
    "        for depth in max_depths:\n",
    "            plotMeanAndStd([i for i in zip(mean_validation_per_depth[depth],std_validation_per_depth[depth])],Ns, legend=\"depth = \"+str(depth), ax=ax2,color = cmap(curveID))\n",
    "            curveID += 1\n",
    "        ax2.set_ylim(0,1.05)\n",
    "        ax2.title.set_text(\"Validation precision\")\n",
    "        ax2.set_xlim(Ns[0],Ns[-1])\n",
    "        ax2.grid()\n",
    "        ax2.legend()\n",
    "        \n",
    "        if show_time:\n",
    "            ax5 = fig.add_subplot(subplotcode+3)\n",
    "            ax5.title.set_text(\"Computation time\")\n",
    "            for depth in max_depths:\n",
    "                ax5.plot(Ns, time_per_depth[depth], label=f\"depth={depth}\")\n",
    "            ax5.grid()\n",
    "            plt.legend()\n",
    "        \n",
    "\n",
    "\n",
    "        fig.tight_layout()\n",
    "              \n",
    "        plt.show()\n",
    "    \n",
    "    if show_time: return (mean_training_per_depth, std_training_per_depth, mean_validation_per_depth, std_validation_per_depth, time_per_depth)\n",
    "    else: return (mean_training_per_depth, std_training_per_depth, mean_validation_per_depth, std_validation_per_depth)\n",
    "    "
   ],
   "execution_count": 22,
   "outputs": []
  },
  {
   "cell_type": "code",
   "metadata": {
    "id": "0Cd6A8EgIiBf",
    "colab": {
     "base_uri": "https://localhost:8080/",
     "height": 398
    },
    "outputId": "1363aa29-1ba2-4dec-b06c-28bcb3453cfe"
   },
   "source": [
    "nrows = dataset_adult.shape[0]\n",
    "max_depths = list(range(1, 30, 2))\n",
    "Ns = [int(index * nrows) for index in [0.25, 0.5, 0.75, 1]]\n",
    "\n",
    "if(USE_IMAGES_INSTEAD_OF_COMPUTING):\n",
    "    display(Image(\"img/decision_tree_dataset_size_influence.png\"))\n",
    "else: \n",
    "    decision_tree_influence_multiple_datasize(max_depths, dataset_adult, labels_adult, Ns, criterion=\"gini\", loss_=\"manhattan\",\n",
    "                                              folds = 5, show_time=True, visualize=True)\n"
   ],
   "execution_count": 34,
   "outputs": [
    {
     "output_type": "stream",
     "name": "stdout",
     "text": [
      "1\n",
      "3\n",
      "5\n"
     ]
    },
    {
     "output_type": "error",
     "ename": "KeyboardInterrupt",
     "evalue": "ignored",
     "traceback": [
      "\u001b[0;31m---------------------------------------------------------------------------\u001b[0m",
      "\u001b[0;31mKeyboardInterrupt\u001b[0m                         Traceback (most recent call last)",
      "\u001b[0;32m<ipython-input-34-13d24db62bbb>\u001b[0m in \u001b[0;36m<module>\u001b[0;34m()\u001b[0m\n\u001b[1;32m      7\u001b[0m \u001b[0;32melse\u001b[0m\u001b[0;34m:\u001b[0m\u001b[0;34m\u001b[0m\u001b[0;34m\u001b[0m\u001b[0m\n\u001b[1;32m      8\u001b[0m     decision_tree_influence_multiple_datasize(max_depths, dataset_adult, labels_adult, Ns, criterion=\"gini\", loss_=\"manhattan\",\n\u001b[0;32m----> 9\u001b[0;31m                                               folds = 5, show_time=True, visualize=True)\n\u001b[0m",
      "\u001b[0;32m<ipython-input-22-e50a1e7e16a1>\u001b[0m in \u001b[0;36mdecision_tree_influence_multiple_datasize\u001b[0;34m(max_depths, dataset_, labels_, Ns, criterion, loss_, folds, show_time, visualize)\u001b[0m\n\u001b[1;32m     11\u001b[0m     \u001b[0;32mfor\u001b[0m \u001b[0mdepth\u001b[0m \u001b[0;32min\u001b[0m \u001b[0mmax_depths\u001b[0m\u001b[0;34m:\u001b[0m\u001b[0;34m\u001b[0m\u001b[0;34m\u001b[0m\u001b[0m\n\u001b[1;32m     12\u001b[0m         \u001b[0mprint\u001b[0m\u001b[0;34m(\u001b[0m\u001b[0mdepth\u001b[0m\u001b[0;34m)\u001b[0m\u001b[0;34m\u001b[0m\u001b[0;34m\u001b[0m\u001b[0m\n\u001b[0;32m---> 13\u001b[0;31m         \u001b[0;32mif\u001b[0m \u001b[0mshow_time\u001b[0m\u001b[0;34m:\u001b[0m \u001b[0;34m(\u001b[0m\u001b[0mmean_trainings\u001b[0m\u001b[0;34m,\u001b[0m \u001b[0mstd_trainings\u001b[0m\u001b[0;34m,\u001b[0m \u001b[0mmean_validations\u001b[0m\u001b[0;34m,\u001b[0m \u001b[0mstd_validations\u001b[0m\u001b[0;34m,\u001b[0m \u001b[0mtimes\u001b[0m\u001b[0;34m)\u001b[0m \u001b[0;34m=\u001b[0m \u001b[0mdata_size_influence\u001b[0m\u001b[0;34m(\u001b[0m\u001b[0mdecision_tree\u001b[0m\u001b[0;34m,\u001b[0m \u001b[0mdataset_\u001b[0m\u001b[0;34m,\u001b[0m \u001b[0mlabels_\u001b[0m\u001b[0;34m,\u001b[0m \u001b[0mNs\u001b[0m\u001b[0;34m,\u001b[0m \u001b[0mloss_\u001b[0m\u001b[0;34m=\u001b[0m\u001b[0;34m\"manhattan\"\u001b[0m\u001b[0;34m,\u001b[0m \u001b[0mfolds\u001b[0m \u001b[0;34m=\u001b[0m \u001b[0mfolds\u001b[0m\u001b[0;34m,\u001b[0m \u001b[0malgo_kwargs\u001b[0m\u001b[0;34m=\u001b[0m\u001b[0;34m{\u001b[0m\u001b[0;34m\"max_depth\"\u001b[0m\u001b[0;34m:\u001b[0m\u001b[0mdepth\u001b[0m\u001b[0;34m,\u001b[0m \u001b[0;34m\"criterion\"\u001b[0m\u001b[0;34m:\u001b[0m\u001b[0mcriterion\u001b[0m\u001b[0;34m}\u001b[0m\u001b[0;34m,\u001b[0m \u001b[0mshow_time\u001b[0m\u001b[0;34m=\u001b[0m\u001b[0mshow_time\u001b[0m\u001b[0;34m,\u001b[0m \u001b[0mvisualize\u001b[0m\u001b[0;34m=\u001b[0m\u001b[0;32mFalse\u001b[0m\u001b[0;34m)\u001b[0m\u001b[0;34m\u001b[0m\u001b[0;34m\u001b[0m\u001b[0m\n\u001b[0m\u001b[1;32m     14\u001b[0m         \u001b[0;32melse\u001b[0m\u001b[0;34m:\u001b[0m \u001b[0;34m(\u001b[0m\u001b[0mmean_trainings\u001b[0m\u001b[0;34m,\u001b[0m \u001b[0mstd_trainings\u001b[0m\u001b[0;34m,\u001b[0m \u001b[0mmean_validations\u001b[0m\u001b[0;34m,\u001b[0m \u001b[0mstd_validations\u001b[0m\u001b[0;34m)\u001b[0m \u001b[0;34m=\u001b[0m \u001b[0mdata_size_influence\u001b[0m\u001b[0;34m(\u001b[0m\u001b[0mdecision_tree\u001b[0m\u001b[0;34m,\u001b[0m \u001b[0mdataset_\u001b[0m\u001b[0;34m,\u001b[0m \u001b[0mlabels_\u001b[0m\u001b[0;34m,\u001b[0m \u001b[0mNs\u001b[0m\u001b[0;34m,\u001b[0m \u001b[0mloss_\u001b[0m\u001b[0;34m=\u001b[0m\u001b[0;34m\"manhattan\"\u001b[0m\u001b[0;34m,\u001b[0m \u001b[0mfolds\u001b[0m \u001b[0;34m=\u001b[0m \u001b[0mfolds\u001b[0m\u001b[0;34m,\u001b[0m \u001b[0malgo_kwargs\u001b[0m\u001b[0;34m=\u001b[0m\u001b[0;34m{\u001b[0m\u001b[0;34m\"max_depth\"\u001b[0m\u001b[0;34m:\u001b[0m\u001b[0mdepth\u001b[0m\u001b[0;34m,\u001b[0m \u001b[0;34m\"criterion\"\u001b[0m\u001b[0;34m:\u001b[0m\u001b[0mcriterion\u001b[0m\u001b[0;34m}\u001b[0m\u001b[0;34m,\u001b[0m \u001b[0mshow_time\u001b[0m\u001b[0;34m=\u001b[0m\u001b[0mshow_time\u001b[0m\u001b[0;34m,\u001b[0m \u001b[0mvisualize\u001b[0m\u001b[0;34m=\u001b[0m\u001b[0;32mFalse\u001b[0m\u001b[0;34m)\u001b[0m\u001b[0;34m\u001b[0m\u001b[0;34m\u001b[0m\u001b[0m\n\u001b[1;32m     15\u001b[0m \u001b[0;34m\u001b[0m\u001b[0m\n",
      "\u001b[0;32m<ipython-input-19-01247fb27347>\u001b[0m in \u001b[0;36mdata_size_influence\u001b[0;34m(algo, dataset_, labels_, Ns, loss_, folds, algo_kwargs, show_time, visualize)\u001b[0m\n\u001b[1;32m     15\u001b[0m \u001b[0;34m\u001b[0m\u001b[0m\n\u001b[1;32m     16\u001b[0m         \u001b[0;32mif\u001b[0m \u001b[0mshow_time\u001b[0m\u001b[0;34m:\u001b[0m \u001b[0mt\u001b[0m \u001b[0;34m=\u001b[0m \u001b[0mtime\u001b[0m\u001b[0;34m.\u001b[0m\u001b[0mtime\u001b[0m\u001b[0;34m(\u001b[0m\u001b[0;34m)\u001b[0m\u001b[0;34m\u001b[0m\u001b[0;34m\u001b[0m\u001b[0m\n\u001b[0;32m---> 17\u001b[0;31m         \u001b[0mmean_training\u001b[0m\u001b[0;34m,\u001b[0m \u001b[0mstd_training\u001b[0m\u001b[0;34m,\u001b[0m \u001b[0mmean_validation\u001b[0m\u001b[0;34m,\u001b[0m \u001b[0mstd_validation\u001b[0m \u001b[0;34m=\u001b[0m \u001b[0mcross_validation\u001b[0m\u001b[0;34m(\u001b[0m\u001b[0malgo\u001b[0m\u001b[0;34m,\u001b[0m \u001b[0md\u001b[0m\u001b[0;34m,\u001b[0m \u001b[0ml\u001b[0m\u001b[0;34m,\u001b[0m \u001b[0mfolds\u001b[0m \u001b[0;34m=\u001b[0m \u001b[0mfolds\u001b[0m\u001b[0;34m,\u001b[0m \u001b[0malgo_kwargs\u001b[0m\u001b[0;34m=\u001b[0m\u001b[0malgo_kwargs\u001b[0m\u001b[0;34m)\u001b[0m\u001b[0;34m\u001b[0m\u001b[0;34m\u001b[0m\u001b[0m\n\u001b[0m\u001b[1;32m     18\u001b[0m         \u001b[0;32mif\u001b[0m \u001b[0mshow_time\u001b[0m\u001b[0;34m:\u001b[0m \u001b[0mtimes\u001b[0m\u001b[0;34m.\u001b[0m\u001b[0mappend\u001b[0m\u001b[0;34m(\u001b[0m\u001b[0mtime\u001b[0m\u001b[0;34m.\u001b[0m\u001b[0mtime\u001b[0m\u001b[0;34m(\u001b[0m\u001b[0;34m)\u001b[0m \u001b[0;34m-\u001b[0m \u001b[0mt\u001b[0m\u001b[0;34m)\u001b[0m\u001b[0;34m\u001b[0m\u001b[0;34m\u001b[0m\u001b[0m\n\u001b[1;32m     19\u001b[0m \u001b[0;34m\u001b[0m\u001b[0m\n",
      "\u001b[0;32m<ipython-input-18-8e4c1ad9b60b>\u001b[0m in \u001b[0;36mcross_validation\u001b[0;34m(algo, dataset_, labels_, loss_, folds, algo_kwargs)\u001b[0m\n\u001b[1;32m     23\u001b[0m \u001b[0;34m\u001b[0m\u001b[0m\n\u001b[1;32m     24\u001b[0m         \u001b[0;31m# Validation error\u001b[0m\u001b[0;34m\u001b[0m\u001b[0;34m\u001b[0m\u001b[0;34m\u001b[0m\u001b[0m\n\u001b[0;32m---> 25\u001b[0;31m         \u001b[0mvalidation_predicted_labels\u001b[0m \u001b[0;34m=\u001b[0m \u001b[0malgo\u001b[0m\u001b[0;34m(\u001b[0m\u001b[0mtraining_set\u001b[0m\u001b[0;34m,\u001b[0m \u001b[0mtraining_labels\u001b[0m\u001b[0;34m,\u001b[0m \u001b[0mtest_set\u001b[0m\u001b[0;34m,\u001b[0m \u001b[0;34m**\u001b[0m\u001b[0malgo_kwargs\u001b[0m\u001b[0;34m)\u001b[0m\u001b[0;34m\u001b[0m\u001b[0;34m\u001b[0m\u001b[0m\n\u001b[0m\u001b[1;32m     26\u001b[0m         \u001b[0mvalidation_precisions\u001b[0m \u001b[0;34m+=\u001b[0m \u001b[0;34m[\u001b[0m\u001b[0;34m(\u001b[0m\u001b[0mlen\u001b[0m\u001b[0;34m(\u001b[0m\u001b[0mtest_labels\u001b[0m\u001b[0;34m)\u001b[0m \u001b[0;34m-\u001b[0m \u001b[0merror\u001b[0m\u001b[0;34m(\u001b[0m\u001b[0mvalidation_predicted_labels\u001b[0m\u001b[0;34m,\u001b[0m \u001b[0mtest_labels\u001b[0m\u001b[0;34m,\u001b[0m \u001b[0mloss\u001b[0m \u001b[0;34m=\u001b[0m \u001b[0mloss_\u001b[0m\u001b[0;34m)\u001b[0m\u001b[0;34m)\u001b[0m\u001b[0;34m/\u001b[0m\u001b[0mlen\u001b[0m\u001b[0;34m(\u001b[0m\u001b[0mtest_labels\u001b[0m\u001b[0;34m)\u001b[0m\u001b[0;34m]\u001b[0m\u001b[0;34m\u001b[0m\u001b[0;34m\u001b[0m\u001b[0m\n\u001b[1;32m     27\u001b[0m \u001b[0;34m\u001b[0m\u001b[0m\n",
      "\u001b[0;32m<ipython-input-21-fc78094648c2>\u001b[0m in \u001b[0;36mdecision_tree\u001b[0;34m(training_features, training_labels, to_predict_features, max_depth, criterion)\u001b[0m\n\u001b[1;32m      9\u001b[0m     \"\"\"\n\u001b[1;32m     10\u001b[0m     \u001b[0mclassifier\u001b[0m \u001b[0;34m=\u001b[0m \u001b[0mDecisionTreeClassifier\u001b[0m\u001b[0;34m(\u001b[0m\u001b[0mmax_depth\u001b[0m\u001b[0;34m=\u001b[0m\u001b[0mmax_depth\u001b[0m\u001b[0;34m,\u001b[0m \u001b[0mcriterion\u001b[0m\u001b[0;34m=\u001b[0m\u001b[0mcriterion\u001b[0m\u001b[0;34m)\u001b[0m\u001b[0;34m\u001b[0m\u001b[0;34m\u001b[0m\u001b[0m\n\u001b[0;32m---> 11\u001b[0;31m     \u001b[0mclassifier\u001b[0m\u001b[0;34m.\u001b[0m\u001b[0mfit\u001b[0m\u001b[0;34m(\u001b[0m\u001b[0mtraining_features\u001b[0m\u001b[0;34m,\u001b[0m \u001b[0mtraining_labels\u001b[0m\u001b[0;34m)\u001b[0m\u001b[0;34m\u001b[0m\u001b[0;34m\u001b[0m\u001b[0m\n\u001b[0m\u001b[1;32m     12\u001b[0m \u001b[0;34m\u001b[0m\u001b[0m\n\u001b[1;32m     13\u001b[0m     \u001b[0;32mreturn\u001b[0m \u001b[0mclassifier\u001b[0m\u001b[0;34m.\u001b[0m\u001b[0mpredict\u001b[0m\u001b[0;34m(\u001b[0m\u001b[0mto_predict_features\u001b[0m\u001b[0;34m)\u001b[0m\u001b[0;34m\u001b[0m\u001b[0;34m\u001b[0m\u001b[0m\n",
      "\u001b[0;32m/usr/local/lib/python3.7/dist-packages/sklearn/tree/_classes.py\u001b[0m in \u001b[0;36mfit\u001b[0;34m(self, X, y, sample_weight, check_input, X_idx_sorted)\u001b[0m\n\u001b[1;32m    875\u001b[0m             \u001b[0msample_weight\u001b[0m\u001b[0;34m=\u001b[0m\u001b[0msample_weight\u001b[0m\u001b[0;34m,\u001b[0m\u001b[0;34m\u001b[0m\u001b[0;34m\u001b[0m\u001b[0m\n\u001b[1;32m    876\u001b[0m             \u001b[0mcheck_input\u001b[0m\u001b[0;34m=\u001b[0m\u001b[0mcheck_input\u001b[0m\u001b[0;34m,\u001b[0m\u001b[0;34m\u001b[0m\u001b[0;34m\u001b[0m\u001b[0m\n\u001b[0;32m--> 877\u001b[0;31m             X_idx_sorted=X_idx_sorted)\n\u001b[0m\u001b[1;32m    878\u001b[0m         \u001b[0;32mreturn\u001b[0m \u001b[0mself\u001b[0m\u001b[0;34m\u001b[0m\u001b[0;34m\u001b[0m\u001b[0m\n\u001b[1;32m    879\u001b[0m \u001b[0;34m\u001b[0m\u001b[0m\n",
      "\u001b[0;32m/usr/local/lib/python3.7/dist-packages/sklearn/tree/_classes.py\u001b[0m in \u001b[0;36mfit\u001b[0;34m(self, X, y, sample_weight, check_input, X_idx_sorted)\u001b[0m\n\u001b[1;32m    365\u001b[0m                                            min_impurity_split)\n\u001b[1;32m    366\u001b[0m \u001b[0;34m\u001b[0m\u001b[0m\n\u001b[0;32m--> 367\u001b[0;31m         \u001b[0mbuilder\u001b[0m\u001b[0;34m.\u001b[0m\u001b[0mbuild\u001b[0m\u001b[0;34m(\u001b[0m\u001b[0mself\u001b[0m\u001b[0;34m.\u001b[0m\u001b[0mtree_\u001b[0m\u001b[0;34m,\u001b[0m \u001b[0mX\u001b[0m\u001b[0;34m,\u001b[0m \u001b[0my\u001b[0m\u001b[0;34m,\u001b[0m \u001b[0msample_weight\u001b[0m\u001b[0;34m,\u001b[0m \u001b[0mX_idx_sorted\u001b[0m\u001b[0;34m)\u001b[0m\u001b[0;34m\u001b[0m\u001b[0;34m\u001b[0m\u001b[0m\n\u001b[0m\u001b[1;32m    368\u001b[0m \u001b[0;34m\u001b[0m\u001b[0m\n\u001b[1;32m    369\u001b[0m         \u001b[0;32mif\u001b[0m \u001b[0mself\u001b[0m\u001b[0;34m.\u001b[0m\u001b[0mn_outputs_\u001b[0m \u001b[0;34m==\u001b[0m \u001b[0;36m1\u001b[0m \u001b[0;32mand\u001b[0m \u001b[0mis_classifier\u001b[0m\u001b[0;34m(\u001b[0m\u001b[0mself\u001b[0m\u001b[0;34m)\u001b[0m\u001b[0;34m:\u001b[0m\u001b[0;34m\u001b[0m\u001b[0;34m\u001b[0m\u001b[0m\n",
      "\u001b[0;31mKeyboardInterrupt\u001b[0m: "
     ]
    }
   ]
  },
  {
   "cell_type": "code",
   "metadata": {
    "id": "PgZFWL9zhiUS"
   },
   "source": [
    "def decision_tree_influence_fixed_datasize(max_depths, dataset_, labels_, N, loss_=\"manhattan\", criterion='gini', \n",
    "                                         folds = 5, show_time=False, visualize=True):\n",
    "    nrows = dataset_.shape[0]\n",
    "    mean_trainings = []\n",
    "    std_trainings = []\n",
    "    mean_validations = []\n",
    "    std_validations = []\n",
    "    \n",
    "    if show_time: times = []\n",
    "    \n",
    "    for depth in max_depths:\n",
    "        indices = list(np.random.choice(nrows, N))\n",
    "        d = dataset_.iloc[indices].reset_index(drop=True)\n",
    "        l = labels_.iloc[indices].reset_index(drop=True)\n",
    "        \n",
    "        if show_time: t = time.time()\n",
    "        mean_training, std_training, mean_validation, std_validation = cross_validation(decision_tree, d, l, folds = folds, algo_kwargs={\"max_depth\": depth, \"criterion\": criterion})\n",
    "        if show_time: times.append(time.time() - t)\n",
    "        \n",
    "        mean_trainings.append(mean_training)\n",
    "        std_trainings.append(std_training)\n",
    "        mean_validations.append(mean_validation)\n",
    "        std_validations.append(std_validation)\n",
    "\n",
    "    if visualize:\n",
    "        fig = plt.figure(figsize=(15,10))\n",
    "        #fig.suptitle(\"Influence of training/validation dataset size\")\n",
    "        ax1 = fig.gca()\n",
    "        plotMeanAndStd([i for i in zip(mean_trainings, std_trainings)], max_depths, ax = ax1, color = 'b', legend=\"Training\")\n",
    "        plotMeanAndStd([i for i in zip(mean_validations, std_validations)], max_depths, ax = ax1, color = 'r', legend=\"Validation\")\n",
    "        ax1.set_ylim(0,1.1)\n",
    "        ax1.grid()\n",
    "        ax1.title.set_text(\"Precision\")\n",
    "        ax1.set_xlabel(\"max depth\")\n",
    "        ax1.set_ylabel(\"Precision\")\n",
    "        ax1.legend()\n",
    "        ax1.set_xlim(min(max_depths), max(max_depths))\n",
    "        if show_time:\n",
    "            ax5 = fig.add_subplot(235)\n",
    "            ax5.title.set_text(\"Computation time\")\n",
    "            ax5.plot(max_depths, times)\n",
    "\n",
    "        plt.show()\n",
    "    \n",
    "    if show_time: return (mean_trainings, std_trainings, mean_validations, std_validations, times)\n",
    "    else: \n",
    "        return (mean_trainings, std_trainings, mean_validations, std_validations)"
   ],
   "execution_count": 28,
   "outputs": []
  },
  {
   "cell_type": "markdown",
   "metadata": {
    "id": "104uJclihiUS"
   },
   "source": [
    "### Decision tree results for dataset 1"
   ]
  },
  {
   "cell_type": "markdown",
   "metadata": {
    "id": "V0Lsi16thUyl"
   },
   "source": [
    "Define dataset_adult_75 and weighted_dataset_adult (same as above)"
   ]
  },
  {
   "cell_type": "code",
   "metadata": {
    "colab": {
     "base_uri": "https://localhost:8080/",
     "height": 478
    },
    "id": "1c2HEpF8gMlv",
    "outputId": "aac82c20-416b-4c98-f225-1dc5cd41a99d"
   },
   "source": [
    "nrows = dataset_adult.shape[0]\n",
    "N = int(0.75 * nrows)\n",
    "indices = list(np.random.choice(nrows, N))\n",
    "dataset_adult_75 = dataset_adult.iloc[indices].reset_index(drop=True)\n",
    "labels_adult_75 = labels_adult.iloc[indices].reset_index(drop=True)\n",
    "\n",
    "\n",
    "normalized_dataset_adult = dataset_adult_75.copy(deep=True)\n",
    "normalize(normalized_dataset_adult)\n",
    "\n",
    "normalized_test_dataset_adult = test_dataset_adult.copy(deep=True)\n",
    "normalize(normalized_test_dataset_adult)"
   ],
   "execution_count": 26,
   "outputs": [
    {
     "output_type": "execute_result",
     "data": {
      "text/html": [
       "<div>\n",
       "<style scoped>\n",
       "    .dataframe tbody tr th:only-of-type {\n",
       "        vertical-align: middle;\n",
       "    }\n",
       "\n",
       "    .dataframe tbody tr th {\n",
       "        vertical-align: top;\n",
       "    }\n",
       "\n",
       "    .dataframe thead th {\n",
       "        text-align: right;\n",
       "    }\n",
       "</style>\n",
       "<table border=\"1\" class=\"dataframe\">\n",
       "  <thead>\n",
       "    <tr style=\"text-align: right;\">\n",
       "      <th></th>\n",
       "      <th>age</th>\n",
       "      <th>workclass_Federal-gov</th>\n",
       "      <th>workclass_Local-gov</th>\n",
       "      <th>workclass_Private</th>\n",
       "      <th>workclass_Self-emp-inc</th>\n",
       "      <th>workclass_Self-emp-not-inc</th>\n",
       "      <th>workclass_State-gov</th>\n",
       "      <th>workclass_Without-pay</th>\n",
       "      <th>fnlwgt</th>\n",
       "      <th>education_10th</th>\n",
       "      <th>education_11th</th>\n",
       "      <th>education_12th</th>\n",
       "      <th>education_1st-4th</th>\n",
       "      <th>education_5th-6th</th>\n",
       "      <th>education_7th-8th</th>\n",
       "      <th>education_9th</th>\n",
       "      <th>education_Assoc-acdm</th>\n",
       "      <th>education_Assoc-voc</th>\n",
       "      <th>education_Bachelors</th>\n",
       "      <th>education_Doctorate</th>\n",
       "      <th>education_HS-grad</th>\n",
       "      <th>education_Masters</th>\n",
       "      <th>education_Preschool</th>\n",
       "      <th>education_Prof-school</th>\n",
       "      <th>education_Some-college</th>\n",
       "      <th>education-num</th>\n",
       "      <th>marital-status_Divorced</th>\n",
       "      <th>marital-status_Married-AF-spouse</th>\n",
       "      <th>marital-status_Married-civ-spouse</th>\n",
       "      <th>marital-status_Married-spouse-absent</th>\n",
       "      <th>marital-status_Never-married</th>\n",
       "      <th>marital-status_Separated</th>\n",
       "      <th>marital-status_Widowed</th>\n",
       "      <th>occupation_Adm-clerical</th>\n",
       "      <th>occupation_Armed-Forces</th>\n",
       "      <th>occupation_Craft-repair</th>\n",
       "      <th>occupation_Exec-managerial</th>\n",
       "      <th>occupation_Farming-fishing</th>\n",
       "      <th>occupation_Handlers-cleaners</th>\n",
       "      <th>occupation_Machine-op-inspct</th>\n",
       "      <th>...</th>\n",
       "      <th>native-country_Canada</th>\n",
       "      <th>native-country_China</th>\n",
       "      <th>native-country_Columbia</th>\n",
       "      <th>native-country_Cuba</th>\n",
       "      <th>native-country_Dominican-Republic</th>\n",
       "      <th>native-country_Ecuador</th>\n",
       "      <th>native-country_El-Salvador</th>\n",
       "      <th>native-country_England</th>\n",
       "      <th>native-country_France</th>\n",
       "      <th>native-country_Germany</th>\n",
       "      <th>native-country_Greece</th>\n",
       "      <th>native-country_Guatemala</th>\n",
       "      <th>native-country_Haiti</th>\n",
       "      <th>native-country_Honduras</th>\n",
       "      <th>native-country_Hong</th>\n",
       "      <th>native-country_Hungary</th>\n",
       "      <th>native-country_India</th>\n",
       "      <th>native-country_Iran</th>\n",
       "      <th>native-country_Ireland</th>\n",
       "      <th>native-country_Italy</th>\n",
       "      <th>native-country_Jamaica</th>\n",
       "      <th>native-country_Japan</th>\n",
       "      <th>native-country_Laos</th>\n",
       "      <th>native-country_Mexico</th>\n",
       "      <th>native-country_Nicaragua</th>\n",
       "      <th>native-country_Outlying-US(Guam-USVI-etc)</th>\n",
       "      <th>native-country_Peru</th>\n",
       "      <th>native-country_Philippines</th>\n",
       "      <th>native-country_Poland</th>\n",
       "      <th>native-country_Portugal</th>\n",
       "      <th>native-country_Puerto-Rico</th>\n",
       "      <th>native-country_Scotland</th>\n",
       "      <th>native-country_South</th>\n",
       "      <th>native-country_Taiwan</th>\n",
       "      <th>native-country_Thailand</th>\n",
       "      <th>native-country_Trinadad&amp;Tobago</th>\n",
       "      <th>native-country_United-States</th>\n",
       "      <th>native-country_Vietnam</th>\n",
       "      <th>native-country_Yugoslavia</th>\n",
       "      <th>native-country_Holand-Netherlands</th>\n",
       "    </tr>\n",
       "  </thead>\n",
       "  <tbody>\n",
       "    <tr>\n",
       "      <th>0</th>\n",
       "      <td>-1.029005</td>\n",
       "      <td>-0.178098</td>\n",
       "      <td>-0.271374</td>\n",
       "      <td>0.605378</td>\n",
       "      <td>-0.198698</td>\n",
       "      <td>-0.306982</td>\n",
       "      <td>-0.215272</td>\n",
       "      <td>-0.021564</td>\n",
       "      <td>0.352098</td>\n",
       "      <td>-0.165817</td>\n",
       "      <td>5.037339</td>\n",
       "      <td>-0.116013</td>\n",
       "      <td>-0.068824</td>\n",
       "      <td>-0.103952</td>\n",
       "      <td>-0.134091</td>\n",
       "      <td>-0.122038</td>\n",
       "      <td>-0.185121</td>\n",
       "      <td>-0.212727</td>\n",
       "      <td>-0.448923</td>\n",
       "      <td>-0.106532</td>\n",
       "      <td>-0.698988</td>\n",
       "      <td>-0.250168</td>\n",
       "      <td>-0.04238</td>\n",
       "      <td>-0.128063</td>\n",
       "      <td>-0.521600</td>\n",
       "      <td>-1.216563</td>\n",
       "      <td>-0.400643</td>\n",
       "      <td>-0.027036</td>\n",
       "      <td>-0.930683</td>\n",
       "      <td>-0.110602</td>\n",
       "      <td>1.446075</td>\n",
       "      <td>-0.179876</td>\n",
       "      <td>-0.175502</td>\n",
       "      <td>-0.370643</td>\n",
       "      <td>-0.018224</td>\n",
       "      <td>-0.390201</td>\n",
       "      <td>-0.390427</td>\n",
       "      <td>-0.18358</td>\n",
       "      <td>-0.220124</td>\n",
       "      <td>3.741657</td>\n",
       "      <td>...</td>\n",
       "      <td>-0.061093</td>\n",
       "      <td>-0.054745</td>\n",
       "      <td>-0.041586</td>\n",
       "      <td>-0.052248</td>\n",
       "      <td>-0.044677</td>\n",
       "      <td>-0.032612</td>\n",
       "      <td>-0.055952</td>\n",
       "      <td>-0.046862</td>\n",
       "      <td>-0.024453</td>\n",
       "      <td>-0.065839</td>\n",
       "      <td>-0.036466</td>\n",
       "      <td>-0.03911</td>\n",
       "      <td>-0.04238</td>\n",
       "      <td>-0.021564</td>\n",
       "      <td>-0.024453</td>\n",
       "      <td>-0.018224</td>\n",
       "      <td>-0.055952</td>\n",
       "      <td>-0.030504</td>\n",
       "      <td>-0.028239</td>\n",
       "      <td>-0.046145</td>\n",
       "      <td>-0.03911</td>\n",
       "      <td>-0.044677</td>\n",
       "      <td>-0.0163</td>\n",
       "      <td>-0.14086</td>\n",
       "      <td>-0.031575</td>\n",
       "      <td>-0.023054</td>\n",
       "      <td>-0.031575</td>\n",
       "      <td>-0.079675</td>\n",
       "      <td>-0.040777</td>\n",
       "      <td>-0.043159</td>\n",
       "      <td>-0.066346</td>\n",
       "      <td>-0.024453</td>\n",
       "      <td>-0.044677</td>\n",
       "      <td>-0.029393</td>\n",
       "      <td>-0.028239</td>\n",
       "      <td>-0.023054</td>\n",
       "      <td>0.303734</td>\n",
       "      <td>-0.035542</td>\n",
       "      <td>-0.021564</td>\n",
       "      <td>0.0</td>\n",
       "    </tr>\n",
       "    <tr>\n",
       "      <th>1</th>\n",
       "      <td>-0.057423</td>\n",
       "      <td>-0.178098</td>\n",
       "      <td>-0.271374</td>\n",
       "      <td>0.605378</td>\n",
       "      <td>-0.198698</td>\n",
       "      <td>-0.306982</td>\n",
       "      <td>-0.215272</td>\n",
       "      <td>-0.021564</td>\n",
       "      <td>-0.944995</td>\n",
       "      <td>-0.165817</td>\n",
       "      <td>-0.198518</td>\n",
       "      <td>-0.116013</td>\n",
       "      <td>-0.068824</td>\n",
       "      <td>-0.103952</td>\n",
       "      <td>-0.134091</td>\n",
       "      <td>-0.122038</td>\n",
       "      <td>-0.185121</td>\n",
       "      <td>-0.212727</td>\n",
       "      <td>-0.448923</td>\n",
       "      <td>-0.106532</td>\n",
       "      <td>1.430641</td>\n",
       "      <td>-0.250168</td>\n",
       "      <td>-0.04238</td>\n",
       "      <td>-0.128063</td>\n",
       "      <td>-0.521600</td>\n",
       "      <td>-0.434898</td>\n",
       "      <td>-0.400643</td>\n",
       "      <td>-0.027036</td>\n",
       "      <td>1.074480</td>\n",
       "      <td>-0.110602</td>\n",
       "      <td>-0.691527</td>\n",
       "      <td>-0.179876</td>\n",
       "      <td>-0.175502</td>\n",
       "      <td>-0.370643</td>\n",
       "      <td>-0.018224</td>\n",
       "      <td>-0.390201</td>\n",
       "      <td>-0.390427</td>\n",
       "      <td>5.44721</td>\n",
       "      <td>-0.220124</td>\n",
       "      <td>-0.267261</td>\n",
       "      <td>...</td>\n",
       "      <td>-0.061093</td>\n",
       "      <td>-0.054745</td>\n",
       "      <td>-0.041586</td>\n",
       "      <td>-0.052248</td>\n",
       "      <td>-0.044677</td>\n",
       "      <td>-0.032612</td>\n",
       "      <td>-0.055952</td>\n",
       "      <td>-0.046862</td>\n",
       "      <td>-0.024453</td>\n",
       "      <td>-0.065839</td>\n",
       "      <td>-0.036466</td>\n",
       "      <td>-0.03911</td>\n",
       "      <td>-0.04238</td>\n",
       "      <td>-0.021564</td>\n",
       "      <td>-0.024453</td>\n",
       "      <td>-0.018224</td>\n",
       "      <td>-0.055952</td>\n",
       "      <td>-0.030504</td>\n",
       "      <td>-0.028239</td>\n",
       "      <td>-0.046145</td>\n",
       "      <td>-0.03911</td>\n",
       "      <td>-0.044677</td>\n",
       "      <td>-0.0163</td>\n",
       "      <td>-0.14086</td>\n",
       "      <td>-0.031575</td>\n",
       "      <td>-0.023054</td>\n",
       "      <td>-0.031575</td>\n",
       "      <td>-0.079675</td>\n",
       "      <td>-0.040777</td>\n",
       "      <td>-0.043159</td>\n",
       "      <td>-0.066346</td>\n",
       "      <td>-0.024453</td>\n",
       "      <td>-0.044677</td>\n",
       "      <td>-0.029393</td>\n",
       "      <td>-0.028239</td>\n",
       "      <td>-0.023054</td>\n",
       "      <td>0.303734</td>\n",
       "      <td>-0.035542</td>\n",
       "      <td>-0.021564</td>\n",
       "      <td>0.0</td>\n",
       "    </tr>\n",
       "    <tr>\n",
       "      <th>2</th>\n",
       "      <td>-0.804794</td>\n",
       "      <td>-0.178098</td>\n",
       "      <td>3.684955</td>\n",
       "      <td>-1.651861</td>\n",
       "      <td>-0.198698</td>\n",
       "      <td>-0.306982</td>\n",
       "      <td>-0.215272</td>\n",
       "      <td>-0.021564</td>\n",
       "      <td>1.395062</td>\n",
       "      <td>-0.165817</td>\n",
       "      <td>-0.198518</td>\n",
       "      <td>-0.116013</td>\n",
       "      <td>-0.068824</td>\n",
       "      <td>-0.103952</td>\n",
       "      <td>-0.134091</td>\n",
       "      <td>-0.122038</td>\n",
       "      <td>5.401885</td>\n",
       "      <td>-0.212727</td>\n",
       "      <td>-0.448923</td>\n",
       "      <td>-0.106532</td>\n",
       "      <td>-0.698988</td>\n",
       "      <td>-0.250168</td>\n",
       "      <td>-0.04238</td>\n",
       "      <td>-0.128063</td>\n",
       "      <td>-0.521600</td>\n",
       "      <td>0.737599</td>\n",
       "      <td>-0.400643</td>\n",
       "      <td>-0.027036</td>\n",
       "      <td>1.074480</td>\n",
       "      <td>-0.110602</td>\n",
       "      <td>-0.691527</td>\n",
       "      <td>-0.179876</td>\n",
       "      <td>-0.175502</td>\n",
       "      <td>-0.370643</td>\n",
       "      <td>-0.018224</td>\n",
       "      <td>-0.390201</td>\n",
       "      <td>-0.390427</td>\n",
       "      <td>-0.18358</td>\n",
       "      <td>-0.220124</td>\n",
       "      <td>-0.267261</td>\n",
       "      <td>...</td>\n",
       "      <td>-0.061093</td>\n",
       "      <td>-0.054745</td>\n",
       "      <td>-0.041586</td>\n",
       "      <td>-0.052248</td>\n",
       "      <td>-0.044677</td>\n",
       "      <td>-0.032612</td>\n",
       "      <td>-0.055952</td>\n",
       "      <td>-0.046862</td>\n",
       "      <td>-0.024453</td>\n",
       "      <td>-0.065839</td>\n",
       "      <td>-0.036466</td>\n",
       "      <td>-0.03911</td>\n",
       "      <td>-0.04238</td>\n",
       "      <td>-0.021564</td>\n",
       "      <td>-0.024453</td>\n",
       "      <td>-0.018224</td>\n",
       "      <td>-0.055952</td>\n",
       "      <td>-0.030504</td>\n",
       "      <td>-0.028239</td>\n",
       "      <td>-0.046145</td>\n",
       "      <td>-0.03911</td>\n",
       "      <td>-0.044677</td>\n",
       "      <td>-0.0163</td>\n",
       "      <td>-0.14086</td>\n",
       "      <td>-0.031575</td>\n",
       "      <td>-0.023054</td>\n",
       "      <td>-0.031575</td>\n",
       "      <td>-0.079675</td>\n",
       "      <td>-0.040777</td>\n",
       "      <td>-0.043159</td>\n",
       "      <td>-0.066346</td>\n",
       "      <td>-0.024453</td>\n",
       "      <td>-0.044677</td>\n",
       "      <td>-0.029393</td>\n",
       "      <td>-0.028239</td>\n",
       "      <td>-0.023054</td>\n",
       "      <td>0.303734</td>\n",
       "      <td>-0.035542</td>\n",
       "      <td>-0.021564</td>\n",
       "      <td>0.0</td>\n",
       "    </tr>\n",
       "    <tr>\n",
       "      <th>3</th>\n",
       "      <td>0.391000</td>\n",
       "      <td>-0.178098</td>\n",
       "      <td>-0.271374</td>\n",
       "      <td>0.605378</td>\n",
       "      <td>-0.198698</td>\n",
       "      <td>-0.306982</td>\n",
       "      <td>-0.215272</td>\n",
       "      <td>-0.021564</td>\n",
       "      <td>-0.277369</td>\n",
       "      <td>-0.165817</td>\n",
       "      <td>-0.198518</td>\n",
       "      <td>-0.116013</td>\n",
       "      <td>-0.068824</td>\n",
       "      <td>-0.103952</td>\n",
       "      <td>-0.134091</td>\n",
       "      <td>-0.122038</td>\n",
       "      <td>-0.185121</td>\n",
       "      <td>-0.212727</td>\n",
       "      <td>-0.448923</td>\n",
       "      <td>-0.106532</td>\n",
       "      <td>-0.698988</td>\n",
       "      <td>-0.250168</td>\n",
       "      <td>-0.04238</td>\n",
       "      <td>-0.128063</td>\n",
       "      <td>1.917177</td>\n",
       "      <td>-0.044066</td>\n",
       "      <td>-0.400643</td>\n",
       "      <td>-0.027036</td>\n",
       "      <td>1.074480</td>\n",
       "      <td>-0.110602</td>\n",
       "      <td>-0.691527</td>\n",
       "      <td>-0.179876</td>\n",
       "      <td>-0.175502</td>\n",
       "      <td>-0.370643</td>\n",
       "      <td>-0.018224</td>\n",
       "      <td>-0.390201</td>\n",
       "      <td>-0.390427</td>\n",
       "      <td>-0.18358</td>\n",
       "      <td>-0.220124</td>\n",
       "      <td>3.741657</td>\n",
       "      <td>...</td>\n",
       "      <td>-0.061093</td>\n",
       "      <td>-0.054745</td>\n",
       "      <td>-0.041586</td>\n",
       "      <td>-0.052248</td>\n",
       "      <td>-0.044677</td>\n",
       "      <td>-0.032612</td>\n",
       "      <td>-0.055952</td>\n",
       "      <td>-0.046862</td>\n",
       "      <td>-0.024453</td>\n",
       "      <td>-0.065839</td>\n",
       "      <td>-0.036466</td>\n",
       "      <td>-0.03911</td>\n",
       "      <td>-0.04238</td>\n",
       "      <td>-0.021564</td>\n",
       "      <td>-0.024453</td>\n",
       "      <td>-0.018224</td>\n",
       "      <td>-0.055952</td>\n",
       "      <td>-0.030504</td>\n",
       "      <td>-0.028239</td>\n",
       "      <td>-0.046145</td>\n",
       "      <td>-0.03911</td>\n",
       "      <td>-0.044677</td>\n",
       "      <td>-0.0163</td>\n",
       "      <td>-0.14086</td>\n",
       "      <td>-0.031575</td>\n",
       "      <td>-0.023054</td>\n",
       "      <td>-0.031575</td>\n",
       "      <td>-0.079675</td>\n",
       "      <td>-0.040777</td>\n",
       "      <td>-0.043159</td>\n",
       "      <td>-0.066346</td>\n",
       "      <td>-0.024453</td>\n",
       "      <td>-0.044677</td>\n",
       "      <td>-0.029393</td>\n",
       "      <td>-0.028239</td>\n",
       "      <td>-0.023054</td>\n",
       "      <td>0.303734</td>\n",
       "      <td>-0.035542</td>\n",
       "      <td>-0.021564</td>\n",
       "      <td>0.0</td>\n",
       "    </tr>\n",
       "    <tr>\n",
       "      <th>4</th>\n",
       "      <td>-0.356371</td>\n",
       "      <td>-0.178098</td>\n",
       "      <td>-0.271374</td>\n",
       "      <td>0.605378</td>\n",
       "      <td>-0.198698</td>\n",
       "      <td>-0.306982</td>\n",
       "      <td>-0.215272</td>\n",
       "      <td>-0.021564</td>\n",
       "      <td>0.085944</td>\n",
       "      <td>6.030732</td>\n",
       "      <td>-0.198518</td>\n",
       "      <td>-0.116013</td>\n",
       "      <td>-0.068824</td>\n",
       "      <td>-0.103952</td>\n",
       "      <td>-0.134091</td>\n",
       "      <td>-0.122038</td>\n",
       "      <td>-0.185121</td>\n",
       "      <td>-0.212727</td>\n",
       "      <td>-0.448923</td>\n",
       "      <td>-0.106532</td>\n",
       "      <td>-0.698988</td>\n",
       "      <td>-0.250168</td>\n",
       "      <td>-0.04238</td>\n",
       "      <td>-0.128063</td>\n",
       "      <td>-0.521600</td>\n",
       "      <td>-1.607395</td>\n",
       "      <td>-0.400643</td>\n",
       "      <td>-0.027036</td>\n",
       "      <td>-0.930683</td>\n",
       "      <td>-0.110602</td>\n",
       "      <td>1.446075</td>\n",
       "      <td>-0.179876</td>\n",
       "      <td>-0.175502</td>\n",
       "      <td>-0.370643</td>\n",
       "      <td>-0.018224</td>\n",
       "      <td>-0.390201</td>\n",
       "      <td>-0.390427</td>\n",
       "      <td>-0.18358</td>\n",
       "      <td>-0.220124</td>\n",
       "      <td>-0.267261</td>\n",
       "      <td>...</td>\n",
       "      <td>-0.061093</td>\n",
       "      <td>-0.054745</td>\n",
       "      <td>-0.041586</td>\n",
       "      <td>-0.052248</td>\n",
       "      <td>-0.044677</td>\n",
       "      <td>-0.032612</td>\n",
       "      <td>-0.055952</td>\n",
       "      <td>-0.046862</td>\n",
       "      <td>-0.024453</td>\n",
       "      <td>-0.065839</td>\n",
       "      <td>-0.036466</td>\n",
       "      <td>-0.03911</td>\n",
       "      <td>-0.04238</td>\n",
       "      <td>-0.021564</td>\n",
       "      <td>-0.024453</td>\n",
       "      <td>-0.018224</td>\n",
       "      <td>-0.055952</td>\n",
       "      <td>-0.030504</td>\n",
       "      <td>-0.028239</td>\n",
       "      <td>-0.046145</td>\n",
       "      <td>-0.03911</td>\n",
       "      <td>-0.044677</td>\n",
       "      <td>-0.0163</td>\n",
       "      <td>-0.14086</td>\n",
       "      <td>-0.031575</td>\n",
       "      <td>-0.023054</td>\n",
       "      <td>-0.031575</td>\n",
       "      <td>-0.079675</td>\n",
       "      <td>-0.040777</td>\n",
       "      <td>-0.043159</td>\n",
       "      <td>-0.066346</td>\n",
       "      <td>-0.024453</td>\n",
       "      <td>-0.044677</td>\n",
       "      <td>-0.029393</td>\n",
       "      <td>-0.028239</td>\n",
       "      <td>-0.023054</td>\n",
       "      <td>0.303734</td>\n",
       "      <td>-0.035542</td>\n",
       "      <td>-0.021564</td>\n",
       "      <td>0.0</td>\n",
       "    </tr>\n",
       "    <tr>\n",
       "      <th>...</th>\n",
       "      <td>...</td>\n",
       "      <td>...</td>\n",
       "      <td>...</td>\n",
       "      <td>...</td>\n",
       "      <td>...</td>\n",
       "      <td>...</td>\n",
       "      <td>...</td>\n",
       "      <td>...</td>\n",
       "      <td>...</td>\n",
       "      <td>...</td>\n",
       "      <td>...</td>\n",
       "      <td>...</td>\n",
       "      <td>...</td>\n",
       "      <td>...</td>\n",
       "      <td>...</td>\n",
       "      <td>...</td>\n",
       "      <td>...</td>\n",
       "      <td>...</td>\n",
       "      <td>...</td>\n",
       "      <td>...</td>\n",
       "      <td>...</td>\n",
       "      <td>...</td>\n",
       "      <td>...</td>\n",
       "      <td>...</td>\n",
       "      <td>...</td>\n",
       "      <td>...</td>\n",
       "      <td>...</td>\n",
       "      <td>...</td>\n",
       "      <td>...</td>\n",
       "      <td>...</td>\n",
       "      <td>...</td>\n",
       "      <td>...</td>\n",
       "      <td>...</td>\n",
       "      <td>...</td>\n",
       "      <td>...</td>\n",
       "      <td>...</td>\n",
       "      <td>...</td>\n",
       "      <td>...</td>\n",
       "      <td>...</td>\n",
       "      <td>...</td>\n",
       "      <td>...</td>\n",
       "      <td>...</td>\n",
       "      <td>...</td>\n",
       "      <td>...</td>\n",
       "      <td>...</td>\n",
       "      <td>...</td>\n",
       "      <td>...</td>\n",
       "      <td>...</td>\n",
       "      <td>...</td>\n",
       "      <td>...</td>\n",
       "      <td>...</td>\n",
       "      <td>...</td>\n",
       "      <td>...</td>\n",
       "      <td>...</td>\n",
       "      <td>...</td>\n",
       "      <td>...</td>\n",
       "      <td>...</td>\n",
       "      <td>...</td>\n",
       "      <td>...</td>\n",
       "      <td>...</td>\n",
       "      <td>...</td>\n",
       "      <td>...</td>\n",
       "      <td>...</td>\n",
       "      <td>...</td>\n",
       "      <td>...</td>\n",
       "      <td>...</td>\n",
       "      <td>...</td>\n",
       "      <td>...</td>\n",
       "      <td>...</td>\n",
       "      <td>...</td>\n",
       "      <td>...</td>\n",
       "      <td>...</td>\n",
       "      <td>...</td>\n",
       "      <td>...</td>\n",
       "      <td>...</td>\n",
       "      <td>...</td>\n",
       "      <td>...</td>\n",
       "      <td>...</td>\n",
       "      <td>...</td>\n",
       "      <td>...</td>\n",
       "      <td>...</td>\n",
       "    </tr>\n",
       "    <tr>\n",
       "      <th>15055</th>\n",
       "      <td>-0.431108</td>\n",
       "      <td>-0.178098</td>\n",
       "      <td>-0.271374</td>\n",
       "      <td>0.605378</td>\n",
       "      <td>-0.198698</td>\n",
       "      <td>-0.306982</td>\n",
       "      <td>-0.215272</td>\n",
       "      <td>-0.021564</td>\n",
       "      <td>0.526407</td>\n",
       "      <td>-0.165817</td>\n",
       "      <td>-0.198518</td>\n",
       "      <td>-0.116013</td>\n",
       "      <td>-0.068824</td>\n",
       "      <td>-0.103952</td>\n",
       "      <td>-0.134091</td>\n",
       "      <td>-0.122038</td>\n",
       "      <td>-0.185121</td>\n",
       "      <td>-0.212727</td>\n",
       "      <td>2.227554</td>\n",
       "      <td>-0.106532</td>\n",
       "      <td>-0.698988</td>\n",
       "      <td>-0.250168</td>\n",
       "      <td>-0.04238</td>\n",
       "      <td>-0.128063</td>\n",
       "      <td>-0.521600</td>\n",
       "      <td>1.128431</td>\n",
       "      <td>-0.400643</td>\n",
       "      <td>-0.027036</td>\n",
       "      <td>-0.930683</td>\n",
       "      <td>-0.110602</td>\n",
       "      <td>1.446075</td>\n",
       "      <td>-0.179876</td>\n",
       "      <td>-0.175502</td>\n",
       "      <td>-0.370643</td>\n",
       "      <td>-0.018224</td>\n",
       "      <td>-0.390201</td>\n",
       "      <td>-0.390427</td>\n",
       "      <td>-0.18358</td>\n",
       "      <td>-0.220124</td>\n",
       "      <td>-0.267261</td>\n",
       "      <td>...</td>\n",
       "      <td>-0.061093</td>\n",
       "      <td>-0.054745</td>\n",
       "      <td>-0.041586</td>\n",
       "      <td>-0.052248</td>\n",
       "      <td>-0.044677</td>\n",
       "      <td>-0.032612</td>\n",
       "      <td>-0.055952</td>\n",
       "      <td>-0.046862</td>\n",
       "      <td>-0.024453</td>\n",
       "      <td>-0.065839</td>\n",
       "      <td>-0.036466</td>\n",
       "      <td>-0.03911</td>\n",
       "      <td>-0.04238</td>\n",
       "      <td>-0.021564</td>\n",
       "      <td>-0.024453</td>\n",
       "      <td>-0.018224</td>\n",
       "      <td>-0.055952</td>\n",
       "      <td>-0.030504</td>\n",
       "      <td>-0.028239</td>\n",
       "      <td>-0.046145</td>\n",
       "      <td>-0.03911</td>\n",
       "      <td>-0.044677</td>\n",
       "      <td>-0.0163</td>\n",
       "      <td>-0.14086</td>\n",
       "      <td>-0.031575</td>\n",
       "      <td>-0.023054</td>\n",
       "      <td>-0.031575</td>\n",
       "      <td>-0.079675</td>\n",
       "      <td>-0.040777</td>\n",
       "      <td>-0.043159</td>\n",
       "      <td>-0.066346</td>\n",
       "      <td>-0.024453</td>\n",
       "      <td>-0.044677</td>\n",
       "      <td>-0.029393</td>\n",
       "      <td>-0.028239</td>\n",
       "      <td>-0.023054</td>\n",
       "      <td>0.303734</td>\n",
       "      <td>-0.035542</td>\n",
       "      <td>-0.021564</td>\n",
       "      <td>0.0</td>\n",
       "    </tr>\n",
       "    <tr>\n",
       "      <th>15056</th>\n",
       "      <td>0.017315</td>\n",
       "      <td>-0.178098</td>\n",
       "      <td>-0.271374</td>\n",
       "      <td>0.605378</td>\n",
       "      <td>-0.198698</td>\n",
       "      <td>-0.306982</td>\n",
       "      <td>-0.215272</td>\n",
       "      <td>-0.021564</td>\n",
       "      <td>0.244316</td>\n",
       "      <td>-0.165817</td>\n",
       "      <td>-0.198518</td>\n",
       "      <td>-0.116013</td>\n",
       "      <td>-0.068824</td>\n",
       "      <td>-0.103952</td>\n",
       "      <td>-0.134091</td>\n",
       "      <td>-0.122038</td>\n",
       "      <td>-0.185121</td>\n",
       "      <td>-0.212727</td>\n",
       "      <td>2.227554</td>\n",
       "      <td>-0.106532</td>\n",
       "      <td>-0.698988</td>\n",
       "      <td>-0.250168</td>\n",
       "      <td>-0.04238</td>\n",
       "      <td>-0.128063</td>\n",
       "      <td>-0.521600</td>\n",
       "      <td>1.128431</td>\n",
       "      <td>2.495988</td>\n",
       "      <td>-0.027036</td>\n",
       "      <td>-0.930683</td>\n",
       "      <td>-0.110602</td>\n",
       "      <td>-0.691527</td>\n",
       "      <td>-0.179876</td>\n",
       "      <td>-0.175502</td>\n",
       "      <td>-0.370643</td>\n",
       "      <td>-0.018224</td>\n",
       "      <td>-0.390201</td>\n",
       "      <td>-0.390427</td>\n",
       "      <td>-0.18358</td>\n",
       "      <td>-0.220124</td>\n",
       "      <td>-0.267261</td>\n",
       "      <td>...</td>\n",
       "      <td>-0.061093</td>\n",
       "      <td>-0.054745</td>\n",
       "      <td>-0.041586</td>\n",
       "      <td>-0.052248</td>\n",
       "      <td>-0.044677</td>\n",
       "      <td>-0.032612</td>\n",
       "      <td>-0.055952</td>\n",
       "      <td>-0.046862</td>\n",
       "      <td>-0.024453</td>\n",
       "      <td>-0.065839</td>\n",
       "      <td>-0.036466</td>\n",
       "      <td>-0.03911</td>\n",
       "      <td>-0.04238</td>\n",
       "      <td>-0.021564</td>\n",
       "      <td>-0.024453</td>\n",
       "      <td>-0.018224</td>\n",
       "      <td>-0.055952</td>\n",
       "      <td>-0.030504</td>\n",
       "      <td>-0.028239</td>\n",
       "      <td>-0.046145</td>\n",
       "      <td>-0.03911</td>\n",
       "      <td>-0.044677</td>\n",
       "      <td>-0.0163</td>\n",
       "      <td>-0.14086</td>\n",
       "      <td>-0.031575</td>\n",
       "      <td>-0.023054</td>\n",
       "      <td>-0.031575</td>\n",
       "      <td>-0.079675</td>\n",
       "      <td>-0.040777</td>\n",
       "      <td>-0.043159</td>\n",
       "      <td>-0.066346</td>\n",
       "      <td>-0.024453</td>\n",
       "      <td>-0.044677</td>\n",
       "      <td>-0.029393</td>\n",
       "      <td>-0.028239</td>\n",
       "      <td>-0.023054</td>\n",
       "      <td>0.303734</td>\n",
       "      <td>-0.035542</td>\n",
       "      <td>-0.021564</td>\n",
       "      <td>0.0</td>\n",
       "    </tr>\n",
       "    <tr>\n",
       "      <th>15057</th>\n",
       "      <td>-0.057423</td>\n",
       "      <td>-0.178098</td>\n",
       "      <td>-0.271374</td>\n",
       "      <td>0.605378</td>\n",
       "      <td>-0.198698</td>\n",
       "      <td>-0.306982</td>\n",
       "      <td>-0.215272</td>\n",
       "      <td>-0.021564</td>\n",
       "      <td>1.755175</td>\n",
       "      <td>-0.165817</td>\n",
       "      <td>-0.198518</td>\n",
       "      <td>-0.116013</td>\n",
       "      <td>-0.068824</td>\n",
       "      <td>-0.103952</td>\n",
       "      <td>-0.134091</td>\n",
       "      <td>-0.122038</td>\n",
       "      <td>-0.185121</td>\n",
       "      <td>-0.212727</td>\n",
       "      <td>2.227554</td>\n",
       "      <td>-0.106532</td>\n",
       "      <td>-0.698988</td>\n",
       "      <td>-0.250168</td>\n",
       "      <td>-0.04238</td>\n",
       "      <td>-0.128063</td>\n",
       "      <td>-0.521600</td>\n",
       "      <td>1.128431</td>\n",
       "      <td>-0.400643</td>\n",
       "      <td>-0.027036</td>\n",
       "      <td>1.074480</td>\n",
       "      <td>-0.110602</td>\n",
       "      <td>-0.691527</td>\n",
       "      <td>-0.179876</td>\n",
       "      <td>-0.175502</td>\n",
       "      <td>-0.370643</td>\n",
       "      <td>-0.018224</td>\n",
       "      <td>-0.390201</td>\n",
       "      <td>-0.390427</td>\n",
       "      <td>-0.18358</td>\n",
       "      <td>-0.220124</td>\n",
       "      <td>-0.267261</td>\n",
       "      <td>...</td>\n",
       "      <td>-0.061093</td>\n",
       "      <td>-0.054745</td>\n",
       "      <td>-0.041586</td>\n",
       "      <td>-0.052248</td>\n",
       "      <td>-0.044677</td>\n",
       "      <td>-0.032612</td>\n",
       "      <td>-0.055952</td>\n",
       "      <td>-0.046862</td>\n",
       "      <td>-0.024453</td>\n",
       "      <td>-0.065839</td>\n",
       "      <td>-0.036466</td>\n",
       "      <td>-0.03911</td>\n",
       "      <td>-0.04238</td>\n",
       "      <td>-0.021564</td>\n",
       "      <td>-0.024453</td>\n",
       "      <td>-0.018224</td>\n",
       "      <td>-0.055952</td>\n",
       "      <td>-0.030504</td>\n",
       "      <td>-0.028239</td>\n",
       "      <td>-0.046145</td>\n",
       "      <td>-0.03911</td>\n",
       "      <td>-0.044677</td>\n",
       "      <td>-0.0163</td>\n",
       "      <td>-0.14086</td>\n",
       "      <td>-0.031575</td>\n",
       "      <td>-0.023054</td>\n",
       "      <td>-0.031575</td>\n",
       "      <td>-0.079675</td>\n",
       "      <td>-0.040777</td>\n",
       "      <td>-0.043159</td>\n",
       "      <td>-0.066346</td>\n",
       "      <td>-0.024453</td>\n",
       "      <td>-0.044677</td>\n",
       "      <td>-0.029393</td>\n",
       "      <td>-0.028239</td>\n",
       "      <td>-0.023054</td>\n",
       "      <td>0.303734</td>\n",
       "      <td>-0.035542</td>\n",
       "      <td>-0.021564</td>\n",
       "      <td>0.0</td>\n",
       "    </tr>\n",
       "    <tr>\n",
       "      <th>15058</th>\n",
       "      <td>0.391000</td>\n",
       "      <td>-0.178098</td>\n",
       "      <td>-0.271374</td>\n",
       "      <td>0.605378</td>\n",
       "      <td>-0.198698</td>\n",
       "      <td>-0.306982</td>\n",
       "      <td>-0.215272</td>\n",
       "      <td>-0.021564</td>\n",
       "      <td>-1.001078</td>\n",
       "      <td>-0.165817</td>\n",
       "      <td>-0.198518</td>\n",
       "      <td>-0.116013</td>\n",
       "      <td>-0.068824</td>\n",
       "      <td>-0.103952</td>\n",
       "      <td>-0.134091</td>\n",
       "      <td>-0.122038</td>\n",
       "      <td>-0.185121</td>\n",
       "      <td>-0.212727</td>\n",
       "      <td>2.227554</td>\n",
       "      <td>-0.106532</td>\n",
       "      <td>-0.698988</td>\n",
       "      <td>-0.250168</td>\n",
       "      <td>-0.04238</td>\n",
       "      <td>-0.128063</td>\n",
       "      <td>-0.521600</td>\n",
       "      <td>1.128431</td>\n",
       "      <td>2.495988</td>\n",
       "      <td>-0.027036</td>\n",
       "      <td>-0.930683</td>\n",
       "      <td>-0.110602</td>\n",
       "      <td>-0.691527</td>\n",
       "      <td>-0.179876</td>\n",
       "      <td>-0.175502</td>\n",
       "      <td>2.698013</td>\n",
       "      <td>-0.018224</td>\n",
       "      <td>-0.390201</td>\n",
       "      <td>-0.390427</td>\n",
       "      <td>-0.18358</td>\n",
       "      <td>-0.220124</td>\n",
       "      <td>-0.267261</td>\n",
       "      <td>...</td>\n",
       "      <td>-0.061093</td>\n",
       "      <td>-0.054745</td>\n",
       "      <td>-0.041586</td>\n",
       "      <td>-0.052248</td>\n",
       "      <td>-0.044677</td>\n",
       "      <td>-0.032612</td>\n",
       "      <td>-0.055952</td>\n",
       "      <td>-0.046862</td>\n",
       "      <td>-0.024453</td>\n",
       "      <td>-0.065839</td>\n",
       "      <td>-0.036466</td>\n",
       "      <td>-0.03911</td>\n",
       "      <td>-0.04238</td>\n",
       "      <td>-0.021564</td>\n",
       "      <td>-0.024453</td>\n",
       "      <td>-0.018224</td>\n",
       "      <td>-0.055952</td>\n",
       "      <td>-0.030504</td>\n",
       "      <td>-0.028239</td>\n",
       "      <td>-0.046145</td>\n",
       "      <td>-0.03911</td>\n",
       "      <td>-0.044677</td>\n",
       "      <td>-0.0163</td>\n",
       "      <td>-0.14086</td>\n",
       "      <td>-0.031575</td>\n",
       "      <td>-0.023054</td>\n",
       "      <td>-0.031575</td>\n",
       "      <td>-0.079675</td>\n",
       "      <td>-0.040777</td>\n",
       "      <td>-0.043159</td>\n",
       "      <td>-0.066346</td>\n",
       "      <td>-0.024453</td>\n",
       "      <td>-0.044677</td>\n",
       "      <td>-0.029393</td>\n",
       "      <td>-0.028239</td>\n",
       "      <td>-0.023054</td>\n",
       "      <td>0.303734</td>\n",
       "      <td>-0.035542</td>\n",
       "      <td>-0.021564</td>\n",
       "      <td>0.0</td>\n",
       "    </tr>\n",
       "    <tr>\n",
       "      <th>15059</th>\n",
       "      <td>-0.281634</td>\n",
       "      <td>-0.178098</td>\n",
       "      <td>-0.271374</td>\n",
       "      <td>-1.651861</td>\n",
       "      <td>5.032760</td>\n",
       "      <td>-0.306982</td>\n",
       "      <td>-0.215272</td>\n",
       "      <td>-0.021564</td>\n",
       "      <td>-0.070716</td>\n",
       "      <td>-0.165817</td>\n",
       "      <td>-0.198518</td>\n",
       "      <td>-0.116013</td>\n",
       "      <td>-0.068824</td>\n",
       "      <td>-0.103952</td>\n",
       "      <td>-0.134091</td>\n",
       "      <td>-0.122038</td>\n",
       "      <td>-0.185121</td>\n",
       "      <td>-0.212727</td>\n",
       "      <td>2.227554</td>\n",
       "      <td>-0.106532</td>\n",
       "      <td>-0.698988</td>\n",
       "      <td>-0.250168</td>\n",
       "      <td>-0.04238</td>\n",
       "      <td>-0.128063</td>\n",
       "      <td>-0.521600</td>\n",
       "      <td>1.128431</td>\n",
       "      <td>-0.400643</td>\n",
       "      <td>-0.027036</td>\n",
       "      <td>1.074480</td>\n",
       "      <td>-0.110602</td>\n",
       "      <td>-0.691527</td>\n",
       "      <td>-0.179876</td>\n",
       "      <td>-0.175502</td>\n",
       "      <td>-0.370643</td>\n",
       "      <td>-0.018224</td>\n",
       "      <td>-0.390201</td>\n",
       "      <td>2.561297</td>\n",
       "      <td>-0.18358</td>\n",
       "      <td>-0.220124</td>\n",
       "      <td>-0.267261</td>\n",
       "      <td>...</td>\n",
       "      <td>-0.061093</td>\n",
       "      <td>-0.054745</td>\n",
       "      <td>-0.041586</td>\n",
       "      <td>-0.052248</td>\n",
       "      <td>-0.044677</td>\n",
       "      <td>-0.032612</td>\n",
       "      <td>-0.055952</td>\n",
       "      <td>-0.046862</td>\n",
       "      <td>-0.024453</td>\n",
       "      <td>-0.065839</td>\n",
       "      <td>-0.036466</td>\n",
       "      <td>-0.03911</td>\n",
       "      <td>-0.04238</td>\n",
       "      <td>-0.021564</td>\n",
       "      <td>-0.024453</td>\n",
       "      <td>-0.018224</td>\n",
       "      <td>-0.055952</td>\n",
       "      <td>-0.030504</td>\n",
       "      <td>-0.028239</td>\n",
       "      <td>-0.046145</td>\n",
       "      <td>-0.03911</td>\n",
       "      <td>-0.044677</td>\n",
       "      <td>-0.0163</td>\n",
       "      <td>-0.14086</td>\n",
       "      <td>-0.031575</td>\n",
       "      <td>-0.023054</td>\n",
       "      <td>-0.031575</td>\n",
       "      <td>-0.079675</td>\n",
       "      <td>-0.040777</td>\n",
       "      <td>-0.043159</td>\n",
       "      <td>-0.066346</td>\n",
       "      <td>-0.024453</td>\n",
       "      <td>-0.044677</td>\n",
       "      <td>-0.029393</td>\n",
       "      <td>-0.028239</td>\n",
       "      <td>-0.023054</td>\n",
       "      <td>0.303734</td>\n",
       "      <td>-0.035542</td>\n",
       "      <td>-0.021564</td>\n",
       "      <td>0.0</td>\n",
       "    </tr>\n",
       "  </tbody>\n",
       "</table>\n",
       "<p>15060 rows × 104 columns</p>\n",
       "</div>"
      ],
      "text/plain": [
       "            age  ...  native-country_Holand-Netherlands\n",
       "0     -1.029005  ...                                0.0\n",
       "1     -0.057423  ...                                0.0\n",
       "2     -0.804794  ...                                0.0\n",
       "3      0.391000  ...                                0.0\n",
       "4     -0.356371  ...                                0.0\n",
       "...         ...  ...                                ...\n",
       "15055 -0.431108  ...                                0.0\n",
       "15056  0.017315  ...                                0.0\n",
       "15057 -0.057423  ...                                0.0\n",
       "15058  0.391000  ...                                0.0\n",
       "15059 -0.281634  ...                                0.0\n",
       "\n",
       "[15060 rows x 104 columns]"
      ]
     },
     "metadata": {},
     "execution_count": 26
    }
   ]
  },
  {
   "cell_type": "code",
   "metadata": {
    "id": "kvei6_AwhSqC"
   },
   "source": [
    "weighted_dataset_adult = normalized_dataset_adult.copy(deep=True)\n",
    "weights = features_importance(normalized_dataset_adult, labels_adult_75, criterion='gini', splitter='best')\n",
    "weight_features(weighted_dataset_adult, weights)\n",
    "\n",
    "\n",
    "weighted_test_dataset_adult = normalized_test_dataset_adult.copy(deep=True)\n",
    "weight_features(weighted_test_dataset_adult, weights)"
   ],
   "execution_count": 32,
   "outputs": []
  },
  {
   "cell_type": "markdown",
   "metadata": {
    "id": "UElk887whiUS"
   },
   "source": [
    "#### Selecting best hyperparameter"
   ]
  },
  {
   "cell_type": "markdown",
   "source": [
    "###### Cost function  = gini"
   ],
   "metadata": {
    "collapsed": false
   }
  },
  {
   "cell_type": "code",
   "metadata": {
    "id": "eBxF9uTRhiUT",
    "colab": {
     "base_uri": "https://localhost:8080/",
     "height": 638
    },
    "outputId": "e8c0f556-88a8-43af-9499-9d69d9299dd1"
   },
   "source": [
    "if(USE_IMAGES_INSTEAD_OF_COMPUTING):\n",
    "    display(Image(\"./img/decision_tree_gini.png\"))\n",
    "else:\n",
    "    (mean_trainings, std_trainings, mean_validations, std_validations) = decision_tree_influence_fixed_datasize(list(range(10, 30)), dataset_adult_75, labels_adult_75, N, loss_=\"manhattan\",\n",
    "                                         criterion='gini', folds = 5, show_time=False, visualize=True)\n",
    "    print(f\"Best result is {max(mean_validations)} for depth = {mean_validations.index(max(mean_validations)) + 1}\")"
   ],
   "execution_count": 29,
   "outputs": [
    {
     "output_type": "display_data",
     "data": {
      "image/png": "[encoded data removed]",
      "text/plain": [
       "<Figure size 1080x720 with 1 Axes>"
      ]
     },
     "metadata": {
      "needs_background": "light"
     }
    },
    {
     "output_type": "stream",
     "name": "stdout",
     "text": [
      "Best result is 0.937756837688253 for depth = 19\n"
     ]
    }
   ]
  },
  {
   "cell_type": "markdown",
   "metadata": {
    "id": "-4aUJZG7ipBd",
    "pycharm": {
     "name": "#%% md\n"
    }
   },
   "source": [
    "###### Cost function = gini & weighted features"
   ]
  },
  {
   "cell_type": "code",
   "metadata": {
    "colab": {
     "base_uri": "https://localhost:8080/",
     "height": 638
    },
    "id": "CfyLu9D6g-Ja",
    "outputId": "e621daca-fddf-4ed0-e70d-8709f4cb4cbf"
   },
   "source": [
    "if(USE_IMAGES_INSTEAD_OF_COMPUTING):\n",
    "    display(Image(\"./img/decision_tree_gini_weighted.png\"))\n",
    "else:\n",
    "    (mean_trainings, std_trainings, mean_validations, std_validations) =decision_tree_influence_fixed_datasize(list(range(10, 30)), weighted_dataset_adult, labels_adult_75, N, loss_=\"manhattan\",\n",
    "                                         criterion='gini', folds = 5, show_time=False, visualize=True)\n",
    "\n",
    "    print(f\"Best result is {max(mean_validations)} for depth = {mean_validations.index(max(mean_validations)) + 1}\")"
   ],
   "execution_count": 33,
   "outputs": [
    {
     "output_type": "display_data",
     "data": {
      "image/png": "[encoded data removed]",
      "text/plain": [
       "<Figure size 1080x720 with 1 Axes>"
      ]
     },
     "metadata": {
      "needs_background": "light"
     }
    },
    {
     "output_type": "stream",
     "name": "stdout",
     "text": [
      "Best result is 0.9427525535999532 for depth = 20\n"
     ]
    }
   ]
  },
  {
   "cell_type": "markdown",
   "metadata": {
    "id": "ulpGGPpAizxN"
   },
   "source": [
    "###### Cost function = entropy"
   ]
  },
  {
   "cell_type": "code",
   "metadata": {
    "colab": {
     "base_uri": "https://localhost:8080/",
     "height": 638
    },
    "id": "2M6PFYGki3_p",
    "outputId": "22dd0abc-d98e-4eaf-9834-fc32875e84f9"
   },
   "source": [
    "if(USE_IMAGES_INSTEAD_OF_COMPUTING):\n",
    "    display(Image(\"./img/decision_tree_entropy.png\"))\n",
    "else:\n",
    "    (mean_trainings, std_trainings, mean_validations, std_validations) = decision_tree_influence_fixed_datasize(list(range(10, 30)), dataset_adult_75, labels_adult_75, N, loss_=\"manhattan\",\n",
    "                                         criterion='entropy', folds = 5, show_time=False, visualize=True)\n",
    "    print(f\"Best result is {max(mean_validations)} for depth = {mean_validations.index(max(mean_validations)) + 1}\")"
   ],
   "execution_count": 36,
   "outputs": [
    {
     "output_type": "display_data",
     "data": {
      "image/png": "[encoded data removed]",
      "text/plain": [
       "<Figure size 1080x720 with 1 Axes>"
      ]
     },
     "metadata": {
      "needs_background": "light"
     }
    },
    {
     "output_type": "stream",
     "name": "stdout",
     "text": [
      "Best result is 0.9335131575733595 for depth = 18\n"
     ]
    }
   ]
  },
  {
   "cell_type": "markdown",
   "metadata": {
    "id": "NfSEKGkpjUJt"
   },
   "source": [
    "###### Cost function = entropy & weighted features"
   ]
  },
  {
   "cell_type": "code",
   "metadata": {
    "colab": {
     "base_uri": "https://localhost:8080/",
     "height": 638
    },
    "id": "mrZ6ppFLjWnM",
    "outputId": "dc87aab3-6ce5-4a20-ed55-228f2d73910c"
   },
   "source": [
    "if(USE_IMAGES_INSTEAD_OF_COMPUTING):\n",
    "    display(Image(\"./img/decision_tree_entropy_weighted.png\"))\n",
    "else:\n",
    "    (mean_trainings, std_trainings, mean_validations, std_validations) =decision_tree_influence_fixed_datasize(list(range(10, 30)), weighted_dataset_adult, labels_adult_75, N, loss_=\"manhattan\",\n",
    "                                         criterion='entropy', folds = 5, show_time=False, visualize=True)\n",
    "\n",
    "    print(f\"Best result is {max(mean_validations)} for depth = {mean_validations.index(max(mean_validations)) + 1}\")"
   ],
   "execution_count": 37,
   "outputs": [
    {
     "output_type": "display_data",
     "data": {
      "image/png": "[encoded data removed]",
      "text/plain": [
       "<Figure size 1080x720 with 1 Axes>"
      ]
     },
     "metadata": {
      "needs_background": "light"
     }
    },
    {
     "output_type": "stream",
     "name": "stdout",
     "text": [
      "Best result is 0.9361656286179054 for depth = 20\n"
     ]
    }
   ]
  },
  {
   "cell_type": "markdown",
   "metadata": {
    "id": "9ANuC-VchiUT"
   },
   "source": [
    "##### Results on dataset 1"
   ]
  },
  {
   "cell_type": "markdown",
   "metadata": {
    "id": "9xo-tlAtmz2S"
   },
   "source": [
    "###### cost function = gini"
   ]
  },
  {
   "cell_type": "code",
   "metadata": {
    "id": "G0H7qEKCl7YS"
   },
   "source": [
    "depth1 = 19"
   ],
   "execution_count": 39,
   "outputs": []
  },
  {
   "cell_type": "code",
   "metadata": {
    "id": "IuVZNnIwlwv7"
   },
   "source": [
    "predicted_labels1 = decision_tree(dataset_adult_75, labels_adult_75, test_dataset_adult, max_depth=depth1, criterion = \"gini\")"
   ],
   "execution_count": 41,
   "outputs": []
  },
  {
   "cell_type": "code",
   "metadata": {
    "colab": {
     "base_uri": "https://localhost:8080/",
     "height": 234
    },
    "id": "zKnB3Q1RmNvE",
    "outputId": "a66f1f8e-fab0-4ed2-bd57-70a83b4e3340"
   },
   "source": [
    "precision1 = (len(test_labels_adult) - error(predicted_labels1, test_labels_adult))/len(test_labels_adult)\n",
    "print(f\"Precision on the test dataset is {precision1}\")\n",
    "disp = ConfusionMatrixDisplay(confusion_matrix(test_labels_adult, predicted_labels1))\n",
    "disp.plot()"
   ],
   "execution_count": 42,
   "outputs": [
    {
     "output_type": "stream",
     "name": "stdout",
     "text": [
      "Precision on the test dataset is 0.9964694860456684\n"
     ]
    },
    {
     "output_type": "error",
     "ename": "TypeError",
     "evalue": "ignored",
     "traceback": [
      "\u001b[0;31m---------------------------------------------------------------------------\u001b[0m",
      "\u001b[0;31mTypeError\u001b[0m                                 Traceback (most recent call last)",
      "\u001b[0;32m<ipython-input-42-2ce3e1ebed42>\u001b[0m in \u001b[0;36m<module>\u001b[0;34m()\u001b[0m\n\u001b[1;32m      1\u001b[0m \u001b[0mprecision1\u001b[0m \u001b[0;34m=\u001b[0m \u001b[0;34m(\u001b[0m\u001b[0mlen\u001b[0m\u001b[0;34m(\u001b[0m\u001b[0mtest_labels_adult\u001b[0m\u001b[0;34m)\u001b[0m \u001b[0;34m-\u001b[0m \u001b[0merror\u001b[0m\u001b[0;34m(\u001b[0m\u001b[0mpredicted_labels1\u001b[0m\u001b[0;34m,\u001b[0m \u001b[0mtest_labels_adult\u001b[0m\u001b[0;34m)\u001b[0m\u001b[0;34m)\u001b[0m\u001b[0;34m/\u001b[0m\u001b[0mlen\u001b[0m\u001b[0;34m(\u001b[0m\u001b[0mtest_labels_adult\u001b[0m\u001b[0;34m)\u001b[0m\u001b[0;34m\u001b[0m\u001b[0;34m\u001b[0m\u001b[0m\n\u001b[1;32m      2\u001b[0m \u001b[0mprint\u001b[0m\u001b[0;34m(\u001b[0m\u001b[0;34mf\"Precision on the test dataset is {precision1}\"\u001b[0m\u001b[0;34m)\u001b[0m\u001b[0;34m\u001b[0m\u001b[0;34m\u001b[0m\u001b[0m\n\u001b[0;32m----> 3\u001b[0;31m \u001b[0mdisp\u001b[0m \u001b[0;34m=\u001b[0m \u001b[0mConfusionMatrixDisplay\u001b[0m\u001b[0;34m(\u001b[0m\u001b[0mconfusion_matrix\u001b[0m\u001b[0;34m(\u001b[0m\u001b[0mtest_labels_adult\u001b[0m\u001b[0;34m,\u001b[0m \u001b[0mpredicted_labels1\u001b[0m\u001b[0;34m)\u001b[0m\u001b[0;34m)\u001b[0m\u001b[0;34m\u001b[0m\u001b[0;34m\u001b[0m\u001b[0m\n\u001b[0m\u001b[1;32m      4\u001b[0m \u001b[0mdisp\u001b[0m\u001b[0;34m.\u001b[0m\u001b[0mplot\u001b[0m\u001b[0;34m(\u001b[0m\u001b[0;34m)\u001b[0m\u001b[0;34m\u001b[0m\u001b[0;34m\u001b[0m\u001b[0m\n",
      "\u001b[0;31mTypeError\u001b[0m: __init__() missing 1 required positional argument: 'display_labels'"
     ]
    }
   ]
  },
  {
   "cell_type": "markdown",
   "metadata": {
    "id": "rb7uz-_km374"
   },
   "source": [
    "###### cost function = gini & weighted feature"
   ]
  },
  {
   "cell_type": "code",
   "metadata": {
    "id": "Vv6u4RGfm7vX"
   },
   "source": [
    "depth2 = 20"
   ],
   "execution_count": 53,
   "outputs": []
  },
  {
   "cell_type": "code",
   "metadata": {
    "id": "T4M1RdnXnIA3"
   },
   "source": [
    "predicted_labels2 = decision_tree(weighted_dataset_adult, labels_adult_75, weighted_test_dataset_adult, max_depth=depth2, criterion='gini')"
   ],
   "execution_count": 54,
   "outputs": []
  },
  {
   "cell_type": "code",
   "metadata": {
    "colab": {
     "base_uri": "https://localhost:8080/",
     "height": 200
    },
    "id": "ebbozGRgnjoL",
    "outputId": "e1336a0f-89be-42ed-c06e-67cc20608e37"
   },
   "source": [
    "precision2 = (len(test_labels_adult) - error(predicted_labels2, test_labels_adult))/len(test_labels_adult)\n",
    "print(f\"Precision on the test dataset is {precision2}\"\")\n",
    "ConfusionMatrixDisplay.from_predictions(test_labels_adult, predicted_labels2)"
   ],
   "execution_count": 56,
   "outputs": [
    {
     "output_type": "error",
     "ename": "AttributeError",
     "evalue": "ignored",
     "traceback": [
      "\u001b[0;31m---------------------------------------------------------------------------\u001b[0m",
      "\u001b[0;31mAttributeError\u001b[0m                            Traceback (most recent call last)",
      "\u001b[0;32m<ipython-input-56-1277007f60d6>\u001b[0m in \u001b[0;36m<module>\u001b[0;34m()\u001b[0m\n\u001b[1;32m      1\u001b[0m \u001b[0mprecision2\u001b[0m \u001b[0;34m=\u001b[0m \u001b[0;34m(\u001b[0m\u001b[0mlen\u001b[0m\u001b[0;34m(\u001b[0m\u001b[0mtest_labels_adult\u001b[0m\u001b[0;34m)\u001b[0m \u001b[0;34m-\u001b[0m \u001b[0merror\u001b[0m\u001b[0;34m(\u001b[0m\u001b[0mpredicted_labels2\u001b[0m\u001b[0;34m,\u001b[0m \u001b[0mtest_labels_adult\u001b[0m\u001b[0;34m)\u001b[0m\u001b[0;34m)\u001b[0m\u001b[0;34m/\u001b[0m\u001b[0mlen\u001b[0m\u001b[0;34m(\u001b[0m\u001b[0mtest_labels_adult\u001b[0m\u001b[0;34m)\u001b[0m\u001b[0;34m\u001b[0m\u001b[0;34m\u001b[0m\u001b[0m\n\u001b[1;32m      2\u001b[0m \u001b[0;31m#print(f\"Precision on the test dataset is {precision2}\"\")\u001b[0m\u001b[0;34m\u001b[0m\u001b[0;34m\u001b[0m\u001b[0;34m\u001b[0m\u001b[0m\n\u001b[0;32m----> 3\u001b[0;31m \u001b[0mConfusionMatrixDisplay\u001b[0m\u001b[0;34m.\u001b[0m\u001b[0mfrom_predictions\u001b[0m\u001b[0;34m(\u001b[0m\u001b[0mtest_labels_adult\u001b[0m\u001b[0;34m,\u001b[0m \u001b[0mpredicted_labels2\u001b[0m\u001b[0;34m)\u001b[0m\u001b[0;34m\u001b[0m\u001b[0;34m\u001b[0m\u001b[0m\n\u001b[0m",
      "\u001b[0;31mAttributeError\u001b[0m: type object 'ConfusionMatrixDisplay' has no attribute 'from_predictions'"
     ]
    }
   ]
  },
  {
   "cell_type": "markdown",
   "source": [
    "###### cost function = entropy"
   ],
   "metadata": {
    "collapsed": false
   }
  },
  {
   "cell_type": "code",
   "execution_count": null,
   "outputs": [],
   "source": [
    "depth3 = 20"
   ],
   "metadata": {
    "collapsed": false,
    "pycharm": {
     "name": "#%%\n"
    }
   }
  },
  {
   "cell_type": "code",
   "execution_count": null,
   "outputs": [],
   "source": [
    "predicted_labels2 = decision_tree(weighted_dataset_adult, labels_adult_75, weighted_test_dataset_adult, max_depth=depth2, criterion='gini')"
   ],
   "metadata": {
    "collapsed": false,
    "pycharm": {
     "name": "#%%\n"
    }
   }
  },
  {
   "cell_type": "code",
   "execution_count": null,
   "outputs": [],
   "source": [
    "precision2 = (len(test_labels_adult) - error(predicted_labels2, test_labels_adult))/len(test_labels_adult)\n",
    "print(f\"Precision on the test dataset is {precision2}\"\")\n",
    "ConfusionMatrixDisplay.from_predictions(test_labels_adult, predicted_labels2)"
   ],
   "metadata": {
    "collapsed": false,
    "pycharm": {
     "name": "#%%\n"
    }
   }
  },
  {
   "cell_type": "code",
   "metadata": {
    "id": "j8Y6ADh_hiUT"
   },
   "source": [
    "# Print precision and confusion matrix on test dataset"
   ],
   "execution_count": 38,
   "outputs": []
  },
  {
   "cell_type": "markdown",
   "metadata": {
    "id": "lnGbkZlrhiUU"
   },
   "source": [
    "### Decision tree results for dataset 2"
   ]
  },
  {
   "cell_type": "markdown",
   "metadata": {
    "id": "XcFCI5xkhiUU"
   },
   "source": [
    "##### Selecting best hyperparameter"
   ]
  },
  {
   "cell_type": "code",
   "metadata": {
    "id": "CMWoniQkhiUU"
   },
   "source": [
    "#TO DO plot precision depending on max depth, one line for each cost function, selecting simplest best model"
   ],
   "execution_count": null,
   "outputs": []
  },
  {
   "cell_type": "markdown",
   "metadata": {
    "id": "Hpd4LWoghiUU"
   },
   "source": [
    "#### Results on dataset 2"
   ]
  },
  {
   "cell_type": "code",
   "metadata": {
    "id": "4WBxebSAhiUV"
   },
   "source": [
    "# Print precision and confusion matrix on test dataset"
   ],
   "execution_count": null,
   "outputs": []
  },
  {
   "cell_type": "markdown",
   "metadata": {
    "id": "kOE1h2AL-Dpr"
   },
   "source": [
    "# Influence of dataset's size"
   ]
  },
  {
   "cell_type": "markdown",
   "metadata": {
    "id": "XzYZsoQlhiUV"
   },
   "source": [
    "Now we study the influence of the size of the training / validation dataset on the training / validation errors."
   ]
  },
  {
   "cell_type": "code",
   "metadata": {
    "id": "ZHaJgF0ohiUV"
   },
   "source": [
    "data_size_influence(knn, dataset, labels, 50, 10000, 1000, loss_=\"manhattan\", folds = 5, algo_kwargs={\"n_neighbors\":3}, show_time=True, visualize=True)\n",
    "pass"
   ],
   "execution_count": null,
   "outputs": []
  },
  {
   "cell_type": "code",
   "metadata": {
    "id": "KF22sDhFhiUX"
   },
   "source": [
    "data_size_influence(decision_tree, dataset, labels, 50, 10000, 1000, loss_=\"manhattan\", folds = 5, algo_kwargs={}, show_time=True, visualize=True)\n",
    "pass\n"
   ],
   "execution_count": null,
   "outputs": []
  },
  {
   "cell_type": "code",
   "metadata": {
    "id": "WuRHWlRBhiUY"
   },
   "source": [
    ""
   ],
   "execution_count": null,
   "outputs": []
  },
  {
   "cell_type": "code",
   "metadata": {
    "id": "5yHI7yS5hiUY"
   },
   "source": [
    ""
   ],
   "execution_count": null,
   "outputs": []
  }
 ]
}
